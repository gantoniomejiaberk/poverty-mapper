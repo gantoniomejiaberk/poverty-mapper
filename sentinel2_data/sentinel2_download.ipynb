{
 "cells": [
  {
   "cell_type": "code",
   "execution_count": null,
   "metadata": {},
   "outputs": [],
   "source": [
    "%pip install geopandas\n",
    "%pip install rasterio\n",
    "%pip install utm"
   ]
  },
  {
   "cell_type": "code",
   "execution_count": null,
   "metadata": {},
   "outputs": [],
   "source": [
    "import boto3\n",
    "import sagemaker\n",
    "from sagemaker import get_execution_role\n",
    "import geopandas as gpd\n",
    "from shapely.geometry.polygon import Polygon\n",
    "import timeit\n",
    "import shutil\n",
    "import rasterio\n",
    "import os\n",
    "\n",
    "from sentinel2_download import to_zones, get_all_zones, get_sentinel_composite_data, remove_from_sagemaker, list_s3_files"
   ]
  },
  {
   "cell_type": "code",
   "execution_count": null,
   "metadata": {},
   "outputs": [],
   "source": [
    "# Set session and s3 connection objects\n",
    "sess = sagemaker.Session()\n",
    "role = get_execution_role()\n",
    "conn = boto3.client(\"s3\")\n",
    "bucket = \"w210-poverty-mapper\"\n",
    "s3_path = \"sentinel2_composite/raw_data\""
   ]
  },
  {
   "cell_type": "code",
   "execution_count": null,
   "metadata": {},
   "outputs": [],
   "source": [
    "# Load country shapes\n",
    "country_shapes = gpd.read_file(\"s3://w210-poverty-mapper/shape_files/raw_data/ipums_world_shapes/world_countries_2020.shp\")"
   ]
  },
  {
   "cell_type": "code",
   "execution_count": null,
   "metadata": {},
   "outputs": [],
   "source": [
    "# Get unique UTM zones\n",
    "bd_list = [\"Bangladesh\"]\n",
    "np_list = [\"Nepal\"]\n",
    "ph_list = [\"Philippines\"] # no 52Q in data\n",
    "tj_list = [\"Tajikistan\"] \n",
    "tl_list = [\"Timor Leste\"]\n",
    "full_country_list = [\"Bangladesh\", \"Nepal\", \"Philippines\", \"Tajikistan\", \"Timor Leste\"]\n",
    "\n",
    "for country_list in [bd_list, np_list, ph_list, tj_list, tl_list]:\n",
    "    zone_list = get_all_zones(country_list, country_shapes)\n",
    "    print(country_list[0], zone_list)\n",
    "\n",
    "full_zone_list = get_all_zones(full_country_list, country_shapes)\n",
    "print(\"De-duplicated Full List\", full_zone_list)"
   ]
  },
  {
   "cell_type": "code",
   "execution_count": null,
   "metadata": {},
   "outputs": [],
   "source": [
    "# Get data for all country zones in utm dictionary\n",
    "get_sentinel_composite_data(full_zone_list[:-1])"
   ]
  },
  {
   "cell_type": "code",
   "execution_count": null,
   "metadata": {},
   "outputs": [],
   "source": [
    "# Move directories to S3\n",
    "move_to_s3(full_zone_list[:-1])"
   ]
  },
  {
   "cell_type": "code",
   "execution_count": null,
   "metadata": {},
   "outputs": [],
   "source": [
    "# Check files in s3\n",
    "list_s3_files(bucket, s3_path)"
   ]
  },
  {
   "cell_type": "code",
   "execution_count": null,
   "metadata": {},
   "outputs": [],
   "source": [
    "# Remove from sagemaker \"root\"\n",
    "remove_from_sagemaker(full_zone_list[:-1])"
   ]
  },
  {
   "cell_type": "code",
   "execution_count": null,
   "metadata": {},
   "outputs": [],
   "source": [
    "# Example - delete s3 directory\n",
    "#s3 = boto3.resource(\"s3\")\n",
    "#s3_bucket = s3.Bucket(\"w210-poverty-mapper\")\n",
    "#for obj in s3_bucket.objects.filter(Prefix=\"directory_path\"):\n",
    "#    s3.Object(s3_bucket.name,obj.key).delete()"
   ]
  }
 ],
 "metadata": {
  "instance_type": "ml.t3.medium",
  "kernelspec": {
   "display_name": "Python 3 (Data Science)",
   "language": "python",
   "name": "python3__SAGEMAKER_INTERNAL__arn:aws:sagemaker:us-east-1:081325390199:image/datascience-1.0"
  },
  "language_info": {
   "codemirror_mode": {
    "name": "ipython",
    "version": 3
   },
   "file_extension": ".py",
   "mimetype": "text/x-python",
   "name": "python",
   "nbconvert_exporter": "python",
   "pygments_lexer": "ipython3",
   "version": "3.7.10"
  }
 },
 "nbformat": 4,
 "nbformat_minor": 4
}
