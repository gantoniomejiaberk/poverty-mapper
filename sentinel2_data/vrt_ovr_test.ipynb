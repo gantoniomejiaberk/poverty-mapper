{
 "cells": [
  {
   "cell_type": "code",
   "execution_count": 1,
   "metadata": {},
   "outputs": [],
   "source": [
    "#%pip install rasterio\n",
    "\n",
    "import rasterio"
   ]
  },
  {
   "cell_type": "markdown",
   "metadata": {},
   "source": [
    "Below, I load an .ovr file from zone 45R and the .tif files for the upper left and bottom right corners of the same zone. I am using one of the lower resolution .ovr pyramid files for efficient processing. "
   ]
  },
  {
   "cell_type": "code",
   "execution_count": 2,
   "metadata": {},
   "outputs": [],
   "source": [
    "# Load 45R ovr file\n",
    "ovr_filename = \"s3://w210-poverty-mapper/sentinel2_composite/raw_data/45R/45R_UTM.vrt.ovr.ovr.ovr.ovr.ovr.ovr.ovr\"\n",
    "ovr = rasterio.open(ovr_filename)"
   ]
  },
  {
   "cell_type": "code",
   "execution_count": 3,
   "metadata": {},
   "outputs": [],
   "source": [
    "# Load top left tif from corresponding ovr file\n",
    "tl_tif_filename = \"s3://w210-poverty-mapper/sentinel2_composite/raw_data/45R/S2_percentile_30_UTM_404-0000069888-0000000000.tif\"\n",
    "tl_tif = rasterio.open(tl_tif_filename)"
   ]
  },
  {
   "cell_type": "code",
   "execution_count": 4,
   "metadata": {},
   "outputs": [],
   "source": [
    "# Load bottom right tif from corresponding ovr file\n",
    "br_tif_filename = \"s3://w210-poverty-mapper/sentinel2_composite/raw_data/45R/S2_percentile_30_UTM_404-0000000000-0000046592.tif\"\n",
    "br_tif = rasterio.open(br_tif_filename)"
   ]
  },
  {
   "cell_type": "markdown",
   "metadata": {},
   "source": [
    "The files have the same embedded coordinate reference system (crs)."
   ]
  },
  {
   "cell_type": "code",
   "execution_count": 5,
   "metadata": {},
   "outputs": [
    {
     "data": {
      "text/plain": [
       "CRS.from_epsg(32645)"
      ]
     },
     "execution_count": 5,
     "metadata": {},
     "output_type": "execute_result"
    }
   ],
   "source": [
    "# Print ovr crs\n",
    "ovr.crs"
   ]
  },
  {
   "cell_type": "code",
   "execution_count": 6,
   "metadata": {},
   "outputs": [
    {
     "data": {
      "text/plain": [
       "CRS.from_epsg(32645)"
      ]
     },
     "execution_count": 6,
     "metadata": {},
     "output_type": "execute_result"
    }
   ],
   "source": [
    "# Print top left tif crs\n",
    "tl_tif.crs"
   ]
  },
  {
   "cell_type": "code",
   "execution_count": 7,
   "metadata": {},
   "outputs": [
    {
     "data": {
      "text/plain": [
       "CRS.from_epsg(32645)"
      ]
     },
     "execution_count": 7,
     "metadata": {},
     "output_type": "execute_result"
    }
   ],
   "source": [
    "# Print bottom right tif crs\n",
    "br_tif.crs"
   ]
  },
  {
   "cell_type": "markdown",
   "metadata": {},
   "source": [
    "You can see below that the top left corner of the .ovr bounding box aligns with the top left corner of the top left .tif file and the bottom right corner of the .ovr file aligns with the bottom right corner of the bottom right .tif file."
   ]
  },
  {
   "cell_type": "code",
   "execution_count": 8,
   "metadata": {},
   "outputs": [
    {
     "data": {
      "text/plain": [
       "BoundingBox(left=194770.0, bottom=2654220.0, right=805230.0, top=3544380.0)"
      ]
     },
     "execution_count": 8,
     "metadata": {},
     "output_type": "execute_result"
    }
   ],
   "source": [
    "# Check ovr bounds\n",
    "ovr.bounds"
   ]
  },
  {
   "cell_type": "code",
   "execution_count": 9,
   "metadata": {},
   "outputs": [
    {
     "data": {
      "text/plain": [
       "BoundingBox(left=194770.0, bottom=3353100.0, right=427730.0, top=3544380.0)"
      ]
     },
     "execution_count": 9,
     "metadata": {},
     "output_type": "execute_result"
    }
   ],
   "source": [
    "# Check top left tif bounds\n",
    "tl_tif.bounds"
   ]
  },
  {
   "cell_type": "code",
   "execution_count": 10,
   "metadata": {},
   "outputs": [
    {
     "data": {
      "text/plain": [
       "BoundingBox(left=660690.0, bottom=2654220.0, right=805230.0, top=2887180.0)"
      ]
     },
     "execution_count": 10,
     "metadata": {},
     "output_type": "execute_result"
    }
   ],
   "source": [
    "# Check bottom right tif bounds\n",
    "br_tif.bounds"
   ]
  },
  {
   "cell_type": "markdown",
   "metadata": {},
   "source": [
    "Next we compare pixel values in the .ovr vs. .tif files. We select the top right .tif file for comparison."
   ]
  },
  {
   "cell_type": "code",
   "execution_count": 11,
   "metadata": {},
   "outputs": [],
   "source": [
    "# Get first band array for .ovr file\n",
    "ovr_band1 = ovr.read(1)"
   ]
  },
  {
   "cell_type": "code",
   "execution_count": 12,
   "metadata": {},
   "outputs": [],
   "source": [
    "# Get first band array for .tif file\n",
    "tl_tif_band1 = tl_tif.read(1)"
   ]
  },
  {
   "cell_type": "markdown",
   "metadata": {},
   "source": [
    "The .ovr file has masked RGB values (e.g. zero values) where it extends over the 45R UTM zone boundary. I am starting with row three because the first two rows have masking in the middle of the vector as well due to rough pixel edges."
   ]
  },
  {
   "cell_type": "code",
   "execution_count": 13,
   "metadata": {},
   "outputs": [
    {
     "data": {
      "text/plain": [
       "array([   0,    0,    0,    0,    0,    0,    0,    0,    0,    0,    0,\n",
       "          0,    0,    0,    0,    0, 1548, 2383, 3521, 1041, 2634, 2393,\n",
       "       1682, 1787, 1837, 2136, 2168, 2314, 2600, 2502, 2442, 1833, 1868,\n",
       "       1926, 2291, 1591, 2460, 2432, 2061, 2782, 2655, 2555, 2536, 2392,\n",
       "       2177, 2081, 2253, 2353, 2276, 2380, 2607, 2670, 2910, 2869, 1841,\n",
       "       2723, 2667, 2948, 2830, 2669, 2651, 2069, 2297, 2988, 2990, 2659,\n",
       "       2709, 2454, 2639, 2888, 2196, 1591, 2435, 2027, 2103, 3221, 2890,\n",
       "       2595, 2469, 2493, 3385, 2689, 3070, 1745, 1934, 1932, 1540, 1323,\n",
       "       2379, 2180, 2633, 2601, 2504, 2293, 2683, 2395, 2555, 2354, 2140,\n",
       "       2131, 2431, 2278, 2247, 2454, 2653, 2210, 2573, 2210, 1532, 2121,\n",
       "       1745, 2397, 2684, 2556, 1144, 2988, 2813,  996, 2681, 1576, 2087,\n",
       "       2893, 3072, 2644, 2628, 2056, 2854, 2765, 2662, 2988, 2841, 2765,\n",
       "       2692, 1079, 2972, 2181, 2939, 2282, 2768, 2003, 2407, 2299, 2603,\n",
       "       2095, 1809, 2118, 1912, 2566, 2156, 1950, 2356, 2130, 1923, 2305,\n",
       "       2234, 2334, 2608, 1809, 2621, 2795, 3193, 2408, 2813, 2474,  912,\n",
       "       2362, 2095, 2425, 2528, 2255, 1905, 2395, 1824, 1572, 1697, 1219,\n",
       "       1390, 1647, 1798,  884, 2103, 1865, 1812, 1858, 1661, 2031, 2001,\n",
       "       2342, 1915, 2019, 1869, 1928, 1440, 2002, 2118, 1974, 2018, 2009,\n",
       "       1928, 1948, 1861, 1797, 1417, 1332, 1215, 1829, 2028, 1986, 1850,\n",
       "       2135, 2296, 1277, 2356, 1509, 1873, 2458, 2007, 1849, 1884, 1846,\n",
       "       2417, 2012, 1935, 2160, 2219, 1873, 1814, 2006, 2003, 1984, 1744,\n",
       "       1835, 2137, 1846, 1756, 1876, 1646, 1541, 1768, 1842, 2180, 2063,\n",
       "       1951, 2044, 2093, 2061, 2066, 2225, 2366, 2069, 1731, 1967, 2554,\n",
       "       2236, 2099, 2002, 2164, 2065, 2093, 1569, 1974, 1815, 2123, 1803,\n",
       "       1583, 1496, 1562, 1666, 2105, 1735, 1614, 1589, 1823, 2002, 2089,\n",
       "       2210, 2167, 2053, 2065, 2128, 2204, 2065, 2065, 2593, 2162, 2041,\n",
       "       1815, 2278, 2171, 2093, 2044, 2138, 2111, 1440, 2383, 2006, 1795,\n",
       "       2144, 1916, 1946, 1908, 2126, 2084, 2199, 2156, 2110, 2094, 2005,\n",
       "       2075, 2005, 2020, 3274, 2444, 2880, 2051, 2472, 2210, 1931, 2024,\n",
       "       2028, 1809, 1953, 2046, 1942, 2059, 1150,  862, 1103, 1011,  998,\n",
       "        983, 1063,  893, 1553, 2071, 2153, 2068, 2097, 2201, 1956, 1994,\n",
       "       1609, 1643, 1737, 2307, 1254, 1997, 1834, 1862, 2050, 1133, 1681,\n",
       "       1927, 1889, 1496, 1530, 1898, 2089,  931,  374,  311,  394,  289,\n",
       "        294,  345, 2132, 1724, 2095, 2130, 1915, 1900, 1678, 2266, 2300,\n",
       "       1818, 2278, 1934,  604,  489,  500,  462,  495,  488,  460,  443,\n",
       "        417,  377,  375,  396,  451,  485,  645, 2425, 2617, 3051, 2076,\n",
       "       2129, 2157, 2471, 1951, 2207, 2328, 2214, 2150, 2072, 1767, 1986,\n",
       "       2158, 2343, 3229, 2668, 3752, 3072, 2891, 1921, 1855, 3692, 2259,\n",
       "       2216, 1990, 2337, 2943, 1800, 2034, 2220, 2224, 2093, 2136, 2249,\n",
       "       2238, 2501, 2303, 2512, 2489, 2122, 2287, 2263, 2097, 2418, 2180,\n",
       "       2255, 1926, 2238, 2336, 2700, 2499, 2044, 2232, 2002, 2444, 1904,\n",
       "       2022, 2429, 2443, 1978, 2786, 3061, 2449, 2144, 1877,    0,    0,\n",
       "          0,    0,    0,    0,    0,    0,    0,    0,    0,    0,    0,\n",
       "          0,    0,    0], dtype=uint16)"
      ]
     },
     "execution_count": 13,
     "metadata": {},
     "output_type": "execute_result"
    }
   ],
   "source": [
    "# Print first row of first RGB band for .ovr file\n",
    "ovr_band1[3]"
   ]
  },
  {
   "cell_type": "markdown",
   "metadata": {},
   "source": [
    "The .tif file also has masking on either side of the image where it extends over the UTM zone boundary. I show the beginning, middle, and end of row 300. Since this file has not been compressed, it has a lot more masking at the top of the file, so we index further in to get to rows that aren't all masked. "
   ]
  },
  {
   "cell_type": "code",
   "execution_count": 14,
   "metadata": {},
   "outputs": [
    {
     "data": {
      "text/plain": [
       "array([0, 0, 0, 0, 0, 0, 0, 0, 0, 0, 0, 0, 0, 0, 0, 0, 0, 0, 0, 0, 0, 0,\n",
       "       0, 0, 0, 0, 0, 0, 0, 0, 0, 0, 0, 0, 0, 0, 0, 0, 0, 0, 0, 0, 0, 0,\n",
       "       0, 0, 0, 0, 0, 0, 0, 0, 0, 0, 0, 0, 0, 0, 0, 0, 0, 0, 0, 0, 0, 0,\n",
       "       0, 0, 0, 0, 0, 0, 0, 0, 0, 0, 0, 0, 0, 0, 0, 0, 0, 0, 0, 0, 0, 0,\n",
       "       0, 0, 0, 0, 0, 0, 0, 0, 0, 0, 0, 0, 0, 0, 0, 0, 0, 0, 0, 0, 0, 0,\n",
       "       0, 0, 0, 0, 0, 0, 0, 0, 0, 0, 0, 0, 0, 0, 0, 0, 0, 0, 0, 0, 0, 0,\n",
       "       0, 0, 0, 0, 0, 0, 0, 0, 0, 0, 0, 0, 0, 0, 0, 0, 0, 0, 0, 0, 0, 0,\n",
       "       0, 0, 0, 0, 0, 0, 0, 0, 0, 0, 0, 0, 0, 0, 0, 0, 0, 0, 0, 0, 0, 0,\n",
       "       0, 0, 0, 0, 0, 0, 0, 0, 0, 0, 0, 0, 0, 0, 0, 0, 0, 0, 0, 0, 0, 0,\n",
       "       0, 0, 0, 0, 0, 0, 0, 0, 0, 0, 0, 0, 0, 0, 0, 0, 0, 0, 0, 0, 0, 0,\n",
       "       0, 0, 0, 0, 0, 0, 0, 0, 0, 0, 0, 0, 0, 0, 0, 0, 0, 0, 0, 0, 0, 0,\n",
       "       0, 0, 0, 0, 0, 0, 0, 0, 0, 0, 0, 0, 0, 0, 0, 0, 0, 0, 0, 0, 0, 0,\n",
       "       0, 0, 0, 0, 0, 0, 0, 0, 0, 0, 0, 0, 0, 0, 0, 0, 0, 0, 0, 0, 0, 0,\n",
       "       0, 0, 0, 0, 0, 0, 0, 0, 0, 0, 0, 0, 0, 0], dtype=uint16)"
      ]
     },
     "execution_count": 14,
     "metadata": {},
     "output_type": "execute_result"
    }
   ],
   "source": [
    "# Print first 300 values of first row of RGB band for .tif file\n",
    "tl_tif_band1[300][0:300]"
   ]
  },
  {
   "cell_type": "code",
   "execution_count": 15,
   "metadata": {},
   "outputs": [
    {
     "data": {
      "text/plain": [
       "array([2856, 2906, 2903, 2913, 2797, 2693, 2666, 2693, 2467, 2180, 2277,\n",
       "       2596, 2435, 2396, 2434, 2356, 2456, 2782, 2837, 2742, 2545, 2221,\n",
       "       2329, 2673, 2706, 2695, 2600, 2587, 2586, 2698, 2714, 2558, 2626,\n",
       "       2519, 2820, 2830, 2958, 3068, 3059, 3112, 3078, 3077, 3136, 3049,\n",
       "       2903, 3037, 2932, 2807, 2688, 2646, 2760, 2748, 2773, 2816, 2861,\n",
       "       2796, 2794, 2792, 2754, 2722, 2708, 2690, 2652, 2684, 2779, 2773,\n",
       "       2820, 2777, 2600, 2538, 2581, 2533, 2511, 2588, 2625, 2626, 2722,\n",
       "       2826, 2767, 2702, 2751, 2779, 2767, 2747, 2800, 2752, 2706, 2654,\n",
       "       2536, 2511, 2517, 2487, 2522, 2482, 2464, 2439, 2436, 2430, 2518,\n",
       "       2500, 2543, 2833, 2878, 2824, 2945, 2754, 2533, 2626, 2655, 2666,\n",
       "       2664, 2713, 2759, 2723, 2757, 2713, 2729, 2726, 2697, 2676, 2654,\n",
       "       2713, 2764, 2797, 2784, 2794, 2828, 2776, 2823, 2837, 2869, 2879,\n",
       "       2917, 2968, 2931, 2911, 2857, 2800, 2900, 2979, 2972, 2931, 2956,\n",
       "       2993, 3016, 3011, 3009, 2995, 2977, 2968, 2932, 2974, 3010, 3110,\n",
       "       3218, 3198, 3155, 3059, 2918, 2925, 2974, 2958, 3022, 2987, 2989,\n",
       "       2983, 2976, 2990, 3000, 2968, 2977, 3019, 3031, 3017, 3003, 3013,\n",
       "       3011, 2987, 2987, 3050, 3067, 3058, 3031, 3019, 3006, 2903, 2845,\n",
       "       2821, 2787, 2797, 2775, 2732, 2733, 2885, 2982, 3081, 2977, 2795,\n",
       "       2622, 2603], dtype=uint16)"
      ]
     },
     "execution_count": 15,
     "metadata": {},
     "output_type": "execute_result"
    }
   ],
   "source": [
    "# Print middle values from first row of RGB band for .tif file\n",
    "tl_tif_band1[300][11548:11748]"
   ]
  },
  {
   "cell_type": "code",
   "execution_count": 16,
   "metadata": {},
   "outputs": [
    {
     "data": {
      "text/plain": [
       "array([0, 0, 0, 0, 0, 0, 0, 0, 0, 0, 0, 0, 0, 0, 0, 0, 0, 0, 0, 0, 0, 0,\n",
       "       0, 0, 0, 0, 0, 0, 0, 0, 0, 0, 0, 0, 0, 0, 0, 0, 0, 0, 0, 0, 0, 0,\n",
       "       0, 0, 0, 0, 0, 0, 0, 0, 0, 0, 0, 0, 0, 0, 0, 0, 0, 0, 0, 0, 0, 0,\n",
       "       0, 0, 0, 0, 0, 0, 0, 0, 0, 0, 0, 0, 0, 0, 0, 0, 0, 0, 0, 0, 0, 0,\n",
       "       0, 0, 0, 0, 0, 0, 0, 0, 0, 0, 0, 0, 0, 0, 0, 0, 0, 0, 0, 0, 0, 0,\n",
       "       0, 0, 0, 0, 0, 0, 0, 0, 0, 0, 0, 0, 0, 0, 0, 0, 0, 0, 0, 0, 0, 0,\n",
       "       0, 0, 0, 0, 0, 0, 0, 0, 0, 0, 0, 0, 0, 0, 0, 0, 0, 0, 0, 0, 0, 0,\n",
       "       0, 0, 0, 0, 0, 0, 0, 0, 0, 0, 0, 0, 0, 0, 0, 0, 0, 0, 0, 0, 0, 0,\n",
       "       0, 0, 0, 0, 0, 0, 0, 0, 0, 0, 0, 0, 0, 0, 0, 0, 0, 0, 0, 0, 0, 0,\n",
       "       0, 0, 0, 0, 0, 0, 0, 0, 0, 0, 0, 0, 0, 0, 0, 0, 0, 0, 0, 0, 0, 0,\n",
       "       0, 0, 0, 0, 0, 0, 0, 0, 0, 0, 0, 0, 0, 0, 0, 0, 0, 0, 0, 0, 0, 0,\n",
       "       0, 0, 0, 0, 0, 0, 0, 0, 0, 0, 0, 0, 0, 0, 0, 0, 0, 0, 0, 0, 0, 0,\n",
       "       0, 0, 0, 0, 0, 0, 0, 0, 0, 0, 0, 0, 0, 0, 0, 0, 0, 0, 0, 0, 0, 0,\n",
       "       0, 0, 0, 0, 0, 0, 0, 0, 0, 0, 0, 0, 0, 0], dtype=uint16)"
      ]
     },
     "execution_count": 16,
     "metadata": {},
     "output_type": "execute_result"
    }
   ],
   "source": [
    "# Print last 300 values of first row of RGB band for .tif file\n",
    "tl_tif_band1[300][-300:]"
   ]
  },
  {
   "cell_type": "code",
   "execution_count": null,
   "metadata": {},
   "outputs": [],
   "source": []
  }
 ],
 "metadata": {
  "instance_type": "ml.t3.medium",
  "kernelspec": {
   "display_name": "Python 3 (Data Science)",
   "language": "python",
   "name": "python3__SAGEMAKER_INTERNAL__arn:aws:sagemaker:us-east-1:081325390199:image/datascience-1.0"
  },
  "language_info": {
   "codemirror_mode": {
    "name": "ipython",
    "version": 3
   },
   "file_extension": ".py",
   "mimetype": "text/x-python",
   "name": "python",
   "nbconvert_exporter": "python",
   "pygments_lexer": "ipython3",
   "version": "3.7.10"
  }
 },
 "nbformat": 4,
 "nbformat_minor": 4
}
