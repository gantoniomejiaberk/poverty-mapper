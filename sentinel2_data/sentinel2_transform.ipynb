{
 "cells": [
  {
   "cell_type": "code",
   "execution_count": null,
   "metadata": {},
   "outputs": [],
   "source": [
    "# Tile generation adapted from: https://fractaldle.medium.com/satellite-images-deep-learning-spacenet-building-segmentation-a5d145a81c33"
   ]
  },
  {
   "cell_type": "code",
   "execution_count": null,
   "metadata": {},
   "outputs": [],
   "source": [
    "#%pip install geopandas\n",
    "#%pip install rasterio\n",
    "#%pip install utm\n",
    "\n",
    "##%%capture\n",
    "#!apt update\n",
    "#!apt install -y software-properties-common\n",
    "#!apt install -y gpg\n",
    "#!add-apt-repository -y ppa:ubuntugis/ppa && apt-get update\n",
    "#!add-apt-repository -y ppa:nextgis/ppa && apt-get update \n",
    "#!apt-get install -y gdal-bin\n",
    "#!apt-get install -y libgdal-dev pgp\n",
    "#!export CPLUS_INCLUDE_PATH=/usr/include/gdal\n",
    "#!export C_INCLUDE_PATH=/usr/include/gdal\n",
    "#!apt-get install -y --reinstall build-essential\n",
    "#!pip3 install \"setuptools<58\"\n",
    "#!pip3 install --global-option=build_ext --global-option=\"-I/usr/include/gdal\" GDAL==`gdal-config --version`"
   ]
  },
  {
   "cell_type": "code",
   "execution_count": null,
   "metadata": {},
   "outputs": [],
   "source": [
    "import boto3\n",
    "import sagemaker\n",
    "from sagemaker import get_execution_role\n",
    "import geopandas as gpd\n",
    "import shapely\n",
    "from shapely.geometry import Polygon, Point, MultiPolygon\n",
    "from shapely.prepared import prep\n",
    "import timeit\n",
    "import shutil\n",
    "from tqdm import tqdm\n",
    "import rasterio\n",
    "from rasterio.plot import show_hist\n",
    "from rasterio.plot import show\n",
    "from rasterio.windows import Window\n",
    "import utm\n",
    "import pyproj\n",
    "import os\n",
    "import pandas as pd\n",
    "import geopandas as gpd\n",
    "import random\n",
    "from osgeo import gdal\n",
    "import time\n",
    "\n",
    "from sentinel2_transform import UTM2LonLat, get_lon_lat_bounds, get_filename, get_tile_transform, get_tile_profile, get_countries, get_utm_zone_polygon, all_in_utm_zone, generate_tiles      "
   ]
  },
  {
   "cell_type": "code",
   "execution_count": null,
   "metadata": {},
   "outputs": [],
   "source": [
    "# Set session and s3 connection objects\n",
    "sess = sagemaker.Session()\n",
    "role = get_execution_role()\n",
    "conn = boto3.client(\"s3\")\n",
    "bucket = \"w210-poverty-mapper\"\n",
    "s3_path = \"sentinel2_composite/transformed_data\""
   ]
  },
  {
   "cell_type": "code",
   "execution_count": null,
   "metadata": {},
   "outputs": [],
   "source": [
    "country_shapes = gpd.read_file(\"s3://w210-poverty-mapper/shape_files/raw_data/ipums_world_shapes/world_countries_2020.shp\")"
   ]
  },
  {
   "cell_type": "code",
   "execution_count": null,
   "metadata": {},
   "outputs": [],
   "source": [
    "country_list = [\"Bangladesh\", \"Nepal\", \"Philippines\", \"Tajikistan\", \"Timor Leste\"]\n",
    "polygon_dict = {}\n",
    "\n",
    "for country in country_list:\n",
    "    polygon = country_shapes.loc[country_shapes[\"CNTRY_NAME\"] == country][\"geometry\"].iloc[0]\n",
    "    polygon_dict[country] = prep(polygon) # Prepare the polygon for faster operations later on"
   ]
  },
  {
   "cell_type": "code",
   "execution_count": null,
   "metadata": {},
   "outputs": [],
   "source": [
    "zone_list = [\"42S\", \"42T\", \n",
    "             \"43S\", \n",
    "             \"44R\", \n",
    "             \"45Q\", \"45R\", \n",
    "             \"46Q\", \"46R\", \n",
    "             \"50N\", \"50P\", \"50Q\", \n",
    "             \"51L\", \"51N\", \"51P\", \"51Q\", \n",
    "             \"52L\", \"52N\", \"52P\"]\n",
    "size = 224\n",
    "\n",
    "generate_tiles(conn, bucket, zone_list, size, polygon_dict, s3_path)"
   ]
  },
  {
   "cell_type": "code",
   "execution_count": null,
   "metadata": {},
   "outputs": [],
   "source": []
  }
 ],
 "metadata": {
  "instance_type": "ml.t3.medium",
  "kernelspec": {
   "display_name": "Python 3 (Data Science)",
   "language": "python",
   "name": "python3__SAGEMAKER_INTERNAL__arn:aws:sagemaker:us-east-1:081325390199:image/datascience-1.0"
  },
  "language_info": {
   "codemirror_mode": {
    "name": "ipython",
    "version": 3
   },
   "file_extension": ".py",
   "mimetype": "text/x-python",
   "name": "python",
   "nbconvert_exporter": "python",
   "pygments_lexer": "ipython3",
   "version": "3.7.10"
  }
 },
 "nbformat": 4,
 "nbformat_minor": 4
}
