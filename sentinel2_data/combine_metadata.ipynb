{
 "cells": [
  {
   "cell_type": "code",
   "execution_count": 1,
   "metadata": {},
   "outputs": [],
   "source": [
    "import pandas as pd"
   ]
  },
  {
   "cell_type": "code",
   "execution_count": 2,
   "metadata": {},
   "outputs": [],
   "source": [
    "zone_list = [\"42S\", \"42T\", \n",
    "             \"43S\", \n",
    "             \"44R\", \n",
    "             \"45Q\", \"45R\", \n",
    "             \"46Q\", \"46R\", \n",
    "             \"50N\", \"50P\", \"50Q\", \n",
    "             \"51L\", \"51N\", \"51P\", \"51Q\", \n",
    "             \"52L\", \"52N\", \"52P\"]"
   ]
  },
  {
   "cell_type": "code",
   "execution_count": 3,
   "metadata": {},
   "outputs": [],
   "source": [
    "# Get full meta data\n",
    "meta_data_full = pd.DataFrame()\n",
    "\n",
    "for zone in zone_list:\n",
    "    meta_data = pd.read_csv(\"/root/tiles/\" + zone + \"/meta_data_\" + zone + \".csv\")\n",
    "    meta_data_full = meta_data_full.append(meta_data)"
   ]
  },
  {
   "cell_type": "code",
   "execution_count": 4,
   "metadata": {},
   "outputs": [
    {
     "data": {
      "text/plain": [
       "(156656, 7)"
      ]
     },
     "execution_count": 4,
     "metadata": {},
     "output_type": "execute_result"
    }
   ],
   "source": [
    "meta_data_full.shape"
   ]
  },
  {
   "cell_type": "code",
   "execution_count": 5,
   "metadata": {},
   "outputs": [
    {
     "data": {
      "text/plain": [
       "zone\n",
       "42S    16890\n",
       "42T     2125\n",
       "43S    10242\n",
       "44R    16287\n",
       "45Q     5672\n",
       "45R    21683\n",
       "46Q     9874\n",
       "46R     5629\n",
       "50N      287\n",
       "50P     3489\n",
       "50Q      208\n",
       "51L     1967\n",
       "51N    12112\n",
       "51P    35083\n",
       "51Q    11260\n",
       "52L     1285\n",
       "52N     1545\n",
       "52P     1018\n",
       "dtype: int64"
      ]
     },
     "execution_count": 5,
     "metadata": {},
     "output_type": "execute_result"
    }
   ],
   "source": [
    "meta_data_full.groupby(\"zone\").size()"
   ]
  },
  {
   "cell_type": "code",
   "execution_count": 6,
   "metadata": {},
   "outputs": [],
   "source": [
    "# Write full meta data to tiles directory\n",
    "meta_data_full.to_csv(\"/root/tiles/meta_data_full.csv\", index=False)"
   ]
  },
  {
   "cell_type": "code",
   "execution_count": 7,
   "metadata": {},
   "outputs": [],
   "source": [
    "# Combine partial csvs\n",
    "partial_indicator_full = pd.DataFrame()\n",
    "\n",
    "for zone in zone_list:\n",
    "    partial_meta_data = pd.read_csv(\"/root/partial_indicator_csvs/meta_data_\" + zone + \".csv\")\n",
    "    partial_indicator_full = partial_indicator_full.append(partial_meta_data)"
   ]
  },
  {
   "cell_type": "code",
   "execution_count": 8,
   "metadata": {},
   "outputs": [
    {
     "data": {
      "text/plain": [
       "(156656, 3)"
      ]
     },
     "execution_count": 8,
     "metadata": {},
     "output_type": "execute_result"
    }
   ],
   "source": [
    "# Check partial indicator full size\n",
    "partial_indicator_full.shape"
   ]
  },
  {
   "cell_type": "code",
   "execution_count": 9,
   "metadata": {},
   "outputs": [
    {
     "data": {
      "text/html": [
       "<div>\n",
       "<style scoped>\n",
       "    .dataframe tbody tr th:only-of-type {\n",
       "        vertical-align: middle;\n",
       "    }\n",
       "\n",
       "    .dataframe tbody tr th {\n",
       "        vertical-align: top;\n",
       "    }\n",
       "\n",
       "    .dataframe thead th {\n",
       "        text-align: right;\n",
       "    }\n",
       "</style>\n",
       "<table border=\"1\" class=\"dataframe\">\n",
       "  <thead>\n",
       "    <tr style=\"text-align: right;\">\n",
       "      <th></th>\n",
       "      <th>filename</th>\n",
       "      <th>zone</th>\n",
       "      <th>partial</th>\n",
       "    </tr>\n",
       "  </thead>\n",
       "  <tbody>\n",
       "    <tr>\n",
       "      <th>0</th>\n",
       "      <td>sentinel2_composite/transformed_data/42S/341-0...</td>\n",
       "      <td>42S</td>\n",
       "      <td>False</td>\n",
       "    </tr>\n",
       "    <tr>\n",
       "      <th>1</th>\n",
       "      <td>sentinel2_composite/transformed_data/42S/341-0...</td>\n",
       "      <td>42S</td>\n",
       "      <td>False</td>\n",
       "    </tr>\n",
       "    <tr>\n",
       "      <th>2</th>\n",
       "      <td>sentinel2_composite/transformed_data/42S/341-0...</td>\n",
       "      <td>42S</td>\n",
       "      <td>False</td>\n",
       "    </tr>\n",
       "    <tr>\n",
       "      <th>3</th>\n",
       "      <td>sentinel2_composite/transformed_data/42S/341-0...</td>\n",
       "      <td>42S</td>\n",
       "      <td>False</td>\n",
       "    </tr>\n",
       "    <tr>\n",
       "      <th>4</th>\n",
       "      <td>sentinel2_composite/transformed_data/42S/341-0...</td>\n",
       "      <td>42S</td>\n",
       "      <td>False</td>\n",
       "    </tr>\n",
       "  </tbody>\n",
       "</table>\n",
       "</div>"
      ],
      "text/plain": [
       "                                            filename zone  partial\n",
       "0  sentinel2_composite/transformed_data/42S/341-0...  42S    False\n",
       "1  sentinel2_composite/transformed_data/42S/341-0...  42S    False\n",
       "2  sentinel2_composite/transformed_data/42S/341-0...  42S    False\n",
       "3  sentinel2_composite/transformed_data/42S/341-0...  42S    False\n",
       "4  sentinel2_composite/transformed_data/42S/341-0...  42S    False"
      ]
     },
     "execution_count": 9,
     "metadata": {},
     "output_type": "execute_result"
    }
   ],
   "source": [
    "partial_indicator_full.head()"
   ]
  },
  {
   "cell_type": "code",
   "execution_count": 10,
   "metadata": {},
   "outputs": [],
   "source": [
    "partial_indicator_full = partial_indicator_full.rename(columns={\"filename\": \"filename\", \n",
    "                                                                \"zone\": \"zone\", \n",
    "                                                                \"partial\": \"partial_updated\"})"
   ]
  },
  {
   "cell_type": "code",
   "execution_count": 11,
   "metadata": {},
   "outputs": [
    {
     "data": {
      "text/html": [
       "<div>\n",
       "<style scoped>\n",
       "    .dataframe tbody tr th:only-of-type {\n",
       "        vertical-align: middle;\n",
       "    }\n",
       "\n",
       "    .dataframe tbody tr th {\n",
       "        vertical-align: top;\n",
       "    }\n",
       "\n",
       "    .dataframe thead th {\n",
       "        text-align: right;\n",
       "    }\n",
       "</style>\n",
       "<table border=\"1\" class=\"dataframe\">\n",
       "  <thead>\n",
       "    <tr style=\"text-align: right;\">\n",
       "      <th></th>\n",
       "      <th>filename</th>\n",
       "      <th>zone</th>\n",
       "      <th>partial_updated</th>\n",
       "    </tr>\n",
       "  </thead>\n",
       "  <tbody>\n",
       "    <tr>\n",
       "      <th>0</th>\n",
       "      <td>sentinel2_composite/transformed_data/42S/341-0...</td>\n",
       "      <td>42S</td>\n",
       "      <td>False</td>\n",
       "    </tr>\n",
       "    <tr>\n",
       "      <th>1</th>\n",
       "      <td>sentinel2_composite/transformed_data/42S/341-0...</td>\n",
       "      <td>42S</td>\n",
       "      <td>False</td>\n",
       "    </tr>\n",
       "    <tr>\n",
       "      <th>2</th>\n",
       "      <td>sentinel2_composite/transformed_data/42S/341-0...</td>\n",
       "      <td>42S</td>\n",
       "      <td>False</td>\n",
       "    </tr>\n",
       "    <tr>\n",
       "      <th>3</th>\n",
       "      <td>sentinel2_composite/transformed_data/42S/341-0...</td>\n",
       "      <td>42S</td>\n",
       "      <td>False</td>\n",
       "    </tr>\n",
       "    <tr>\n",
       "      <th>4</th>\n",
       "      <td>sentinel2_composite/transformed_data/42S/341-0...</td>\n",
       "      <td>42S</td>\n",
       "      <td>False</td>\n",
       "    </tr>\n",
       "  </tbody>\n",
       "</table>\n",
       "</div>"
      ],
      "text/plain": [
       "                                            filename zone  partial_updated\n",
       "0  sentinel2_composite/transformed_data/42S/341-0...  42S            False\n",
       "1  sentinel2_composite/transformed_data/42S/341-0...  42S            False\n",
       "2  sentinel2_composite/transformed_data/42S/341-0...  42S            False\n",
       "3  sentinel2_composite/transformed_data/42S/341-0...  42S            False\n",
       "4  sentinel2_composite/transformed_data/42S/341-0...  42S            False"
      ]
     },
     "execution_count": 11,
     "metadata": {},
     "output_type": "execute_result"
    }
   ],
   "source": [
    "partial_indicator_full.head()"
   ]
  },
  {
   "cell_type": "code",
   "execution_count": 12,
   "metadata": {},
   "outputs": [
    {
     "data": {
      "text/plain": [
       "partial_updated\n",
       "False    156432\n",
       "True        224\n",
       "dtype: int64"
      ]
     },
     "execution_count": 12,
     "metadata": {},
     "output_type": "execute_result"
    }
   ],
   "source": [
    "# Get counts by partial\n",
    "partial_indicator_full.groupby(\"partial_updated\").size()"
   ]
  },
  {
   "cell_type": "code",
   "execution_count": 13,
   "metadata": {},
   "outputs": [],
   "source": [
    "# Get dataframe of partial images \n",
    "partials = partial_indicator_full[partial_indicator_full[\"partial_updated\"] == True]"
   ]
  },
  {
   "cell_type": "code",
   "execution_count": 14,
   "metadata": {},
   "outputs": [],
   "source": [
    "# Write partial dataframe for checks\n",
    "partials.to_csv(\"/root/partial_indicator_csvs/partials.csv\", index=False)"
   ]
  },
  {
   "cell_type": "code",
   "execution_count": 15,
   "metadata": {},
   "outputs": [],
   "source": [
    "# Merge full partial data with full meta data\n",
    "meta_data_full_updated = meta_data_full.merge(partial_indicator_full, how=\"left\", on=[\"filename\", \"zone\"])"
   ]
  },
  {
   "cell_type": "code",
   "execution_count": 17,
   "metadata": {},
   "outputs": [],
   "source": [
    "# Drop old partial column\n",
    "meta_data_full_updated = meta_data_full_updated.drop(columns=[\"partial\"])"
   ]
  },
  {
   "cell_type": "code",
   "execution_count": 18,
   "metadata": {},
   "outputs": [],
   "source": [
    "# Write to root directory\n",
    "meta_data_full_updated.to_csv(\"/root/tiles/meta_data_full_updated.csv\", index=False)"
   ]
  },
  {
   "cell_type": "code",
   "execution_count": 22,
   "metadata": {},
   "outputs": [],
   "source": [
    "# Write to s3\n",
    "s3_path = \"s3://w210-poverty-mapper/sentinel2_composite/transformed_data/meta_data_full_updated.csv\"\n",
    "meta_data_full_updated.to_csv(s3_path, index=False)"
   ]
  },
  {
   "cell_type": "code",
   "execution_count": null,
   "metadata": {},
   "outputs": [],
   "source": []
  }
 ],
 "metadata": {
  "instance_type": "ml.t3.medium",
  "kernelspec": {
   "display_name": "Python 3 (Data Science)",
   "language": "python",
   "name": "python3__SAGEMAKER_INTERNAL__arn:aws:sagemaker:us-east-1:081325390199:image/datascience-1.0"
  },
  "language_info": {
   "codemirror_mode": {
    "name": "ipython",
    "version": 3
   },
   "file_extension": ".py",
   "mimetype": "text/x-python",
   "name": "python",
   "nbconvert_exporter": "python",
   "pygments_lexer": "ipython3",
   "version": "3.7.10"
  }
 },
 "nbformat": 4,
 "nbformat_minor": 4
}
