{
 "cells": [
  {
   "cell_type": "code",
   "execution_count": 1,
   "metadata": {},
   "outputs": [],
   "source": [
    "#%pip install rasterio"
   ]
  },
  {
   "cell_type": "code",
   "execution_count": 2,
   "metadata": {},
   "outputs": [],
   "source": [
    "import boto3\n",
    "import rasterio\n",
    "from rasterio.plot import show_hist\n",
    "from rasterio.plot import show\n",
    "from rasterio.windows import Window\n",
    "import sagemaker\n",
    "from sagemaker import get_execution_role"
   ]
  },
  {
   "cell_type": "code",
   "execution_count": 3,
   "metadata": {},
   "outputs": [],
   "source": [
    "# Set session and s3 connection objects\n",
    "sess = sagemaker.Session()\n",
    "role = get_execution_role()\n",
    "conn = boto3.client(\"s3\")\n",
    "bucket = \"w210-poverty-mapper\""
   ]
  },
  {
   "cell_type": "code",
   "execution_count": 4,
   "metadata": {},
   "outputs": [],
   "source": [
    "zone_list = [\"42S\", \"42T\", \n",
    "             \"43S\", \n",
    "             \"44R\", \n",
    "             \"45Q\", \"45R\", \n",
    "             \"46Q\", \"46R\", \n",
    "             \"50N\", \"50P\", \"50Q\", \n",
    "             \"51L\", \"51N\", \"51P\", \"51Q\", \n",
    "             \"52L\", \"52N\", \"52P\"]\n",
    "\n",
    "# Set image size\n",
    "size = 224"
   ]
  },
  {
   "cell_type": "code",
   "execution_count": 19,
   "metadata": {},
   "outputs": [],
   "source": [
    "# Create dictionary with zones as keys and empty lists as values\n",
    "partial_tifs = {new_list: [] for new_list in zone_list}\n",
    "#partial_tifs\n",
    "\n",
    "# Find tifs that will create partial tiles\n",
    "for zone in zone_list:\n",
    "    contents = conn.list_objects(\n",
    "        Bucket=bucket, \n",
    "        Prefix=\"sentinel2_composite/raw_data/\" + zone)[\"Contents\"]\n",
    "\n",
    "    for file in contents:\n",
    "        if file[\"Key\"].endswith(\".tif\"):\n",
    "            #print(\"Processing {}...\".format(file[\"Key\"]))\n",
    "    \n",
    "            tif = rasterio.open(\"s3://w210-poverty-mapper/\" + file[\"Key\"])\n",
    "            width = tif.width\n",
    "            height = tif.height\n",
    "            \n",
    "            if tif.width % size != 0 or tif.height % size !=0:\n",
    "                partial_tifs[zone].append(file[\"Key\"])"
   ]
  },
  {
   "cell_type": "code",
   "execution_count": 20,
   "metadata": {},
   "outputs": [
    {
     "data": {
      "text/plain": [
       "{'42S': ['sentinel2_composite/raw_data/42S/S2_percentile_30_UTM_341-0000000000-0000046592.tif',\n",
       "  'sentinel2_composite/raw_data/42S/S2_percentile_30_UTM_341-0000023296-0000046592.tif',\n",
       "  'sentinel2_composite/raw_data/42S/S2_percentile_30_UTM_341-0000046592-0000046592.tif',\n",
       "  'sentinel2_composite/raw_data/42S/S2_percentile_30_UTM_341-0000069888-0000000000.tif',\n",
       "  'sentinel2_composite/raw_data/42S/S2_percentile_30_UTM_341-0000069888-0000023296.tif',\n",
       "  'sentinel2_composite/raw_data/42S/S2_percentile_30_UTM_341-0000069888-0000046592.tif'],\n",
       " '42T': ['sentinel2_composite/raw_data/42T/S2_percentile_30_UTM_281-0000000000-0000046592.tif',\n",
       "  'sentinel2_composite/raw_data/42T/S2_percentile_30_UTM_281-0000023296-0000046592.tif',\n",
       "  'sentinel2_composite/raw_data/42T/S2_percentile_30_UTM_281-0000046592-0000046592.tif',\n",
       "  'sentinel2_composite/raw_data/42T/S2_percentile_30_UTM_281-0000069888-0000000000.tif',\n",
       "  'sentinel2_composite/raw_data/42T/S2_percentile_30_UTM_281-0000069888-0000023296.tif',\n",
       "  'sentinel2_composite/raw_data/42T/S2_percentile_30_UTM_281-0000069888-0000046592.tif'],\n",
       " '43S': ['sentinel2_composite/raw_data/43S/S2_percentile_30_UTM_342-0000000000-0000046592.tif',\n",
       "  'sentinel2_composite/raw_data/43S/S2_percentile_30_UTM_342-0000023296-0000046592.tif',\n",
       "  'sentinel2_composite/raw_data/43S/S2_percentile_30_UTM_342-0000046592-0000046592.tif',\n",
       "  'sentinel2_composite/raw_data/43S/S2_percentile_30_UTM_342-0000069888-0000000000.tif',\n",
       "  'sentinel2_composite/raw_data/43S/S2_percentile_30_UTM_342-0000069888-0000023296.tif',\n",
       "  'sentinel2_composite/raw_data/43S/S2_percentile_30_UTM_342-0000069888-0000046592.tif'],\n",
       " '44R': ['sentinel2_composite/raw_data/44R/S2_percentile_30_UTM_403-0000000000-0000046592.tif',\n",
       "  'sentinel2_composite/raw_data/44R/S2_percentile_30_UTM_403-0000023296-0000046592.tif',\n",
       "  'sentinel2_composite/raw_data/44R/S2_percentile_30_UTM_403-0000046592-0000046592.tif',\n",
       "  'sentinel2_composite/raw_data/44R/S2_percentile_30_UTM_403-0000069888-0000000000.tif',\n",
       "  'sentinel2_composite/raw_data/44R/S2_percentile_30_UTM_403-0000069888-0000023296.tif',\n",
       "  'sentinel2_composite/raw_data/44R/S2_percentile_30_UTM_403-0000069888-0000046592.tif'],\n",
       " '45Q': ['sentinel2_composite/raw_data/45Q/S2_percentile_UTM_464-0000000000-0000046592.tif',\n",
       "  'sentinel2_composite/raw_data/45Q/S2_percentile_UTM_464-0000023296-0000046592.tif',\n",
       "  'sentinel2_composite/raw_data/45Q/S2_percentile_UTM_464-0000046592-0000046592.tif',\n",
       "  'sentinel2_composite/raw_data/45Q/S2_percentile_UTM_464-0000069888-0000000000.tif',\n",
       "  'sentinel2_composite/raw_data/45Q/S2_percentile_UTM_464-0000069888-0000023296.tif'],\n",
       " '45R': ['sentinel2_composite/raw_data/45R/S2_percentile_30_UTM_404-0000000000-0000046592.tif',\n",
       "  'sentinel2_composite/raw_data/45R/S2_percentile_30_UTM_404-0000023296-0000046592.tif',\n",
       "  'sentinel2_composite/raw_data/45R/S2_percentile_30_UTM_404-0000046592-0000046592.tif',\n",
       "  'sentinel2_composite/raw_data/45R/S2_percentile_30_UTM_404-0000069888-0000000000.tif',\n",
       "  'sentinel2_composite/raw_data/45R/S2_percentile_30_UTM_404-0000069888-0000023296.tif',\n",
       "  'sentinel2_composite/raw_data/45R/S2_percentile_30_UTM_404-0000069888-0000046592.tif'],\n",
       " '46Q': ['sentinel2_composite/raw_data/46Q/S2_percentile_30_UTM_465-0000000000-0000046592.tif',\n",
       "  'sentinel2_composite/raw_data/46Q/S2_percentile_30_UTM_465-0000023296-0000046592.tif',\n",
       "  'sentinel2_composite/raw_data/46Q/S2_percentile_30_UTM_465-0000046592-0000046592.tif',\n",
       "  'sentinel2_composite/raw_data/46Q/S2_percentile_30_UTM_465-0000069888-0000000000.tif',\n",
       "  'sentinel2_composite/raw_data/46Q/S2_percentile_30_UTM_465-0000069888-0000023296.tif',\n",
       "  'sentinel2_composite/raw_data/46Q/S2_percentile_30_UTM_465-0000069888-0000046592.tif'],\n",
       " '46R': ['sentinel2_composite/raw_data/46R/S2_percentile_30_UTM_405-0000000000-0000046592.tif',\n",
       "  'sentinel2_composite/raw_data/46R/S2_percentile_30_UTM_405-0000023296-0000046592.tif',\n",
       "  'sentinel2_composite/raw_data/46R/S2_percentile_30_UTM_405-0000046592-0000046592.tif',\n",
       "  'sentinel2_composite/raw_data/46R/S2_percentile_30_UTM_405-0000069888-0000000000.tif',\n",
       "  'sentinel2_composite/raw_data/46R/S2_percentile_30_UTM_405-0000069888-0000023296.tif',\n",
       "  'sentinel2_composite/raw_data/46R/S2_percentile_30_UTM_405-0000069888-0000046592.tif'],\n",
       " '50N': ['sentinel2_composite/raw_data/50N/S2_percentile_30_UTM_589-0000000000-0000046592.tif',\n",
       "  'sentinel2_composite/raw_data/50N/S2_percentile_30_UTM_589-0000023296-0000046592.tif',\n",
       "  'sentinel2_composite/raw_data/50N/S2_percentile_30_UTM_589-0000046592-0000046592.tif',\n",
       "  'sentinel2_composite/raw_data/50N/S2_percentile_30_UTM_589-0000069888-0000000000.tif',\n",
       "  'sentinel2_composite/raw_data/50N/S2_percentile_30_UTM_589-0000069888-0000023296.tif',\n",
       "  'sentinel2_composite/raw_data/50N/S2_percentile_30_UTM_589-0000069888-0000046592.tif'],\n",
       " '50P': ['sentinel2_composite/raw_data/50P/S2_percentile_30_UTM_529-0000000000-0000046592.tif',\n",
       "  'sentinel2_composite/raw_data/50P/S2_percentile_30_UTM_529-0000023296-0000046592.tif',\n",
       "  'sentinel2_composite/raw_data/50P/S2_percentile_30_UTM_529-0000046592-0000046592.tif',\n",
       "  'sentinel2_composite/raw_data/50P/S2_percentile_30_UTM_529-0000069888-0000000000.tif',\n",
       "  'sentinel2_composite/raw_data/50P/S2_percentile_30_UTM_529-0000069888-0000023296.tif',\n",
       "  'sentinel2_composite/raw_data/50P/S2_percentile_30_UTM_529-0000069888-0000046592.tif'],\n",
       " '50Q': ['sentinel2_composite/raw_data/50Q/S2_percentile_UTM_469-0000000000-0000046592.tif',\n",
       "  'sentinel2_composite/raw_data/50Q/S2_percentile_UTM_469-0000023296-0000046592.tif',\n",
       "  'sentinel2_composite/raw_data/50Q/S2_percentile_UTM_469-0000046592-0000046592.tif',\n",
       "  'sentinel2_composite/raw_data/50Q/S2_percentile_UTM_469-0000069888-0000000000.tif',\n",
       "  'sentinel2_composite/raw_data/50Q/S2_percentile_UTM_469-0000069888-0000023296.tif',\n",
       "  'sentinel2_composite/raw_data/50Q/S2_percentile_UTM_469-0000069888-0000046592.tif'],\n",
       " '51L': ['sentinel2_composite/raw_data/51L/S2_percentile_UTM_710-0000000000-0000046592.tif',\n",
       "  'sentinel2_composite/raw_data/51L/S2_percentile_UTM_710-0000023296-0000046592.tif',\n",
       "  'sentinel2_composite/raw_data/51L/S2_percentile_UTM_710-0000046592-0000046592.tif',\n",
       "  'sentinel2_composite/raw_data/51L/S2_percentile_UTM_710-0000069888-0000000000.tif',\n",
       "  'sentinel2_composite/raw_data/51L/S2_percentile_UTM_710-0000069888-0000023296.tif',\n",
       "  'sentinel2_composite/raw_data/51L/S2_percentile_UTM_710-0000069888-0000046592.tif'],\n",
       " '51N': ['sentinel2_composite/raw_data/51N/S2_percentile_30_UTM_590-0000000000-0000046592.tif',\n",
       "  'sentinel2_composite/raw_data/51N/S2_percentile_30_UTM_590-0000023296-0000046592.tif',\n",
       "  'sentinel2_composite/raw_data/51N/S2_percentile_30_UTM_590-0000046592-0000046592.tif',\n",
       "  'sentinel2_composite/raw_data/51N/S2_percentile_30_UTM_590-0000069888-0000000000.tif',\n",
       "  'sentinel2_composite/raw_data/51N/S2_percentile_30_UTM_590-0000069888-0000023296.tif',\n",
       "  'sentinel2_composite/raw_data/51N/S2_percentile_30_UTM_590-0000069888-0000046592.tif'],\n",
       " '51P': ['sentinel2_composite/raw_data/51P/S2_percentile_30_UTM_530-0000000000-0000046592.tif',\n",
       "  'sentinel2_composite/raw_data/51P/S2_percentile_30_UTM_530-0000023296-0000046592.tif',\n",
       "  'sentinel2_composite/raw_data/51P/S2_percentile_30_UTM_530-0000046592-0000046592.tif',\n",
       "  'sentinel2_composite/raw_data/51P/S2_percentile_30_UTM_530-0000069888-0000000000.tif',\n",
       "  'sentinel2_composite/raw_data/51P/S2_percentile_30_UTM_530-0000069888-0000023296.tif',\n",
       "  'sentinel2_composite/raw_data/51P/S2_percentile_30_UTM_530-0000069888-0000046592.tif'],\n",
       " '51Q': ['sentinel2_composite/raw_data/51Q/S2_percentile_30_UTM_470-0000000000-0000046592.tif',\n",
       "  'sentinel2_composite/raw_data/51Q/S2_percentile_30_UTM_470-0000023296-0000046592.tif',\n",
       "  'sentinel2_composite/raw_data/51Q/S2_percentile_30_UTM_470-0000046592-0000046592.tif',\n",
       "  'sentinel2_composite/raw_data/51Q/S2_percentile_30_UTM_470-0000069888-0000000000.tif',\n",
       "  'sentinel2_composite/raw_data/51Q/S2_percentile_30_UTM_470-0000069888-0000023296.tif',\n",
       "  'sentinel2_composite/raw_data/51Q/S2_percentile_30_UTM_470-0000069888-0000046592.tif'],\n",
       " '52L': ['sentinel2_composite/raw_data/52L/S2_percentile_UTM_711-0000000000-0000046592.tif',\n",
       "  'sentinel2_composite/raw_data/52L/S2_percentile_UTM_711-0000023296-0000046592.tif',\n",
       "  'sentinel2_composite/raw_data/52L/S2_percentile_UTM_711-0000046592-0000046592.tif',\n",
       "  'sentinel2_composite/raw_data/52L/S2_percentile_UTM_711-0000069888-0000000000.tif',\n",
       "  'sentinel2_composite/raw_data/52L/S2_percentile_UTM_711-0000069888-0000023296.tif',\n",
       "  'sentinel2_composite/raw_data/52L/S2_percentile_UTM_711-0000069888-0000046592.tif'],\n",
       " '52N': ['sentinel2_composite/raw_data/52N/S2_percentile_30_UTM_591-0000046592-0000046592.tif',\n",
       "  'sentinel2_composite/raw_data/52N/S2_percentile_30_UTM_591-0000069888-0000000000.tif',\n",
       "  'sentinel2_composite/raw_data/52N/S2_percentile_30_UTM_591-0000069888-0000023296.tif',\n",
       "  'sentinel2_composite/raw_data/52N/S2_percentile_30_UTM_591-0000069888-0000046592.tif'],\n",
       " '52P': ['sentinel2_composite/raw_data/52P/S2_percentile_30_UTM_531-0000069888-0000000000.tif',\n",
       "  'sentinel2_composite/raw_data/52P/S2_percentile_30_UTM_531-0000069888-0000023296.tif']}"
      ]
     },
     "execution_count": 20,
     "metadata": {},
     "output_type": "execute_result"
    }
   ],
   "source": [
    "partial_tifs"
   ]
  },
  {
   "cell_type": "code",
   "execution_count": 30,
   "metadata": {},
   "outputs": [
    {
     "name": "stdout",
     "output_type": "stream",
     "text": [
      "width: 44\n",
      "height: 0\n"
     ]
    }
   ],
   "source": [
    "path = \"sentinel2_composite/raw_data/50N/S2_percentile_30_UTM_589-0000023296-0000046592.tif\"\n",
    "check_tif = rasterio.open(\"s3://w210-poverty-mapper/\" + path)\n",
    "\n",
    "print(\"width: {}\".format(check_tif.width % size))\n",
    "print(\"height: {}\".format(check_tif.height % size))"
   ]
  },
  {
   "cell_type": "code",
   "execution_count": null,
   "metadata": {},
   "outputs": [],
   "source": []
  }
 ],
 "metadata": {
  "instance_type": "ml.t3.medium",
  "kernelspec": {
   "display_name": "Python 3 (Data Science)",
   "language": "python",
   "name": "python3__SAGEMAKER_INTERNAL__arn:aws:sagemaker:us-east-1:081325390199:image/datascience-1.0"
  },
  "language_info": {
   "codemirror_mode": {
    "name": "ipython",
    "version": 3
   },
   "file_extension": ".py",
   "mimetype": "text/x-python",
   "name": "python",
   "nbconvert_exporter": "python",
   "pygments_lexer": "ipython3",
   "version": "3.7.10"
  }
 },
 "nbformat": 4,
 "nbformat_minor": 4
}
