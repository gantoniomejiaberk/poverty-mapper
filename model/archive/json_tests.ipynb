{
 "cells": [
  {
   "cell_type": "code",
   "execution_count": 24,
   "metadata": {},
   "outputs": [],
   "source": [
    "import json"
   ]
  },
  {
   "cell_type": "code",
   "execution_count": 13,
   "metadata": {},
   "outputs": [],
   "source": [
    "model_spec = json.load(open(\"/root/poverty-mapper/model/example_model_spec.json\"))"
   ]
  },
  {
   "cell_type": "code",
   "execution_count": 14,
   "metadata": {},
   "outputs": [
    {
     "data": {
      "text/plain": [
       "{'model_spec': {'model_name': 'southeast_cross_country_10k_v1_resnet18_yes_2_0.0001_0.1_4_8_4',\n",
       "  'split_name': 'southeast_cross_country_10k_v1',\n",
       "  'pretrained': 'resnet18',\n",
       "  'freeze_layers': 'yes',\n",
       "  'epochs': 2,\n",
       "  'learning_rate': 0.0001,\n",
       "  'gamma': 0.1,\n",
       "  'step_size': 4,\n",
       "  'batch_size': 8,\n",
       "  'num_workers': 4}}"
      ]
     },
     "execution_count": 14,
     "metadata": {},
     "output_type": "execute_result"
    }
   ],
   "source": [
    "model_spec"
   ]
  },
  {
   "cell_type": "code",
   "execution_count": 16,
   "metadata": {},
   "outputs": [
    {
     "data": {
      "text/plain": [
       "'southeast_cross_country_10k_v1_resnet18_yes_2_0.0001_0.1_4_8_4'"
      ]
     },
     "execution_count": 16,
     "metadata": {},
     "output_type": "execute_result"
    }
   ],
   "source": [
    "model_spec[\"model_spec\"][\"model_name\"]"
   ]
  },
  {
   "cell_type": "code",
   "execution_count": 17,
   "metadata": {},
   "outputs": [],
   "source": [
    "data_splits = json.load(open(\"/root/poverty-mapper/model/example_data_splits.json\"))"
   ]
  },
  {
   "cell_type": "code",
   "execution_count": 18,
   "metadata": {},
   "outputs": [
    {
     "name": "stdout",
     "output_type": "stream",
     "text": [
      "southeast_cross_country_10k_v1\n",
      "south_central_cross_country_10k_v1\n"
     ]
    }
   ],
   "source": [
    "for item in data_splits:\n",
    "    print(item)"
   ]
  },
  {
   "cell_type": "code",
   "execution_count": 19,
   "metadata": {},
   "outputs": [
    {
     "data": {
      "text/plain": [
       "'south_central_cross_country_10k_v1/south_central_cross_country_10k_v1_train.csv'"
      ]
     },
     "execution_count": 19,
     "metadata": {},
     "output_type": "execute_result"
    }
   ],
   "source": [
    "data_splits[\"southeast_cross_country_10k_v1\"][\"train\"]"
   ]
  },
  {
   "cell_type": "code",
   "execution_count": 20,
   "metadata": {},
   "outputs": [],
   "source": [
    "example_results = json.load(open(\"/root/poverty-mapper/model/example_results.json\"))"
   ]
  },
  {
   "cell_type": "code",
   "execution_count": 22,
   "metadata": {},
   "outputs": [
    {
     "data": {
      "text/plain": [
       "{'train_accuracy': [0.2, 0.3],\n",
       " 'val_accuracy': [0.15, 0.2],\n",
       " 'train_loss': [1.2, 1.0],\n",
       " 'val_loss': [1.4, 1.2],\n",
       " 'train_confusion_matrix': [[[2, 0, 0, 3, 4],\n",
       "   [0, 0, 1, 2, 1],\n",
       "   [1, 0, 2, 3, 4],\n",
       "   [3, 4, 3, 2, 1],\n",
       "   [0, 1, 2, 3, 2]],\n",
       "  [[2, 0, 0, 3, 4],\n",
       "   [0, 0, 1, 2, 1],\n",
       "   [1, 0, 2, 3, 4],\n",
       "   [3, 4, 3, 2, 1],\n",
       "   [0, 1, 2, 3, 2]]],\n",
       " 'val_confusion_matrix': [[[2, 0, 0, 3, 4],\n",
       "   [0, 0, 1, 2, 1],\n",
       "   [1, 0, 2, 3, 4],\n",
       "   [3, 4, 3, 2, 1],\n",
       "   [0, 1, 2, 3, 2]],\n",
       "  [[2, 0, 0, 3, 4],\n",
       "   [0, 0, 1, 2, 1],\n",
       "   [1, 0, 2, 3, 4],\n",
       "   [3, 4, 3, 2, 1],\n",
       "   [0, 1, 2, 3, 2]]],\n",
       " 'test_accuracy': 0.61,\n",
       " 'test_confusion_matrix': [[[2, 0, 0, 3, 4],\n",
       "   [0, 0, 1, 2, 1],\n",
       "   [1, 0, 2, 3, 4],\n",
       "   [3, 4, 3, 2, 1],\n",
       "   [0, 1, 2, 3, 2]]]}"
      ]
     },
     "execution_count": 22,
     "metadata": {},
     "output_type": "execute_result"
    }
   ],
   "source": [
    "example_results[\"results\"]"
   ]
  },
  {
   "cell_type": "code",
   "execution_count": 21,
   "metadata": {},
   "outputs": [
    {
     "data": {
      "text/plain": [
       "[[2, 0, 0, 3, 4],\n",
       " [0, 0, 1, 2, 1],\n",
       " [1, 0, 2, 3, 4],\n",
       " [3, 4, 3, 2, 1],\n",
       " [0, 1, 2, 3, 2]]"
      ]
     },
     "execution_count": 21,
     "metadata": {},
     "output_type": "execute_result"
    }
   ],
   "source": [
    "example_results[\"results\"][\"train_confusion_matrix\"][0]"
   ]
  },
  {
   "cell_type": "code",
   "execution_count": 25,
   "metadata": {},
   "outputs": [
    {
     "ename": "FileNotFoundError",
     "evalue": "[Errno 2] No such file or directory: 's3://w210-poverty-mapper/modeling/metadata/model_split_csvs/data_splits.json'",
     "output_type": "error",
     "traceback": [
      "\u001b[0;31m---------------------------------------------------------------------------\u001b[0m",
      "\u001b[0;31mFileNotFoundError\u001b[0m                         Traceback (most recent call last)",
      "\u001b[0;32m<ipython-input-25-b0743fe2a2fc>\u001b[0m in \u001b[0;36m<module>\u001b[0;34m\u001b[0m\n\u001b[0;32m----> 1\u001b[0;31m \u001b[0mtest\u001b[0m \u001b[0;34m=\u001b[0m \u001b[0mjson\u001b[0m\u001b[0;34m.\u001b[0m\u001b[0mload\u001b[0m\u001b[0;34m(\u001b[0m\u001b[0mopen\u001b[0m\u001b[0;34m(\u001b[0m\u001b[0;34m\"s3://w210-poverty-mapper/modeling/metadata/model_split_csvs/data_splits.json\"\u001b[0m\u001b[0;34m)\u001b[0m\u001b[0;34m)\u001b[0m\u001b[0;34m\u001b[0m\u001b[0;34m\u001b[0m\u001b[0m\n\u001b[0m",
      "\u001b[0;31mFileNotFoundError\u001b[0m: [Errno 2] No such file or directory: 's3://w210-poverty-mapper/modeling/metadata/model_split_csvs/data_splits.json'"
     ]
    }
   ],
   "source": [
    "\n",
    "test = json.load(open(\"s3://w210-poverty-mapper/modeling/metadata/model_split_csvs/data_splits.json\"))"
   ]
  },
  {
   "cell_type": "code",
   "execution_count": null,
   "metadata": {},
   "outputs": [],
   "source": []
  }
 ],
 "metadata": {
  "instance_type": "ml.t3.medium",
  "kernelspec": {
   "display_name": "Python 3 (Data Science)",
   "language": "python",
   "name": "python3__SAGEMAKER_INTERNAL__arn:aws:sagemaker:us-east-1:081325390199:image/datascience-1.0"
  },
  "language_info": {
   "codemirror_mode": {
    "name": "ipython",
    "version": 3
   },
   "file_extension": ".py",
   "mimetype": "text/x-python",
   "name": "python",
   "nbconvert_exporter": "python",
   "pygments_lexer": "ipython3",
   "version": "3.7.10"
  }
 },
 "nbformat": 4,
 "nbformat_minor": 4
}
