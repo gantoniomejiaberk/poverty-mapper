{
 "cells": [
  {
   "cell_type": "code",
   "execution_count": 1,
   "metadata": {},
   "outputs": [],
   "source": [
    "import pandas as pd\n",
    "import matplotlib.pyplot as plt\n",
    "from sklearn.model_selection import train_test_split\n",
    "from sklearn.utils import shuffle\n",
    "import os\n",
    "import boto3"
   ]
  },
  {
   "cell_type": "code",
   "execution_count": 2,
   "metadata": {},
   "outputs": [],
   "source": [
    "labels = pd.read_csv(\"s3://w210-poverty-mapper/sentinel2_composite/transformed_data/metadata_with_labels_10km_radious.csv\")\n",
    "density = pd.read_csv(\"s3://w210-poverty-mapper/modeling/metadata/total_meta_data_full_updated_density.csv\")"
   ]
  },
  {
   "cell_type": "code",
   "execution_count": 3,
   "metadata": {},
   "outputs": [],
   "source": [
    "meta_data_labels_density = labels.merge(density, how=\"left\", on=[\"filename\", \"zone\", \"center\", \"lat_lon_bounds\", \"utm_bounds\", \"countries\", \"partial_updated\"])"
   ]
  },
  {
   "cell_type": "code",
   "execution_count": 4,
   "metadata": {},
   "outputs": [
    {
     "data": {
      "text/plain": [
       "(156656, 11)"
      ]
     },
     "execution_count": 4,
     "metadata": {},
     "output_type": "execute_result"
    }
   ],
   "source": [
    "meta_data_labels_density.shape"
   ]
  },
  {
   "cell_type": "code",
   "execution_count": 5,
   "metadata": {},
   "outputs": [
    {
     "data": {
      "text/html": [
       "<div>\n",
       "<style scoped>\n",
       "    .dataframe tbody tr th:only-of-type {\n",
       "        vertical-align: middle;\n",
       "    }\n",
       "\n",
       "    .dataframe tbody tr th {\n",
       "        vertical-align: top;\n",
       "    }\n",
       "\n",
       "    .dataframe thead th {\n",
       "        text-align: right;\n",
       "    }\n",
       "</style>\n",
       "<table border=\"1\" class=\"dataframe\">\n",
       "  <thead>\n",
       "    <tr style=\"text-align: right;\">\n",
       "      <th></th>\n",
       "      <th>filename</th>\n",
       "      <th>zone</th>\n",
       "      <th>center</th>\n",
       "      <th>lat_lon_bounds</th>\n",
       "      <th>utm_bounds</th>\n",
       "      <th>countries</th>\n",
       "      <th>partial_updated</th>\n",
       "      <th>weighted_index</th>\n",
       "      <th>point_count</th>\n",
       "      <th>index_range</th>\n",
       "      <th>Density</th>\n",
       "    </tr>\n",
       "  </thead>\n",
       "  <tbody>\n",
       "    <tr>\n",
       "      <th>0</th>\n",
       "      <td>sentinel2_composite/transformed_data/42S/341-0...</td>\n",
       "      <td>42S</td>\n",
       "      <td>(67.78771480363916, 37.195334792066234)</td>\n",
       "      <td>[(67.77493453609193, 37.205298500604044), (67....</td>\n",
       "      <td>BoundingBox(left=391290.0, bottom=4116110.0, r...</td>\n",
       "      <td>['Tajikistan']</td>\n",
       "      <td>False</td>\n",
       "      <td>0.0</td>\n",
       "      <td>0.0</td>\n",
       "      <td>0.0</td>\n",
       "      <td>1</td>\n",
       "    </tr>\n",
       "    <tr>\n",
       "      <th>1</th>\n",
       "      <td>sentinel2_composite/transformed_data/42S/341-0...</td>\n",
       "      <td>42S</td>\n",
       "      <td>(67.78803746297999, 37.175147632248574)</td>\n",
       "      <td>[(67.77526071406628, 37.18511147083712), (67.7...</td>\n",
       "      <td>BoundingBox(left=391290.0, bottom=4113870.0, r...</td>\n",
       "      <td>['Tajikistan']</td>\n",
       "      <td>False</td>\n",
       "      <td>0.0</td>\n",
       "      <td>0.0</td>\n",
       "      <td>0.0</td>\n",
       "      <td>1</td>\n",
       "    </tr>\n",
       "    <tr>\n",
       "      <th>2</th>\n",
       "      <td>sentinel2_composite/transformed_data/42S/341-0...</td>\n",
       "      <td>42S</td>\n",
       "      <td>(67.7883598008825, 37.15496040109096)</td>\n",
       "      <td>[(67.77558656709091, 37.16492436967268), (67.7...</td>\n",
       "      <td>BoundingBox(left=391290.0, bottom=4111630.0, r...</td>\n",
       "      <td>['Tajikistan']</td>\n",
       "      <td>False</td>\n",
       "      <td>0.0</td>\n",
       "      <td>0.0</td>\n",
       "      <td>0.0</td>\n",
       "      <td>1</td>\n",
       "    </tr>\n",
       "    <tr>\n",
       "      <th>3</th>\n",
       "      <td>sentinel2_composite/transformed_data/42S/341-0...</td>\n",
       "      <td>42S</td>\n",
       "      <td>(67.78868181768202, 37.134773098609735)</td>\n",
       "      <td>[(67.77591209550492, 37.14473719712704), (67.7...</td>\n",
       "      <td>BoundingBox(left=391290.0, bottom=4109390.0, r...</td>\n",
       "      <td>['Tajikistan']</td>\n",
       "      <td>False</td>\n",
       "      <td>0.0</td>\n",
       "      <td>0.0</td>\n",
       "      <td>0.0</td>\n",
       "      <td>1</td>\n",
       "    </tr>\n",
       "    <tr>\n",
       "      <th>4</th>\n",
       "      <td>sentinel2_composite/transformed_data/42S/341-0...</td>\n",
       "      <td>42S</td>\n",
       "      <td>(67.7890035137133, 37.1145857248212)</td>\n",
       "      <td>[(67.7762372996468, 37.124549953216665), (67.7...</td>\n",
       "      <td>BoundingBox(left=391290.0, bottom=4107150.0, r...</td>\n",
       "      <td>['Tajikistan']</td>\n",
       "      <td>False</td>\n",
       "      <td>0.0</td>\n",
       "      <td>0.0</td>\n",
       "      <td>0.0</td>\n",
       "      <td>1</td>\n",
       "    </tr>\n",
       "  </tbody>\n",
       "</table>\n",
       "</div>"
      ],
      "text/plain": [
       "                                            filename zone  \\\n",
       "0  sentinel2_composite/transformed_data/42S/341-0...  42S   \n",
       "1  sentinel2_composite/transformed_data/42S/341-0...  42S   \n",
       "2  sentinel2_composite/transformed_data/42S/341-0...  42S   \n",
       "3  sentinel2_composite/transformed_data/42S/341-0...  42S   \n",
       "4  sentinel2_composite/transformed_data/42S/341-0...  42S   \n",
       "\n",
       "                                    center  \\\n",
       "0  (67.78771480363916, 37.195334792066234)   \n",
       "1  (67.78803746297999, 37.175147632248574)   \n",
       "2    (67.7883598008825, 37.15496040109096)   \n",
       "3  (67.78868181768202, 37.134773098609735)   \n",
       "4     (67.7890035137133, 37.1145857248212)   \n",
       "\n",
       "                                      lat_lon_bounds  \\\n",
       "0  [(67.77493453609193, 37.205298500604044), (67....   \n",
       "1  [(67.77526071406628, 37.18511147083712), (67.7...   \n",
       "2  [(67.77558656709091, 37.16492436967268), (67.7...   \n",
       "3  [(67.77591209550492, 37.14473719712704), (67.7...   \n",
       "4  [(67.7762372996468, 37.124549953216665), (67.7...   \n",
       "\n",
       "                                          utm_bounds       countries  \\\n",
       "0  BoundingBox(left=391290.0, bottom=4116110.0, r...  ['Tajikistan']   \n",
       "1  BoundingBox(left=391290.0, bottom=4113870.0, r...  ['Tajikistan']   \n",
       "2  BoundingBox(left=391290.0, bottom=4111630.0, r...  ['Tajikistan']   \n",
       "3  BoundingBox(left=391290.0, bottom=4109390.0, r...  ['Tajikistan']   \n",
       "4  BoundingBox(left=391290.0, bottom=4107150.0, r...  ['Tajikistan']   \n",
       "\n",
       "   partial_updated  weighted_index  point_count  index_range  Density  \n",
       "0            False             0.0          0.0          0.0        1  \n",
       "1            False             0.0          0.0          0.0        1  \n",
       "2            False             0.0          0.0          0.0        1  \n",
       "3            False             0.0          0.0          0.0        1  \n",
       "4            False             0.0          0.0          0.0        1  "
      ]
     },
     "execution_count": 5,
     "metadata": {},
     "output_type": "execute_result"
    }
   ],
   "source": [
    "meta_data_labels_density.head()"
   ]
  },
  {
   "cell_type": "code",
   "execution_count": 6,
   "metadata": {},
   "outputs": [],
   "source": [
    "# Write merged data to s3\n",
    "#meta_data_labels_density.to_csv(\"s3://w210-poverty-mapper/modeling/metadata/meta_data_labels_density.csv\", index=False)"
   ]
  },
  {
   "cell_type": "code",
   "execution_count": 7,
   "metadata": {},
   "outputs": [
    {
     "data": {
      "text/plain": [
       "count    140556.000000\n",
       "mean         29.130352\n",
       "std          30.700226\n",
       "min           0.000000\n",
       "25%           0.000000\n",
       "50%          25.683726\n",
       "75%          58.252846\n",
       "max          95.092183\n",
       "Name: weighted_index, dtype: float64"
      ]
     },
     "execution_count": 7,
     "metadata": {},
     "output_type": "execute_result"
    }
   ],
   "source": [
    "meta_data_labels_density[\"weighted_index\"].describe()"
   ]
  },
  {
   "cell_type": "code",
   "execution_count": 8,
   "metadata": {},
   "outputs": [
    {
     "data": {
      "text/plain": [
       "16100"
      ]
     },
     "execution_count": 8,
     "metadata": {},
     "output_type": "execute_result"
    }
   ],
   "source": [
    "meta_data_labels_density[\"weighted_index\"].isna().sum()"
   ]
  },
  {
   "cell_type": "code",
   "execution_count": 9,
   "metadata": {},
   "outputs": [
    {
     "data": {
      "text/plain": [
       "67645"
      ]
     },
     "execution_count": 9,
     "metadata": {},
     "output_type": "execute_result"
    }
   ],
   "source": [
    "zeros = meta_data_labels_density[meta_data_labels_density[\"weighted_index\"] == 0]\n",
    "zeros.shape[0]"
   ]
  },
  {
   "cell_type": "code",
   "execution_count": 10,
   "metadata": {},
   "outputs": [],
   "source": [
    "# Drop unpopulated areas and partial images\n",
    "meta_data_final = meta_data_labels_density[\n",
    "    (meta_data_labels_density[\"Density\"] == 1) & \n",
    "    (meta_data_labels_density[\"partial_updated\"] == False) & \n",
    "    (meta_data_labels_density[\"weighted_index\"] > 0) # change to (meta_data_labels_density[\"weighted_index\"].notna())\n",
    "]"
   ]
  },
  {
   "cell_type": "code",
   "execution_count": 11,
   "metadata": {},
   "outputs": [
    {
     "data": {
      "text/plain": [
       "(70031, 11)"
      ]
     },
     "execution_count": 11,
     "metadata": {},
     "output_type": "execute_result"
    }
   ],
   "source": [
    "# Check number of rows\n",
    "meta_data_final.shape"
   ]
  },
  {
   "cell_type": "code",
   "execution_count": 12,
   "metadata": {},
   "outputs": [
    {
     "data": {
      "text/plain": [
       "1    70031\n",
       "Name: Density, dtype: int64"
      ]
     },
     "execution_count": 12,
     "metadata": {},
     "output_type": "execute_result"
    }
   ],
   "source": [
    "# Make sure only populated\n",
    "meta_data_final[\"Density\"].value_counts()"
   ]
  },
  {
   "cell_type": "code",
   "execution_count": 13,
   "metadata": {},
   "outputs": [
    {
     "data": {
      "text/plain": [
       "False    70031\n",
       "Name: partial_updated, dtype: int64"
      ]
     },
     "execution_count": 13,
     "metadata": {},
     "output_type": "execute_result"
    }
   ],
   "source": [
    "# Make sure only full images\n",
    "meta_data_final[\"partial_updated\"].value_counts()"
   ]
  },
  {
   "cell_type": "code",
   "execution_count": 14,
   "metadata": {},
   "outputs": [
    {
     "data": {
      "text/plain": [
       "0"
      ]
     },
     "execution_count": 14,
     "metadata": {},
     "output_type": "execute_result"
    }
   ],
   "source": [
    "# Make sure no missing wealth index\n",
    "meta_data_final[\"weighted_index\"].isna().sum()"
   ]
  },
  {
   "cell_type": "code",
   "execution_count": 15,
   "metadata": {},
   "outputs": [
    {
     "data": {
      "text/plain": [
       "['Philippines']    28135\n",
       "['Bangladesh']     19258\n",
       "['Nepal']          12385\n",
       "['Tajikistan']      7233\n",
       "['Timor Leste']     3020\n",
       "Name: countries, dtype: int64"
      ]
     },
     "execution_count": 15,
     "metadata": {},
     "output_type": "execute_result"
    }
   ],
   "source": [
    "# Check number of remaining images per country\n",
    "meta_data_final[\"countries\"].value_counts()"
   ]
  },
  {
   "cell_type": "code",
   "execution_count": 16,
   "metadata": {},
   "outputs": [
    {
     "name": "stderr",
     "output_type": "stream",
     "text": [
      "/opt/conda/lib/python3.7/site-packages/ipykernel_launcher.py:2: SettingWithCopyWarning: \n",
      "A value is trying to be set on a copy of a slice from a DataFrame.\n",
      "Try using .loc[row_indexer,col_indexer] = value instead\n",
      "\n",
      "See the caveats in the documentation: https://pandas.pydata.org/pandas-docs/stable/user_guide/indexing.html#returning-a-view-versus-a-copy\n",
      "  \n",
      "/opt/conda/lib/python3.7/site-packages/ipykernel_launcher.py:3: SettingWithCopyWarning: \n",
      "A value is trying to be set on a copy of a slice from a DataFrame.\n",
      "Try using .loc[row_indexer,col_indexer] = value instead\n",
      "\n",
      "See the caveats in the documentation: https://pandas.pydata.org/pandas-docs/stable/user_guide/indexing.html#returning-a-view-versus-a-copy\n",
      "  This is separate from the ipykernel package so we can avoid doing imports until\n"
     ]
    }
   ],
   "source": [
    "# Bin wealth index into 5 quantiles\n",
    "meta_data_final[\"bin\"] = pd.qcut(meta_data_final[\"weighted_index\"], q=5, labels=False, duplicates=\"drop\")\n",
    "meta_data_final[\"bin_range\"] = pd.qcut(meta_data_final[\"weighted_index\"], q=5, duplicates=\"drop\")"
   ]
  },
  {
   "cell_type": "code",
   "execution_count": 17,
   "metadata": {},
   "outputs": [],
   "source": [
    "# Check bins and ranges\n",
    "#meta_data_final.head(50)\n",
    "#meta_data_final.tail(50)"
   ]
  },
  {
   "cell_type": "code",
   "execution_count": 18,
   "metadata": {},
   "outputs": [
    {
     "data": {
      "text/plain": [
       "1    14032\n",
       "0    14007\n",
       "4    14006\n",
       "2    13995\n",
       "3    13991\n",
       "Name: bin, dtype: int64"
      ]
     },
     "execution_count": 18,
     "metadata": {},
     "output_type": "execute_result"
    }
   ],
   "source": [
    "# Get overall bin value counts\n",
    "meta_data_final[\"bin\"].value_counts()"
   ]
  },
  {
   "cell_type": "code",
   "execution_count": 19,
   "metadata": {},
   "outputs": [
    {
     "data": {
      "image/png": "[encoded data removed]",
      "text/plain": [
       "<Figure size 864x432 with 5 Axes>"
      ]
     },
     "metadata": {
      "needs_background": "light"
     },
     "output_type": "display_data"
    }
   ],
   "source": [
    "# Plot histograms wealth index by country\n",
    "fig = plt.figure(figsize=(12,6))\n",
    "\n",
    "country_list = [c for c in meta_data_final[\"countries\"].unique()]\n",
    "\n",
    "for country, num in zip(country_list, range(1,6)):\n",
    "    ax = fig.add_subplot(2,3,num)\n",
    "    ax.hist(meta_data_final[\"weighted_index\"][meta_data_final[\"countries\"] == country])\n",
    "    ax.set_title(country)\n",
    "    ax.set_ylim([0, 10000])\n",
    "    ax.set_xlim([0, 100])\n",
    "\n",
    "plt.tight_layout()\n",
    "plt.show()"
   ]
  },
  {
   "cell_type": "code",
   "execution_count": 20,
   "metadata": {},
   "outputs": [
    {
     "data": {
      "image/png": "[encoded data removed]",
      "text/plain": [
       "<Figure size 864x432 with 5 Axes>"
      ]
     },
     "metadata": {
      "needs_background": "light"
     },
     "output_type": "display_data"
    }
   ],
   "source": [
    "# Plot histograms of bins by country\n",
    "fig = plt.figure(figsize=(12,6))\n",
    "\n",
    "country_list = [c for c in meta_data_final[\"countries\"].unique()]\n",
    "\n",
    "for country, num in zip(country_list, range(1,6)):\n",
    "    ax = fig.add_subplot(2,3,num)\n",
    "    ax.hist(meta_data_final[\"bin\"][meta_data_final[\"countries\"] == country])\n",
    "    ax.set_title(country)\n",
    "    ax.set_ylim([0, 15000])\n",
    "    ax.set_xlim([0, 4])\n",
    "    ax.set_xticks([0,1,2,3,4]) \n",
    "\n",
    "plt.tight_layout()\n",
    "plt.show()"
   ]
  },
  {
   "cell_type": "code",
   "execution_count": 21,
   "metadata": {},
   "outputs": [],
   "source": [
    "# Write final meta data to s3\n",
    "meta_data_final.to_csv(\"s3://w210-poverty-mapper/modeling/metadata/meta_data_final.csv\", index=False)"
   ]
  }
 ],
 "metadata": {
  "instance_type": "ml.t3.medium",
  "kernelspec": {
   "display_name": "Python 3 (Data Science)",
   "language": "python",
   "name": "python3__SAGEMAKER_INTERNAL__arn:aws:sagemaker:us-east-1:081325390199:image/datascience-1.0"
  },
  "language_info": {
   "codemirror_mode": {
    "name": "ipython",
    "version": 3
   },
   "file_extension": ".py",
   "mimetype": "text/x-python",
   "name": "python",
   "nbconvert_exporter": "python",
   "pygments_lexer": "ipython3",
   "version": "3.7.10"
  }
 },
 "nbformat": 4,
 "nbformat_minor": 4
}
