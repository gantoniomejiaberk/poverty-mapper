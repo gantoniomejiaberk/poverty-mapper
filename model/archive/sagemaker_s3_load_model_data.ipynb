{
 "cells": [
  {
   "cell_type": "code",
   "execution_count": 1,
   "metadata": {},
   "outputs": [],
   "source": [
    "import pandas as pd\n",
    "from sklearn.model_selection import train_test_split\n",
    "from sklearn.utils import shuffle\n",
    "import os\n",
    "import boto3\n",
    "import timeit"
   ]
  },
  {
   "cell_type": "code",
   "execution_count": 2,
   "metadata": {},
   "outputs": [],
   "source": [
    "def s3_model_data(meta_data):\n",
    "    \n",
    "    \"\"\"\n",
    "    Take a meta_data dataframe and create train/val/test \n",
    "    directories on s3 and corresponding .lst files for \n",
    "    each country in the meta_data dataframe.\n",
    "    \"\"\"\n",
    "    \n",
    "    start = timeit.default_timer()\n",
    "    \n",
    "    # Set boto3 resource\n",
    "    s3 = boto3.resource(\"s3\")\n",
    "    \n",
    "    # Parse and lower country names\n",
    "    meta_data[\"countries_parsed\"] = meta_data[\"countries\"].map(lambda x: x.lstrip(\"['\").rstrip(\"'']\").lower())\n",
    "    \n",
    "    # Add png to path\n",
    "    meta_data[\"path\"] = meta_data[\"filename\"].map(lambda x: x + \".png\")\n",
    "    \n",
    "    # Add filename only\n",
    "    meta_data[\"name\"] = meta_data[\"path\"].map(lambda x: x.split(\"/\")[-1])\n",
    "    \n",
    "    # Get unique list of countries\n",
    "    #country_list = [c for c in meta_data[\"countries_parsed\"].unique()]\n",
    "    country_list = [\"bangladesh\"]\n",
    "    \n",
    "    # Add unique ID\n",
    "    meta_data['id'] = range(0, len(meta_data))\n",
    "\n",
    "    for country in (country_list):\n",
    "        print(country)\n",
    "        \n",
    "        # Get test/train images\n",
    "        test = meta_data[meta_data[\"countries_parsed\"] == country]\n",
    "        rest = meta_data[meta_data[\"countries_parsed\"] != country]\n",
    "        \n",
    "        # Shuffle test data\n",
    "        test = shuffle(test)\n",
    "        \n",
    "        # Get shuffled 80/20 train/validation split\n",
    "        train, val = train_test_split(rest, test_size=0.2)\n",
    "        \n",
    "        image_set = {\"test\": test,\n",
    "                     \"train\": train,\n",
    "                     \"val\": val}\n",
    "                     \n",
    "        for key, value in image_set.items():\n",
    "            for index, row in value.head(1000).iterrows():\n",
    "\n",
    "                copy_source = {\n",
    "                    \"Bucket\": \"w210-poverty-mapper\",\n",
    "                    \"Key\": row[\"path\"]\n",
    "                }\n",
    "                s3.meta.client.copy(copy_source, \"w210-poverty-mapper\", \"modeling/images/\" + country +  \"_\" + key + \"/\" + row[\"name\"])\n",
    "                \n",
    "            # Keep relevant columns\n",
    "            subset = value[[\"id\", \"bin\", \"name\"]]\n",
    "            \n",
    "            output_path = \"s3://w210-poverty-mapper/modeling/metadata/lsts/\"\n",
    "            \n",
    "            # Set output path\n",
    "            path = output_path + country + \"_\" + key + \"_lst/\"\n",
    "            \n",
    "            # Write .lst file\n",
    "            subset.head(1000).to_csv(path + country + \"_\" + key + \".lst\", index=False, sep =\"\\t\", header=False)\n",
    "            print(\"wrote {} to s3\".format(path))\n",
    "    \n",
    "    stop = timeit.default_timer()\n",
    "    print('Time: ', round((stop - start)/60, 2))\n",
    "            "
   ]
  },
  {
   "cell_type": "code",
   "execution_count": 3,
   "metadata": {},
   "outputs": [],
   "source": [
    "meta_data = pd.read_csv(\"s3://w210-poverty-mapper/modeling/metadata/meta_data_final.csv\")"
   ]
  },
  {
   "cell_type": "code",
   "execution_count": 4,
   "metadata": {},
   "outputs": [
    {
     "name": "stdout",
     "output_type": "stream",
     "text": [
      "bangladesh\n",
      "wrote s3://w210-poverty-mapper/modeling/metadata/lsts/bangladesh_test_lst/ to s3\n",
      "wrote s3://w210-poverty-mapper/modeling/metadata/lsts/bangladesh_train_lst/ to s3\n",
      "wrote s3://w210-poverty-mapper/modeling/metadata/lsts/bangladesh_val_lst/ to s3\n",
      "Time:  9.24\n"
     ]
    }
   ],
   "source": [
    "s3_model_data(meta_data)"
   ]
  },
  {
   "cell_type": "code",
   "execution_count": null,
   "metadata": {},
   "outputs": [],
   "source": []
  }
 ],
 "metadata": {
  "instance_type": "ml.t3.medium",
  "kernelspec": {
   "display_name": "Python 3 (Data Science)",
   "language": "python",
   "name": "python3__SAGEMAKER_INTERNAL__arn:aws:sagemaker:us-east-1:081325390199:image/datascience-1.0"
  },
  "language_info": {
   "codemirror_mode": {
    "name": "ipython",
    "version": 3
   },
   "file_extension": ".py",
   "mimetype": "text/x-python",
   "name": "python",
   "nbconvert_exporter": "python",
   "pygments_lexer": "ipython3",
   "version": "3.7.10"
  }
 },
 "nbformat": 4,
 "nbformat_minor": 4
}
