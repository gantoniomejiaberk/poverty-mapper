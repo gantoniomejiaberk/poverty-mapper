{
 "cells": [
  {
   "cell_type": "code",
   "execution_count": 1,
   "metadata": {},
   "outputs": [],
   "source": [
    "import numpy as np\n",
    "import pandas as pd\n",
    "from sklearn.model_selection import train_test_split\n",
    "from sklearn.utils import shuffle\n",
    "from sklearn.utils import resample\n",
    "import os\n",
    "import shutil\n",
    "import timeit\n",
    "from get_data_splits import get_even_samples, leave_one_out_csvs, within_country_csvs, leave_one_out_subset, cross_country_subset"
   ]
  },
  {
   "cell_type": "code",
   "execution_count": 2,
   "metadata": {},
   "outputs": [],
   "source": [
    "# Load five across datasets\n",
    "labels_only_2_5k_1d_across_5 = pd.read_csv(\"s3://w210-poverty-mapper/modeling/metadata/labeled_metadata/labels_only_2_5k_1d_across_5.csv\")\n",
    "labels_only_5k_1d_across_5 = pd.read_csv(\"s3://w210-poverty-mapper/modeling/metadata/labeled_metadata/labels_only_5k_1d_across_5.csv\")\n",
    "labels_only_10k_1d_across_5 = pd.read_csv(\"s3://w210-poverty-mapper/modeling/metadata/labeled_metadata/labels_only_10k_1d_across_5.csv\")\n",
    "\n",
    "labels_only_2_5k_50d_across_5 = pd.read_csv(\"s3://w210-poverty-mapper/modeling/metadata/labeled_metadata/labels_only_2_5k_50d_across_5.csv\")\n",
    "labels_only_5k_50d_across_5 = pd.read_csv(\"s3://w210-poverty-mapper/modeling/metadata/labeled_metadata/labels_only_5k_50d_across_5.csv\")\n",
    "labels_only_10k_50d_across_5 = pd.read_csv(\"s3://w210-poverty-mapper/modeling/metadata/labeled_metadata/labels_only_10k_50d_across_5.csv\")\n",
    "\n",
    "labels_only_2_5k_100d_across_5 = pd.read_csv(\"s3://w210-poverty-mapper/modeling/metadata/labeled_metadata/labels_only_2_5k_100d_across_5.csv\")\n",
    "labels_only_5k_100d_across_5 = pd.read_csv(\"s3://w210-poverty-mapper/modeling/metadata/labeled_metadata/labels_only_5k_100d_across_5.csv\")\n",
    "labels_only_10k_100d_across_5 = pd.read_csv(\"s3://w210-poverty-mapper/modeling/metadata/labeled_metadata/labels_only_10k_100d_across_5.csv\")"
   ]
  },
  {
   "cell_type": "code",
   "execution_count": 3,
   "metadata": {},
   "outputs": [],
   "source": [
    "# Load two across 0.2 datasets\n",
    "labels_only_2_5k_1d_across_2_02 = pd.read_csv(\"s3://w210-poverty-mapper/modeling/metadata/labeled_metadata/labels_only_2_5k_1d_across_2_0.2.csv\")\n",
    "labels_only_5k_1d_across_2_02 = pd.read_csv(\"s3://w210-poverty-mapper/modeling/metadata/labeled_metadata/labels_only_5k_1d_across_2_0.2.csv\")\n",
    "labels_only_10k_1d_across_2_02 = pd.read_csv(\"s3://w210-poverty-mapper/modeling/metadata/labeled_metadata/labels_only_10k_1d_across_2_0.2.csv\")\n",
    "\n",
    "labels_only_2_5k_50d_across_2_02 = pd.read_csv(\"s3://w210-poverty-mapper/modeling/metadata/labeled_metadata/labels_only_2_5k_50d_across_2_0.2.csv\")\n",
    "labels_only_5k_50d_across_2_02 = pd.read_csv(\"s3://w210-poverty-mapper/modeling/metadata/labeled_metadata/labels_only_5k_50d_across_2_0.2.csv\")\n",
    "labels_only_10k_50d_across_2_02 = pd.read_csv(\"s3://w210-poverty-mapper/modeling/metadata/labeled_metadata/labels_only_10k_50d_across_2_0.2.csv\")\n",
    "\n",
    "labels_only_2_5k_100d_across_2_02 = pd.read_csv(\"s3://w210-poverty-mapper/modeling/metadata/labeled_metadata/labels_only_2_5k_100d_across_2_0.2.csv\")\n",
    "labels_only_5k_100d_across_2_02 = pd.read_csv(\"s3://w210-poverty-mapper/modeling/metadata/labeled_metadata/labels_only_5k_100d_across_2_0.2.csv\")\n",
    "labels_only_10k_100d_across_2_02 = pd.read_csv(\"s3://w210-poverty-mapper/modeling/metadata/labeled_metadata/labels_only_10k_100d_across_2_0.2.csv\")"
   ]
  },
  {
   "cell_type": "code",
   "execution_count": 4,
   "metadata": {},
   "outputs": [],
   "source": [
    "# Load five within datasets\n",
    "labels_only_2_5k_1d_within_5 = pd.read_csv(\"s3://w210-poverty-mapper/modeling/metadata/labeled_metadata/labels_only_2_5k_1d_within_5.csv\")\n",
    "labels_only_5k_1d_within_5 = pd.read_csv(\"s3://w210-poverty-mapper/modeling/metadata/labeled_metadata/labels_only_5k_1d_within_5.csv\")\n",
    "labels_only_10k_1d_within_5 = pd.read_csv(\"s3://w210-poverty-mapper/modeling/metadata/labeled_metadata/labels_only_10k_1d_within_5.csv\")\n",
    "\n",
    "labels_only_2_5k_50d_within_5 = pd.read_csv(\"s3://w210-poverty-mapper/modeling/metadata/labeled_metadata/labels_only_2_5k_50d_within_5.csv\")\n",
    "labels_only_5k_50d_within_5 = pd.read_csv(\"s3://w210-poverty-mapper/modeling/metadata/labeled_metadata/labels_only_5k_50d_within_5.csv\")\n",
    "labels_only_10k_50d_within_5 = pd.read_csv(\"s3://w210-poverty-mapper/modeling/metadata/labeled_metadata/labels_only_10k_50d_within_5.csv\")\n",
    "\n",
    "labels_only_2_5k_100d_within_5 = pd.read_csv(\"s3://w210-poverty-mapper/modeling/metadata/labeled_metadata/labels_only_2_5k_100d_within_5.csv\")\n",
    "labels_only_5k_100d_within_5 = pd.read_csv(\"s3://w210-poverty-mapper/modeling/metadata/labeled_metadata/labels_only_5k_100d_within_5.csv\")\n",
    "labels_only_10k_100d_within_5 = pd.read_csv(\"s3://w210-poverty-mapper/modeling/metadata/labeled_metadata/labels_only_10k_100d_within_5.csv\")"
   ]
  },
  {
   "cell_type": "code",
   "execution_count": 5,
   "metadata": {},
   "outputs": [],
   "source": [
    "# Load two within 0.2 datasets\n",
    "labels_only_2_5k_1d_within_2_02 = pd.read_csv(\"s3://w210-poverty-mapper/modeling/metadata/labeled_metadata/labels_only_2_5k_1d_within_2_0.2.csv\")\n",
    "labels_only_5k_1d_within_2_02 = pd.read_csv(\"s3://w210-poverty-mapper/modeling/metadata/labeled_metadata/labels_only_5k_1d_within_2_0.2.csv\")\n",
    "labels_only_10k_1d_within_2_02 = pd.read_csv(\"s3://w210-poverty-mapper/modeling/metadata/labeled_metadata/labels_only_10k_1d_within_2_0.2.csv\")\n",
    "\n",
    "labels_only_2_5k_50d_within_2_02 = pd.read_csv(\"s3://w210-poverty-mapper/modeling/metadata/labeled_metadata/labels_only_2_5k_50d_within_2_0.2.csv\")\n",
    "labels_only_5k_50d_within_2_02 = pd.read_csv(\"s3://w210-poverty-mapper/modeling/metadata/labeled_metadata/labels_only_5k_50d_within_2_0.2.csv\")\n",
    "labels_only_10k_50d_within_2_02 = pd.read_csv(\"s3://w210-poverty-mapper/modeling/metadata/labeled_metadata/labels_only_10k_50d_within_2_0.2.csv\")\n",
    "\n",
    "labels_only_2_5k_100d_within_2_02 = pd.read_csv(\"s3://w210-poverty-mapper/modeling/metadata/labeled_metadata/labels_only_2_5k_100d_within_2_0.2.csv\")\n",
    "labels_only_5k_100d_within_2_02 = pd.read_csv(\"s3://w210-poverty-mapper/modeling/metadata/labeled_metadata/labels_only_5k_100d_within_2_0.2.csv\")\n",
    "labels_only_10k_100d_within_2_02 = pd.read_csv(\"s3://w210-poverty-mapper/modeling/metadata/labeled_metadata/labels_only_10k_100d_within_2_0.2.csv\")"
   ]
  },
  {
   "cell_type": "code",
   "execution_count": 6,
   "metadata": {},
   "outputs": [],
   "source": [
    "# Set up bin type dictionaries\n",
    "five_across_dict = {\"2_5k_1d\": labels_only_2_5k_1d_across_5, \n",
    "             \"5k_1d\": labels_only_5k_1d_across_5, \n",
    "             \"10k_1d\": labels_only_10k_1d_across_5,\n",
    "             \"2_5k_50d\": labels_only_2_5k_50d_across_5, \n",
    "             \"5k_50d\": labels_only_5k_50d_across_5, \n",
    "             \"10k_50d\": labels_only_10k_50d_across_5,\n",
    "             \"2_5k_100d\": labels_only_2_5k_100d_across_5, \n",
    "             \"5k_100d\": labels_only_5k_100d_across_5, \n",
    "             \"10k_100d\": labels_only_10k_100d_across_5\n",
    "}\n",
    "\n",
    "two_02_across_dict = {\"2_5k_1d\": labels_only_2_5k_1d_across_2_02, \n",
    "             \"5k_1d\": labels_only_5k_1d_across_2_02, \n",
    "             \"10k_1d\": labels_only_10k_1d_across_2_02,\n",
    "             \"2_5k_50d\": labels_only_2_5k_50d_across_2_02, \n",
    "             \"5k_50d\": labels_only_5k_50d_across_2_02, \n",
    "             \"10k_50d\": labels_only_10k_50d_across_2_02,\n",
    "             \"2_5k_100d\": labels_only_2_5k_100d_across_2_02, \n",
    "             \"5k_100d\": labels_only_5k_100d_across_2_02, \n",
    "             \"10k_100d\": labels_only_10k_100d_across_2_02\n",
    "}\n",
    "\n",
    "five_within_dict = {\"2_5k_1d\": labels_only_2_5k_1d_within_5, \n",
    "              \"5k_1d\": labels_only_5k_1d_within_5, \n",
    "              \"10k_1d\": labels_only_10k_1d_within_5,\n",
    "              \"2_5k_50d\": labels_only_2_5k_50d_within_5, \n",
    "              \"5k_50d\": labels_only_5k_50d_within_5, \n",
    "              \"10k_50d\": labels_only_10k_50d_within_5,\n",
    "              \"2_5k_100d\": labels_only_2_5k_100d_within_5, \n",
    "              \"5k_100d\": labels_only_5k_100d_within_5, \n",
    "              \"10k_100d\": labels_only_10k_100d_within_5\n",
    "}\n",
    "\n",
    "two_02_within_dict = {\"2_5k_1d\": labels_only_2_5k_1d_within_2_02, \n",
    "             \"5k_1d\": labels_only_5k_1d_within_2_02, \n",
    "             \"10k_1d\": labels_only_10k_1d_within_2_02,\n",
    "             \"2_5k_50d\": labels_only_2_5k_50d_within_2_02, \n",
    "             \"5k_50d\": labels_only_5k_50d_within_2_02, \n",
    "             \"10k_50d\": labels_only_10k_50d_within_2_02,\n",
    "             \"2_5k_100d\": labels_only_2_5k_100d_within_2_02, \n",
    "             \"5k_100d\": labels_only_5k_100d_within_2_02, \n",
    "             \"10k_100d\": labels_only_10k_100d_within_2_02\n",
    "}\n",
    "\n",
    "# Set up master dictionary\n",
    "bin_type_dict = {\"five_across\": five_across_dict,\n",
    "                 \"two_02_across\":two_02_across_dict,\n",
    "                 \"five_within\": five_within_dict,\n",
    "                 \"two_02_within\": two_02_within_dict}"
   ]
  },
  {
   "cell_type": "code",
   "execution_count": 7,
   "metadata": {},
   "outputs": [],
   "source": [
    "# # Get leave one out csvs for each label/distance combo\n",
    "# for key, value in bin_type_dict.items():\n",
    "#     for sub_key, sub_value in value.items():\n",
    "#         leave_one_out_csvs(meta_data = sub_value, \n",
    "#                            meta_data_name = sub_key, \n",
    "#                            directory = key)"
   ]
  },
  {
   "cell_type": "code",
   "execution_count": 8,
   "metadata": {},
   "outputs": [],
   "source": [
    "# # Get leave one out csvs for each label/distance combo - EVEN CLASSES\n",
    "# for key, value in bin_type_dict.items():\n",
    "#     for sub_key, sub_value in value.items():\n",
    "#         leave_one_out_csvs(meta_data = sub_value, \n",
    "#                            meta_data_name = sub_key, \n",
    "#                            directory = key, \n",
    "#                            even = True)"
   ]
  },
  {
   "cell_type": "code",
   "execution_count": 9,
   "metadata": {},
   "outputs": [],
   "source": [
    "# # Get within country csvs for each label/distance combo\n",
    "# for key, value in bin_type_dict.items():\n",
    "#     for sub_key, sub_value in value.items():\n",
    "#         within_country_csvs(meta_data = sub_value, \n",
    "#                         meta_data_name = sub_key, \n",
    "#                         directory = key)"
   ]
  },
  {
   "cell_type": "code",
   "execution_count": 10,
   "metadata": {},
   "outputs": [],
   "source": [
    "# # Get within country csvs for each label/distance combo - EVEN CLASSES\n",
    "# for key, value in bin_type_dict.items():\n",
    "#     for sub_key, sub_value in value.items():\n",
    "#         within_country_csvs(meta_data = sub_value, \n",
    "#                         meta_data_name = sub_key, \n",
    "#                         directory = key, \n",
    "#                         even = True)"
   ]
  },
  {
   "cell_type": "code",
   "execution_count": 11,
   "metadata": {},
   "outputs": [],
   "source": [
    "# # Get Southeast Asia leave one out (V1 leave out East Timor)\n",
    "# for key, value in bin_type_dict.items():\n",
    "#     for sub_key, sub_value in value.items():\n",
    "#         leave_one_out_subset(meta_data = sub_value, \n",
    "#                              meta_data_name = sub_key,\n",
    "#                              split_name = \"southeast_leave_one_out_v1\", \n",
    "#                              hold_out_list = [\"timor_leste\"],\n",
    "#                              train_list = [\"philippines\"], \n",
    "#                              directory = key)"
   ]
  },
  {
   "cell_type": "code",
   "execution_count": 12,
   "metadata": {},
   "outputs": [],
   "source": [
    "# # Get Southeast Asia leave one out (V1 leave out East Timor) - EVEN CLASSES\n",
    "# for key, value in bin_type_dict.items():\n",
    "#     for sub_key, sub_value in value.items():\n",
    "#         leave_one_out_subset(meta_data = sub_value, \n",
    "#                              meta_data_name = sub_key,\n",
    "#                              split_name = \"southeast_leave_one_out_v1\", \n",
    "#                              hold_out_list = [\"timor_leste\"],\n",
    "#                              train_list = [\"philippines\"], \n",
    "#                              directory = key, \n",
    "#                              even = True)"
   ]
  },
  {
   "cell_type": "code",
   "execution_count": 13,
   "metadata": {},
   "outputs": [],
   "source": [
    "# # Get South-Central Asia leave one out (V1 leave out Tajikistan no Bangladesh)\n",
    "# for key, value in bin_type_dict.items():\n",
    "#     for sub_key, sub_value in value.items():\n",
    "#         leave_one_out_subset(meta_data = sub_value, \n",
    "#                              meta_data_name = sub_key,\n",
    "#                              split_name = \"south_central_leave_one_out_v1\", \n",
    "#                              hold_out_list = [\"tajikistan\"], \n",
    "#                              train_list = [\"nepal\"], \n",
    "#                              directory = key)"
   ]
  },
  {
   "cell_type": "code",
   "execution_count": 14,
   "metadata": {},
   "outputs": [],
   "source": [
    "# # Get South-Central Asia leave one out (V1 leave out Tajikistan no Bangladesh) - EVEN CLASSES\n",
    "# for key, value in bin_type_dict.items():\n",
    "#     for sub_key, sub_value in value.items():\n",
    "#         leave_one_out_subset(meta_data = sub_value, \n",
    "#                              meta_data_name = sub_key,\n",
    "#                              split_name = \"south_central_leave_one_out_v1\", \n",
    "#                              hold_out_list = [\"tajikistan\"], \n",
    "#                              train_list = [\"nepal\"], \n",
    "#                              directory = key,\n",
    "#                              even = True)"
   ]
  },
  {
   "cell_type": "code",
   "execution_count": 15,
   "metadata": {},
   "outputs": [],
   "source": [
    "# # Get South-Central Asia leave one out (V2 leave out Tajikistan add Bangladesh)\n",
    "# for key, value in bin_type_dict.items():\n",
    "#     for sub_key, sub_value in value.items():\n",
    "#         leave_one_out_subset(meta_data = sub_value, \n",
    "#                              meta_data_name = sub_key,\n",
    "#                              split_name = \"south_central_leave_one_out_v2\", \n",
    "#                              hold_out_list = [\"tajikistan\"], \n",
    "#                              train_list = [\"bangladesh\", \"nepal\"], \n",
    "#                              directory = key)"
   ]
  },
  {
   "cell_type": "code",
   "execution_count": 16,
   "metadata": {},
   "outputs": [],
   "source": [
    "# # Get South-Central Asia leave one out (V2 leave out Tajikistan add Bangladesh) - EVEN CLASSES\n",
    "# for key, value in bin_type_dict.items():\n",
    "#     for sub_key, sub_value in value.items():\n",
    "#         leave_one_out_subset(meta_data = sub_value, \n",
    "#                              meta_data_name = sub_key,\n",
    "#                              split_name = \"south_central_leave_one_out_v2\", \n",
    "#                              hold_out_list = [\"tajikistan\"], \n",
    "#                              train_list = [\"bangladesh\", \"nepal\"], \n",
    "#                              directory = key, \n",
    "#                              even = True)"
   ]
  },
  {
   "cell_type": "code",
   "execution_count": 17,
   "metadata": {},
   "outputs": [],
   "source": [
    "# # Get South-Central Asia leave one out (V3 leave out Nepal) - EVEN CLASSES\n",
    "# for key, value in bin_type_dict.items():\n",
    "#     for sub_key, sub_value in value.items():\n",
    "#         leave_one_out_subset(meta_data = sub_value, \n",
    "#                              meta_data_name = sub_key,\n",
    "#                              split_name = \"south_central_leave_one_out_v3\", \n",
    "#                              hold_out_list = [\"nepal\"], \n",
    "#                              train_list = [\"bangladesh\", \"tajikistan\"], \n",
    "#                              directory = key, \n",
    "#                              even = True)"
   ]
  },
  {
   "cell_type": "code",
   "execution_count": 18,
   "metadata": {},
   "outputs": [],
   "source": [
    "# # Get South-Central Asia leave one out (V3 leave out Tajikistan add Bangladesh) - EVEN CLASSES\n",
    "# for key, value in bin_type_dict.items():\n",
    "#     for sub_key, sub_value in value.items():\n",
    "#         leave_one_out_subset(meta_data = sub_value, \n",
    "#                              meta_data_name = sub_key,\n",
    "#                              split_name = \"south_central_leave_one_out_v4\", \n",
    "#                              hold_out_list = [\"nepal\"], \n",
    "#                              train_list = [\"bangladesh\"], \n",
    "#                              directory = key, \n",
    "#                              even = True)"
   ]
  },
  {
   "cell_type": "code",
   "execution_count": 19,
   "metadata": {},
   "outputs": [],
   "source": [
    "# # Get Southeast Asia cross-country (V1 East Timor and Philippines)\n",
    "# for key, value in bin_type_dict.items():\n",
    "#     for sub_key, sub_value in value.items():\n",
    "#         cross_country_subset(meta_data = sub_value,\n",
    "#                              meta_data_name = sub_key,\n",
    "#                              split_name = \"southeast_cross_country_v1\", \n",
    "#                              subset_list = [\"timor_leste\", \"philippines\"], \n",
    "#                              directory = key) "
   ]
  },
  {
   "cell_type": "code",
   "execution_count": 20,
   "metadata": {},
   "outputs": [],
   "source": [
    "# # Get Southeast Asia cross-country (V1 East Timor and Philippines) - EVEN CLASSES\n",
    "# for key, value in bin_type_dict.items():\n",
    "#     for sub_key, sub_value in value.items():\n",
    "#         cross_country_subset(meta_data = sub_value,\n",
    "#                              meta_data_name = sub_key,\n",
    "#                              split_name = \"southeast_cross_country_v1\", \n",
    "#                              subset_list = [\"timor_leste\", \"philippines\"], \n",
    "#                              directory = key, \n",
    "#                              even = True) "
   ]
  },
  {
   "cell_type": "code",
   "execution_count": 21,
   "metadata": {},
   "outputs": [],
   "source": [
    "# # Get South-Central Asia cross-country (V1 without Bangladesh)\n",
    "# for key, value in bin_type_dict.items():\n",
    "#     for sub_key, sub_value in value.items():\n",
    "#         cross_country_subset(meta_data = sub_value,\n",
    "#                              meta_data_name = sub_key,\n",
    "#                              split_name = \"south_central_cross_country_v1\", \n",
    "#                              subset_list = [\"tajikistan\", \"nepal\"], \n",
    "#                              directory = key) "
   ]
  },
  {
   "cell_type": "code",
   "execution_count": 22,
   "metadata": {},
   "outputs": [],
   "source": [
    "# # Get South-Central Asia cross-country (V1 without Bangladesh) - EVEN CLASSES\n",
    "# for key, value in bin_type_dict.items():\n",
    "#     for sub_key, sub_value in value.items():\n",
    "#         cross_country_subset(meta_data = sub_value,\n",
    "#                              meta_data_name = sub_key,\n",
    "#                              split_name = \"south_central_cross_country_v1\", \n",
    "#                              subset_list = [\"tajikistan\", \"nepal\"], \n",
    "#                              directory = key, \n",
    "#                              even = True) "
   ]
  },
  {
   "cell_type": "code",
   "execution_count": 23,
   "metadata": {},
   "outputs": [],
   "source": [
    "# # Get South-Central Asia cross-country (V2 with Bangladesh)\n",
    "# for key, value in bin_type_dict.items():\n",
    "#     for sub_key, sub_value in value.items():\n",
    "#         cross_country_subset(meta_data = sub_value, \n",
    "#                              meta_data_name = sub_key,\n",
    "#                              split_name = \"south_central_cross_country_v2\", \n",
    "#                              subset_list = [\"bangladesh\", \"tajikistan\", \"nepal\"], \n",
    "#                              directory = key) "
   ]
  },
  {
   "cell_type": "code",
   "execution_count": 24,
   "metadata": {},
   "outputs": [],
   "source": [
    "# # Get South-Central Asia cross-country (V2 with Bangladesh) - EVEN CLASSES\n",
    "# for key, value in bin_type_dict.items():\n",
    "#     for sub_key, sub_value in value.items():\n",
    "#         cross_country_subset(meta_data = sub_value, \n",
    "#                              meta_data_name = sub_key,\n",
    "#                              split_name = \"south_central_cross_country_v2\", \n",
    "#                              subset_list = [\"bangladesh\", \"tajikistan\", \"nepal\"], \n",
    "#                              directory = key, \n",
    "#                              even = True) "
   ]
  },
  {
   "cell_type": "code",
   "execution_count": 27,
   "metadata": {},
   "outputs": [],
   "source": [
    "# # Get South-Central Asia cross-country (V3 with Bangladesh)\n",
    "# for key, value in bin_type_dict.items():\n",
    "#     for sub_key, sub_value in value.items():\n",
    "#         cross_country_subset(meta_data = sub_value, \n",
    "#                              meta_data_name = sub_key,\n",
    "#                              split_name = \"south_central_cross_country_v3\", \n",
    "#                              subset_list = [\"bangladesh\", \"nepal\"], \n",
    "#                              directory = key) "
   ]
  },
  {
   "cell_type": "code",
   "execution_count": 28,
   "metadata": {},
   "outputs": [],
   "source": [
    "# # Get South-Central Asia cross-country (V3 with Bangladesh) - EVEN CLASSES\n",
    "# for key, value in bin_type_dict.items():\n",
    "#     for sub_key, sub_value in value.items():\n",
    "#         cross_country_subset(meta_data = sub_value, \n",
    "#                              meta_data_name = sub_key,\n",
    "#                              split_name = \"south_central_cross_country_v3\", \n",
    "#                              subset_list = [\"bangladesh\", \"nepal\"], \n",
    "#                              directory = key, \n",
    "#                              even = True) "
   ]
  },
  {
   "cell_type": "code",
   "execution_count": null,
   "metadata": {},
   "outputs": [],
   "source": []
  }
 ],
 "metadata": {
  "instance_type": "ml.t3.medium",
  "kernelspec": {
   "display_name": "Python 3 (Data Science)",
   "language": "python",
   "name": "python3__SAGEMAKER_INTERNAL__arn:aws:sagemaker:us-east-1:081325390199:image/datascience-1.0"
  },
  "language_info": {
   "codemirror_mode": {
    "name": "ipython",
    "version": 3
   },
   "file_extension": ".py",
   "mimetype": "text/x-python",
   "name": "python",
   "nbconvert_exporter": "python",
   "pygments_lexer": "ipython3",
   "version": "3.7.10"
  }
 },
 "nbformat": 4,
 "nbformat_minor": 4
}
