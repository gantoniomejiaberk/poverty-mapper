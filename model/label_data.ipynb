{
 "cells": [
  {
   "cell_type": "code",
   "execution_count": 1,
   "metadata": {},
   "outputs": [],
   "source": [
    "#!pip install tdqm geopy"
   ]
  },
  {
   "cell_type": "code",
   "execution_count": 2,
   "metadata": {},
   "outputs": [],
   "source": [
    "import pandas as pd\n",
    "import numpy as np\n",
    "import boto3\n",
    "from tqdm.notebook import trange, tqdm\n",
    "from math import cos, radians, nan\n",
    "import geopy.distance\n",
    "\n",
    "from add_labels import add_bins, add_labels"
   ]
  },
  {
   "cell_type": "code",
   "execution_count": 3,
   "metadata": {},
   "outputs": [],
   "source": [
    "# Load metadata\n",
    "meta_data = pd.read_csv(\"s3://w210-poverty-mapper/modeling/metadata/source_data/meta_data_full_updated_density_new_full_value_LZ.csv\")\n",
    "\n",
    "# Load survey data\n",
    "dhs_data = pd.read_csv(\"s3://w210-poverty-mapper/modeling/metadata/source_data/dhs_wealth_index_boundaries.csv\")"
   ]
  },
  {
   "cell_type": "code",
   "execution_count": 4,
   "metadata": {},
   "outputs": [],
   "source": [
    "# Get density subsets and remove partial images\n",
    "meta_data_1d = meta_data[(meta_data[\"Density\"] >= 1) & (meta_data[\"partial_updated\"] == False)]\n",
    "meta_data_50d = meta_data[(meta_data[\"Density\"] >= 50) & (meta_data[\"partial_updated\"] == False)]\n",
    "meta_data_100d = meta_data[(meta_data[\"Density\"] >= 100) & (meta_data[\"partial_updated\"] == False)]"
   ]
  },
  {
   "cell_type": "code",
   "execution_count": 5,
   "metadata": {},
   "outputs": [],
   "source": [
    "# Subset survey data to keep observations inside country boundaries\n",
    "dhs_data_subset = dhs_data[dhs_data[\"inside_boundaries\"] == True]"
   ]
  },
  {
   "cell_type": "code",
   "execution_count": 6,
   "metadata": {},
   "outputs": [],
   "source": [
    "# Add weighted average wealth index \n",
    "distance_list = [2.5, 5, 10]\n",
    "add_labels_dict = {\"1d\": meta_data_1d, \n",
    "                  \"50d\": meta_data_50d, \n",
    "                  \"100d\": meta_data_100d}\n",
    "\n",
    "for distance in distance_list:\n",
    "    for key, value in add_labels_dict.items():\n",
    "        labeled_data = add_labels(distance, value, dhs_data_subset)\n",
    "        \n",
    "        # Write full labeled data to s3\n",
    "        filename = \"labeled_data_\" + str(distance).replace(\".\", \"_\") + \"_\" + key + \".csv\"\n",
    "        labeled_data.to_csv(\"s3://w210-poverty-mapper/modeling/metadata/labeled_metadata/\" + filename, index=False)"
   ]
  },
  {
   "cell_type": "code",
   "execution_count": 7,
   "metadata": {},
   "outputs": [],
   "source": [
    "# Load labeled data from s3\n",
    "labeled_data_2_5k_1d = pd.read_csv(\"s3://w210-poverty-mapper/modeling/metadata/labeled_metadata/labeled_data_2_5k_1d.csv\")\n",
    "labeled_data_5k_1d = pd.read_csv(\"s3://w210-poverty-mapper/modeling/metadata/labeled_metadata/labeled_data_5k_1d.csv\")\n",
    "labeled_data_10k_1d = pd.read_csv(\"s3://w210-poverty-mapper/modeling/metadata/labeled_metadata/labeled_data_10k_1d.csv\") \n",
    "\n",
    "labeled_data_2_5k_50d = pd.read_csv(\"s3://w210-poverty-mapper/modeling/metadata/labeled_metadata/labeled_data_2_5k_50d.csv\")\n",
    "labeled_data_5k_50d = pd.read_csv(\"s3://w210-poverty-mapper/modeling/metadata/labeled_metadata/labeled_data_5k_50d.csv\")\n",
    "labeled_data_10k_50d = pd.read_csv(\"s3://w210-poverty-mapper/modeling/metadata/labeled_metadata/labeled_data_10k_50d.csv\") \n",
    "\n",
    "labeled_data_2_5k_100d = pd.read_csv(\"s3://w210-poverty-mapper/modeling/metadata/labeled_metadata/labeled_data_2_5k_100d.csv\")\n",
    "labeled_data_5k_100d = pd.read_csv(\"s3://w210-poverty-mapper/modeling/metadata/labeled_metadata/labeled_data_5k_100d.csv\")\n",
    "labeled_data_10k_100d = pd.read_csv(\"s3://w210-poverty-mapper/modeling/metadata/labeled_metadata/labeled_data_10k_100d.csv\") "
   ]
  },
  {
   "cell_type": "code",
   "execution_count": 8,
   "metadata": {},
   "outputs": [
    {
     "name": "stderr",
     "output_type": "stream",
     "text": [
      "/root/poverty-mapper/model/add_labels.py:116: SettingWithCopyWarning: \n",
      "A value is trying to be set on a copy of a slice from a DataFrame.\n",
      "Try using .loc[row_indexer,col_indexer] = value instead\n",
      "\n",
      "See the caveats in the documentation: https://pandas.pydata.org/pandas-docs/stable/user_guide/indexing.html#returning-a-view-versus-a-copy\n",
      "  labels_only[\"label_name\"] = pd.qcut(labels_only[\"weighted_index\"], q=quantile_list)\n",
      "/root/poverty-mapper/model/add_labels.py:117: SettingWithCopyWarning: \n",
      "A value is trying to be set on a copy of a slice from a DataFrame.\n",
      "Try using .loc[row_indexer,col_indexer] = value instead\n",
      "\n",
      "See the caveats in the documentation: https://pandas.pydata.org/pandas-docs/stable/user_guide/indexing.html#returning-a-view-versus-a-copy\n",
      "  labels_only [\"label\"] = pd.qcut(labels_only[\"weighted_index\"], q=quantile_list, labels=False)\n",
      "/root/poverty-mapper/model/add_labels.py:104: SettingWithCopyWarning: \n",
      "A value is trying to be set on a copy of a slice from a DataFrame.\n",
      "Try using .loc[row_indexer,col_indexer] = value instead\n",
      "\n",
      "See the caveats in the documentation: https://pandas.pydata.org/pandas-docs/stable/user_guide/indexing.html#returning-a-view-versus-a-copy\n",
      "  labels_only[\"label_name\"] = pd.qcut(labels_only[\"weighted_index\"], q=num_classes)\n",
      "/root/poverty-mapper/model/add_labels.py:105: SettingWithCopyWarning: \n",
      "A value is trying to be set on a copy of a slice from a DataFrame.\n",
      "Try using .loc[row_indexer,col_indexer] = value instead\n",
      "\n",
      "See the caveats in the documentation: https://pandas.pydata.org/pandas-docs/stable/user_guide/indexing.html#returning-a-view-versus-a-copy\n",
      "  labels_only [\"label\"] = pd.qcut(labels_only[\"weighted_index\"], q=num_classes, labels=False)\n",
      "/root/poverty-mapper/model/add_labels.py:121: SettingWithCopyWarning: \n",
      "A value is trying to be set on a copy of a slice from a DataFrame.\n",
      "Try using .loc[row_indexer,col_indexer] = value instead\n",
      "\n",
      "See the caveats in the documentation: https://pandas.pydata.org/pandas-docs/stable/user_guide/indexing.html#returning-a-view-versus-a-copy\n",
      "  [\"countries\"])[\"weighted_index\"].apply(lambda x: pd.qcut(x, q=quantile_list))\n",
      "/root/poverty-mapper/model/add_labels.py:123: SettingWithCopyWarning: \n",
      "A value is trying to be set on a copy of a slice from a DataFrame.\n",
      "Try using .loc[row_indexer,col_indexer] = value instead\n",
      "\n",
      "See the caveats in the documentation: https://pandas.pydata.org/pandas-docs/stable/user_guide/indexing.html#returning-a-view-versus-a-copy\n",
      "  [\"countries\"])[\"weighted_index\"].apply(lambda x: pd.qcut(x, q=quantile_list,\n",
      "/root/poverty-mapper/model/add_labels.py:109: SettingWithCopyWarning: \n",
      "A value is trying to be set on a copy of a slice from a DataFrame.\n",
      "Try using .loc[row_indexer,col_indexer] = value instead\n",
      "\n",
      "See the caveats in the documentation: https://pandas.pydata.org/pandas-docs/stable/user_guide/indexing.html#returning-a-view-versus-a-copy\n",
      "  [\"countries\"])[\"weighted_index\"].apply(lambda x: pd.qcut(x, q=num_classes))\n",
      "/root/poverty-mapper/model/add_labels.py:111: SettingWithCopyWarning: \n",
      "A value is trying to be set on a copy of a slice from a DataFrame.\n",
      "Try using .loc[row_indexer,col_indexer] = value instead\n",
      "\n",
      "See the caveats in the documentation: https://pandas.pydata.org/pandas-docs/stable/user_guide/indexing.html#returning-a-view-versus-a-copy\n",
      "  [\"countries\"])[\"weighted_index\"].apply(lambda x: pd.qcut(x, q=num_classes,\n"
     ]
    }
   ],
   "source": [
    "# Add bins \n",
    "bin_types = [\"across\", \"within\"]\n",
    "num_classes = [2, 5]\n",
    "quantile_lists = [[0, 0.20, 1], [0, 0.50, 1]]\n",
    "\n",
    "labeled_data_dict = {\"2_5k_1d\": labeled_data_2_5k_1d, \n",
    "                      \"5k_1d\": labeled_data_5k_1d,\n",
    "                      \"10k_1d\": labeled_data_10k_1d, \n",
    "                      \"2_5k_50d\": labeled_data_2_5k_50d, \n",
    "                      \"5k_50d\": labeled_data_5k_50d,\n",
    "                      \"10k_50d\": labeled_data_10k_50d, \n",
    "                      \"2_5k_100d\": labeled_data_2_5k_100d, \n",
    "                      \"5k_100d\": labeled_data_5k_100d,\n",
    "                      \"10k_100d\": labeled_data_10k_100d}\n",
    "\n",
    "for bin_type in bin_types:\n",
    "    for num in num_classes:\n",
    "        for quantile in quantile_lists:\n",
    "            for key, value in labeled_data_dict.items():\n",
    "                \n",
    "                if num == 2:\n",
    "                    binned_data = add_bins(value, bin_type, num, quantile_list=quantile)\n",
    "                else:\n",
    "                    binned_data = add_bins(value, bin_type, num, quantile_list=False)\n",
    "                    \n",
    "                if num == 2:\n",
    "                    filename =  \"labels_only_\" + key + \"_\" + bin_type + \"_\" + str(num) + \"_\" + str(quantile[1]) + \".csv\"        \n",
    "                else: \n",
    "                    filename =  \"labels_only_\" + key + \"_\" + bin_type + \"_\" + str(num) + \".csv\"\n",
    "                    \n",
    "                # Write labeled data with bins to s3\n",
    "                binned_data.to_csv(\"s3://w210-poverty-mapper/modeling/metadata/labeled_metadata/\" + filename , index=False)\n"
   ]
  },
  {
   "cell_type": "code",
   "execution_count": null,
   "metadata": {},
   "outputs": [],
   "source": []
  }
 ],
 "metadata": {
  "instance_type": "ml.t3.medium",
  "kernelspec": {
   "display_name": "Python 3 (Data Science)",
   "language": "python",
   "name": "python3__SAGEMAKER_INTERNAL__arn:aws:sagemaker:us-east-1:081325390199:image/datascience-1.0"
  },
  "language_info": {
   "codemirror_mode": {
    "name": "ipython",
    "version": 3
   },
   "file_extension": ".py",
   "mimetype": "text/x-python",
   "name": "python",
   "nbconvert_exporter": "python",
   "pygments_lexer": "ipython3",
   "version": "3.7.10"
  }
 },
 "nbformat": 4,
 "nbformat_minor": 5
}
