{
 "cells": [
  {
   "cell_type": "code",
   "execution_count": 1,
   "metadata": {},
   "outputs": [],
   "source": [
    "import boto3\n",
    "import s3fs\n",
    "from sagemaker import get_execution_role\n",
    "import pickle\n",
    "import pandas as pd\n",
    "import geopandas as gpd\n",
    "import sagemaker\n",
    "import os\n",
    "import requests\n",
    "import zipfile\n",
    "import io\n",
    "import glob"
   ]
  },
  {
   "cell_type": "code",
   "execution_count": 2,
   "metadata": {},
   "outputs": [],
   "source": [
    "def list_s3_files(bucket, directory_path):\n",
    "    contents = conn.list_objects(Bucket=bucket, Prefix=directory_path)['Contents']\n",
    "    for f in contents:\n",
    "        print(f['Key'])"
   ]
  },
  {
   "cell_type": "code",
   "execution_count": 3,
   "metadata": {},
   "outputs": [],
   "source": [
    "# Set variables\n",
    "sess = sagemaker.Session()\n",
    "role = get_execution_role()\n",
    "conn = boto3.client(\"s3\")\n",
    "bucket = \"w210-poverty-mapper\"\n",
    "subfolder = \"shape_files\"\n",
    "\n",
    "# Set urls\n",
    "shape_url = \"https://international.ipums.org/international/resources/gis/IPUMSI_world_release2020.zip\"\n",
    "box_url = \"https://data.humdata.org/dataset/6992403a-d9dc-4962-b97e-c30abd1feefc/resource/aec5d77d-095a-4d42-8a13-5193ec18a6a9/download/country-boundingboxes.csv\""
   ]
  },
  {
   "cell_type": "code",
   "execution_count": 4,
   "metadata": {},
   "outputs": [],
   "source": [
    "# Download IPUMS world shapes\n",
    "shape_r = requests.get(shape_url)\n",
    "shape_z = zipfile.ZipFile(io.BytesIO(shape_r.content))\n",
    "shape_z.extractall(\"/root\")"
   ]
  },
  {
   "cell_type": "code",
   "execution_count": 5,
   "metadata": {},
   "outputs": [],
   "source": [
    "# Write IPUMS world shapes to s3\n",
    "for file in glob.glob(\"/root/world_countries*\"):\n",
    "    sess.upload_data(file, bucket=bucket, key_prefix=\"shape_files/raw_data/ipums_world_shapes\")\n",
    "    os.remove(file)"
   ]
  },
  {
   "cell_type": "code",
   "execution_count": 6,
   "metadata": {},
   "outputs": [
    {
     "name": "stdout",
     "output_type": "stream",
     "text": [
      "shape_files/raw_data/ipums_world_shapes/world_countries_2020.CPG\n",
      "shape_files/raw_data/ipums_world_shapes/world_countries_2020.dbf\n",
      "shape_files/raw_data/ipums_world_shapes/world_countries_2020.prj\n",
      "shape_files/raw_data/ipums_world_shapes/world_countries_2020.sbn\n",
      "shape_files/raw_data/ipums_world_shapes/world_countries_2020.sbx\n",
      "shape_files/raw_data/ipums_world_shapes/world_countries_2020.shp\n",
      "shape_files/raw_data/ipums_world_shapes/world_countries_2020.shp.xml\n",
      "shape_files/raw_data/ipums_world_shapes/world_countries_2020.shx\n",
      "shape_files/raw_data/ocha_bounding_boxes/country-boundingboxes.csv\n"
     ]
    }
   ],
   "source": [
    "# List files in s3 bucket\n",
    "list_s3_files(bucket, subfolder)"
   ]
  },
  {
   "cell_type": "code",
   "execution_count": 7,
   "metadata": {},
   "outputs": [],
   "source": [
    "# Download OCHA country bounding boxes\n",
    "boxes = pd.read_csv(box_url)"
   ]
  },
  {
   "cell_type": "code",
   "execution_count": 8,
   "metadata": {},
   "outputs": [],
   "source": [
    "# Write OCHA country bounding boxes to s3\n",
    "save_path = subfolder + \"/raw_data/ocha_bounding_boxes\" \n",
    "boxes.to_csv(\"s3://{}/{}/country-boundingboxes.csv\".format(bucket, save_path))"
   ]
  },
  {
   "cell_type": "code",
   "execution_count": 9,
   "metadata": {},
   "outputs": [
    {
     "name": "stdout",
     "output_type": "stream",
     "text": [
      "shape_files/raw_data/ipums_world_shapes/world_countries_2020.CPG\n",
      "shape_files/raw_data/ipums_world_shapes/world_countries_2020.dbf\n",
      "shape_files/raw_data/ipums_world_shapes/world_countries_2020.prj\n",
      "shape_files/raw_data/ipums_world_shapes/world_countries_2020.sbn\n",
      "shape_files/raw_data/ipums_world_shapes/world_countries_2020.sbx\n",
      "shape_files/raw_data/ipums_world_shapes/world_countries_2020.shp\n",
      "shape_files/raw_data/ipums_world_shapes/world_countries_2020.shp.xml\n",
      "shape_files/raw_data/ipums_world_shapes/world_countries_2020.shx\n",
      "shape_files/raw_data/ocha_bounding_boxes/country-boundingboxes.csv\n"
     ]
    }
   ],
   "source": [
    "# List files in s3 bucket\n",
    "list_s3_files(bucket, subfolder)"
   ]
  },
  {
   "cell_type": "code",
   "execution_count": null,
   "metadata": {},
   "outputs": [],
   "source": []
  }
 ],
 "metadata": {
  "instance_type": "ml.t3.medium",
  "kernelspec": {
   "display_name": "Python 3 (Data Science)",
   "language": "python",
   "name": "python3__SAGEMAKER_INTERNAL__arn:aws:sagemaker:us-east-1:081325390199:image/datascience-1.0"
  },
  "language_info": {
   "codemirror_mode": {
    "name": "ipython",
    "version": 3
   },
   "file_extension": ".py",
   "mimetype": "text/x-python",
   "name": "python",
   "nbconvert_exporter": "python",
   "pygments_lexer": "ipython3",
   "version": "3.7.10"
  }
 },
 "nbformat": 4,
 "nbformat_minor": 4
}
