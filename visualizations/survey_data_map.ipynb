{
 "cells": [
  {
   "cell_type": "code",
   "execution_count": 1,
   "metadata": {},
   "outputs": [],
   "source": [
    "#!pip install pycountry\n",
    "#!pip install mapclassify"
   ]
  },
  {
   "cell_type": "code",
   "execution_count": 2,
   "metadata": {},
   "outputs": [],
   "source": [
    "import urllib.request as urllib2\n",
    "import json\n",
    "import pandas as pd\n",
    "import geopandas as gpd\n",
    "import pycountry \n",
    "import matplotlib.pyplot as plt\n",
    "import mapclassify\n",
    "import numpy as np"
   ]
  },
  {
   "cell_type": "code",
   "execution_count": 3,
   "metadata": {},
   "outputs": [],
   "source": [
    "def alpha3code(column):\n",
    "    \"Get country alpha 3 code for merge with polygons\"\n",
    "    CODE=[]\n",
    "    for country in column:\n",
    "        try:\n",
    "            code=pycountry.countries.get(name=country).alpha_3\n",
    "            CODE.append(code)\n",
    "        except:\n",
    "            CODE.append('None')\n",
    "    return CODE"
   ]
  },
  {
   "cell_type": "code",
   "execution_count": 4,
   "metadata": {},
   "outputs": [],
   "source": [
    "# Query the API for a list of countries\n",
    "countries_url = (\"https://api.dhsprogram.com/rest/dhs/countries\")\n",
    " \n",
    "# Obtain and parse list\n",
    "country_req = urllib2.urlopen(countries_url)\n",
    "country_resp = json.loads(country_req.read())\n",
    "country_data = country_resp['Data']\n",
    " \n",
    "# Get list of county codes\n",
    "country_codes = []\n",
    "\n",
    "for country in country_data:\n",
    "    country_codes.append(country['DHS_CountryCode'])"
   ]
  },
  {
   "cell_type": "code",
   "execution_count": 5,
   "metadata": {},
   "outputs": [
    {
     "name": "stdout",
     "output_type": "stream",
     "text": [
      "AF : Afghanistan\n",
      "AL : Albania\n",
      "AO : Angola\n",
      "AM : Armenia\n",
      "AZ : Azerbaijan\n",
      "BD : Bangladesh\n",
      "BJ : Benin\n",
      "BO : Bolivia\n",
      "BT : Botswana\n",
      "BR : Brazil\n",
      "BF : Burkina Faso\n",
      "BU : Burundi\n",
      "KH : Cambodia\n",
      "CM : Cameroon\n",
      "CV : Cape Verde\n",
      "CF : Central African Republic\n",
      "TD : Chad\n",
      "CO : Colombia\n",
      "KM : Comoros\n",
      "CG : Congo\n",
      "CD : Congo Democratic Republic\n",
      "CI : Cote d'Ivoire\n",
      "DR : Dominican Republic\n",
      "EC : Ecuador\n",
      "EG : Egypt\n",
      "ES : El Salvador\n",
      "EK : Equatorial Guinea\n",
      "ER : Eritrea\n",
      "SZ : Eswatini\n",
      "ET : Ethiopia\n",
      "GA : Gabon\n",
      "GM : Gambia\n",
      "GH : Ghana\n",
      "GU : Guatemala\n",
      "GN : Guinea\n",
      "GY : Guyana\n",
      "HT : Haiti\n",
      "HN : Honduras\n",
      "IA : India\n",
      "ID : Indonesia\n",
      "JO : Jordan\n",
      "KK : Kazakhstan\n",
      "KE : Kenya\n",
      "KY : Kyrgyz Republic\n",
      "LA : Lao People's Democratic Republic\n",
      "LS : Lesotho\n",
      "LB : Liberia\n",
      "MD : Madagascar\n",
      "MW : Malawi\n",
      "MV : Maldives\n",
      "ML : Mali\n",
      "MR : Mauritania\n",
      "MX : Mexico\n",
      "MB : Moldova\n",
      "MA : Morocco\n",
      "MZ : Mozambique\n",
      "MM : Myanmar\n",
      "NM : Namibia\n",
      "NP : Nepal\n",
      "NC : Nicaragua\n",
      "NI : Niger\n",
      "NG : Nigeria\n",
      "OS : Nigeria (Ondo State)\n",
      "PK : Pakistan\n",
      "PG : Papua New Guinea\n",
      "PY : Paraguay\n",
      "PE : Peru\n",
      "PH : Philippines\n",
      "RW : Rwanda\n",
      "WS : Samoa\n",
      "ST : Sao Tome and Principe\n",
      "SN : Senegal\n",
      "SL : Sierra Leone\n",
      "ZA : South Africa\n",
      "LK : Sri Lanka\n",
      "SD : Sudan\n",
      "TJ : Tajikistan\n",
      "TZ : Tanzania\n",
      "TH : Thailand\n",
      "TL : Timor-Leste\n",
      "TG : Togo\n",
      "TT : Trinidad and Tobago\n",
      "TN : Tunisia\n",
      "TR : Turkey\n",
      "TM : Turkmenistan\n",
      "UG : Uganda\n",
      "UA : Ukraine\n",
      "UZ : Uzbekistan\n",
      "VN : Vietnam\n",
      "YE : Yemen\n",
      "ZM : Zambia\n",
      "ZW : Zimbabwe\n"
     ]
    }
   ],
   "source": [
    "# Print country codes and names\n",
    "for country in country_data:\n",
    "    print(country['DHS_CountryCode'] + ' : ' + country['CountryName'])"
   ]
  },
  {
   "cell_type": "code",
   "execution_count": 6,
   "metadata": {},
   "outputs": [
    {
     "name": "stdout",
     "output_type": "stream",
     "text": [
      "Processing AF\n",
      "Processing AL\n",
      "Processing AO\n",
      "Processing AM\n",
      "Processing AZ\n",
      "Processing BD\n",
      "Processing BJ\n",
      "Processing BO\n",
      "Processing BT\n",
      "Processing BR\n",
      "Processing BF\n",
      "Processing BU\n",
      "Processing KH\n",
      "Processing CM\n",
      "Processing CV\n",
      "Processing CF\n",
      "Processing TD\n",
      "Processing CO\n",
      "Processing KM\n",
      "Processing CG\n",
      "Processing CD\n",
      "Processing CI\n",
      "Processing DR\n",
      "Processing EC\n",
      "Processing EG\n",
      "Processing ES\n",
      "Processing EK\n",
      "Processing ER\n",
      "Processing SZ\n",
      "Processing ET\n",
      "Processing GA\n",
      "Processing GM\n",
      "Processing GH\n",
      "Processing GU\n",
      "Processing GN\n",
      "Processing GY\n",
      "Processing HT\n",
      "Processing HN\n",
      "Processing IA\n",
      "Processing ID\n",
      "Processing JO\n",
      "Processing KK\n",
      "Processing KE\n",
      "Processing KY\n",
      "Processing LA\n",
      "Processing LS\n",
      "Processing LB\n",
      "Processing MD\n",
      "Processing MW\n",
      "Processing MV\n",
      "Processing ML\n",
      "Processing MR\n",
      "Processing MX\n",
      "Processing MB\n",
      "Processing MA\n",
      "Processing MZ\n",
      "Processing MM\n",
      "Processing NM\n",
      "Processing NP\n",
      "Processing NC\n",
      "Processing NI\n",
      "Processing NG\n",
      "Processing OS\n",
      "Processing PK\n",
      "Processing PG\n",
      "Processing PY\n",
      "Processing PE\n",
      "Processing PH\n",
      "Processing RW\n",
      "Processing WS\n",
      "Processing ST\n",
      "Processing SN\n",
      "Processing SL\n",
      "Processing ZA\n",
      "Processing LK\n",
      "Processing SD\n",
      "Processing TJ\n",
      "Processing TZ\n",
      "Processing TH\n",
      "Processing TL\n",
      "Processing TG\n",
      "Processing TT\n",
      "Processing TN\n",
      "Processing TR\n",
      "Processing TM\n",
      "Processing UG\n",
      "Processing UA\n",
      "Processing UZ\n",
      "Processing VN\n",
      "Processing YE\n",
      "Processing ZM\n",
      "Processing ZW\n"
     ]
    }
   ],
   "source": [
    "# Create empty dataframe to capture results\n",
    "combined = pd.DataFrame()\n",
    "\n",
    "# Get survey data for each country\n",
    "for country_code in country_codes:\n",
    "    \n",
    "    print(\"Processing {}\".format(country_code))\n",
    "    \n",
    "    # Query the API for country datasets\n",
    "    datasets_url = (\"http://api.dhsprogram.com/rest/dhs/v7/datasets?countryIds={}\".format(country_code))\n",
    "    \n",
    "    # Obtain and Parse list\n",
    "    req = urllib2.urlopen(datasets_url)\n",
    "    \n",
    "    resp = json.loads(req.read())\n",
    "    \n",
    "    data = resp['Data']\n",
    "    \n",
    "    data_df = pd.DataFrame.from_dict(data)\n",
    "    \n",
    "    combined = combined.append(data_df)\n",
    "        "
   ]
  },
  {
   "cell_type": "code",
   "execution_count": 7,
   "metadata": {},
   "outputs": [
    {
     "data": {
      "text/plain": [
       "(13799, 13)"
      ]
     },
     "execution_count": 7,
     "metadata": {},
     "output_type": "execute_result"
    }
   ],
   "source": [
    "# Check dataframe shape\n",
    "combined.shape"
   ]
  },
  {
   "cell_type": "code",
   "execution_count": 8,
   "metadata": {},
   "outputs": [
    {
     "data": {
      "text/plain": [
       "DHS    10991\n",
       "SPA     1476\n",
       "MIS      690\n",
       "OTH      288\n",
       "AIS      251\n",
       "SPE      103\n",
       "Name: SurveyType, dtype: int64"
      ]
     },
     "execution_count": 8,
     "metadata": {},
     "output_type": "execute_result"
    }
   ],
   "source": [
    "# Get counts of survey types\n",
    "combined[\"SurveyType\"].value_counts()\n",
    "\n",
    "# SPA - Service provision assessment\n",
    "# MIS - Malaris indicator survey\n",
    "# AIS - AIDS indicator survey"
   ]
  },
  {
   "cell_type": "code",
   "execution_count": 9,
   "metadata": {},
   "outputs": [
    {
     "data": {
      "text/plain": [
       "array(['2010', '2015', '2018', '2008', '2017', '2006', '2011', '2000',\n",
       "       '2005', '2016', '1994', '1997', '1999', '2001', '2004', '2007',\n",
       "       '2014', '1996', '2012', '1989', '1998', '2003', '1986', '1991',\n",
       "       '1993', '1987', '1990', '1995', '2009', '2013', '2002', '1988',\n",
       "       '1992', '1985', '2019', '2020'], dtype=object)"
      ]
     },
     "execution_count": 9,
     "metadata": {},
     "output_type": "execute_result"
    }
   ],
   "source": [
    "# Print unique survey years\n",
    "combined[\"SurveyYear\"].unique()"
   ]
  },
  {
   "cell_type": "code",
   "execution_count": 10,
   "metadata": {},
   "outputs": [
    {
     "data": {
      "text/plain": [
       "array(['Afghanistan', 'Albania', 'Angola', 'Armenia', 'Azerbaijan',\n",
       "       'Bangladesh', 'Benin', 'Bolivia', 'Brazil', 'Burkina Faso',\n",
       "       'Burundi', 'Cambodia', 'Cameroon', 'Central African Republic',\n",
       "       'Chad', 'Colombia', 'Comoros', 'Congo',\n",
       "       'Congo Democratic Republic', \"Cote d'Ivoire\", 'Dominican Republic',\n",
       "       'Ecuador', 'Egypt', 'El Salvador', 'Eswatini', 'Ethiopia', 'Gabon',\n",
       "       'Gambia', 'Ghana', 'Guatemala', 'Guinea', 'Guyana', 'Haiti',\n",
       "       'Honduras', 'India', 'Indonesia', 'Jordan', 'Kazakhstan', 'Kenya',\n",
       "       'Kyrgyz Republic', 'Lesotho', 'Liberia', 'Madagascar', 'Malawi',\n",
       "       'Maldives', 'Mali', 'Mexico', 'Moldova', 'Morocco', 'Mozambique',\n",
       "       'Myanmar', 'Namibia', 'Nepal', 'Nicaragua', 'Niger', 'Nigeria',\n",
       "       'Nigeria (Ondo State)', 'Pakistan', 'Papua New Guinea', 'Paraguay',\n",
       "       'Peru', 'Philippines', 'Rwanda', 'Sao Tome and Principe',\n",
       "       'Senegal', 'Sierra Leone', 'South Africa', 'Sri Lanka', 'Sudan',\n",
       "       'Tajikistan', 'Tanzania', 'Thailand', 'Timor-Leste', 'Togo',\n",
       "       'Trinidad and Tobago', 'Tunisia', 'Turkey', 'Uganda', 'Ukraine',\n",
       "       'Uzbekistan', 'Vietnam', 'Yemen', 'Zambia', 'Zimbabwe'],\n",
       "      dtype=object)"
      ]
     },
     "execution_count": 10,
     "metadata": {},
     "output_type": "execute_result"
    }
   ],
   "source": [
    "# Print unique country names\n",
    "combined[\"CountryName\"].unique()"
   ]
  },
  {
   "cell_type": "code",
   "execution_count": 11,
   "metadata": {},
   "outputs": [],
   "source": [
    "# Drop duplicates (several types of files for each survey)\n",
    "combined_unique = combined.drop_duplicates(subset=[\"SurveyType\", \"SurveyYear\", \"CountryName\"], keep=\"first\")"
   ]
  },
  {
   "cell_type": "code",
   "execution_count": 12,
   "metadata": {},
   "outputs": [
    {
     "data": {
      "text/plain": [
       "(391, 13)"
      ]
     },
     "execution_count": 12,
     "metadata": {},
     "output_type": "execute_result"
    }
   ],
   "source": [
    "# Check shape\n",
    "combined_unique.shape"
   ]
  },
  {
   "cell_type": "code",
   "execution_count": 13,
   "metadata": {},
   "outputs": [
    {
     "name": "stderr",
     "output_type": "stream",
     "text": [
      "/opt/conda/lib/python3.7/site-packages/ipykernel_launcher.py:2: SettingWithCopyWarning: \n",
      "A value is trying to be set on a copy of a slice from a DataFrame.\n",
      "Try using .loc[row_indexer,col_indexer] = value instead\n",
      "\n",
      "See the caveats in the documentation: https://pandas.pydata.org/pandas-docs/stable/user_guide/indexing.html#returning-a-view-versus-a-copy\n",
      "  \n"
     ]
    },
    {
     "data": {
      "text/plain": [
       "array([2010, 2015, 2018, 2008, 2017, 2006, 2011, 2000, 2005, 2016, 1994,\n",
       "       1997, 1999, 2001, 2004, 2007, 2014, 1996, 2012, 1989, 1998, 2003,\n",
       "       1986, 1991, 1993, 1987, 1990, 1995, 2009, 2013, 2002, 1988, 1992,\n",
       "       1985, 2019, 2020])"
      ]
     },
     "execution_count": 13,
     "metadata": {},
     "output_type": "execute_result"
    }
   ],
   "source": [
    "# Create survey recency column\n",
    "combined_unique[\"year_int\"] = combined_unique[\"SurveyYear\"].astype(int)\n",
    "combined_unique[\"year_int\"].unique()"
   ]
  },
  {
   "cell_type": "code",
   "execution_count": 14,
   "metadata": {},
   "outputs": [],
   "source": [
    "# Keep relevant surveys\n",
    "relevent_surveys = [\"DHS\", \"OTH\", \"SPE\"]\n",
    "combined_unique_subset = combined_unique.loc[combined_unique[\"SurveyType\"].isin(relevent_surveys)]"
   ]
  },
  {
   "cell_type": "code",
   "execution_count": 15,
   "metadata": {},
   "outputs": [
    {
     "data": {
      "text/plain": [
       "DHS    292\n",
       "OTH     22\n",
       "SPE      4\n",
       "Name: SurveyType, dtype: int64"
      ]
     },
     "execution_count": 15,
     "metadata": {},
     "output_type": "execute_result"
    }
   ],
   "source": [
    "# Count relevant surveys\n",
    "combined_unique_subset[\"SurveyType\"].value_counts()"
   ]
  },
  {
   "cell_type": "code",
   "execution_count": 16,
   "metadata": {},
   "outputs": [
    {
     "name": "stderr",
     "output_type": "stream",
     "text": [
      "/opt/conda/lib/python3.7/site-packages/ipykernel_launcher.py:2: SettingWithCopyWarning: \n",
      "A value is trying to be set on a copy of a slice from a DataFrame.\n",
      "Try using .loc[row_indexer,col_indexer] = value instead\n",
      "\n",
      "See the caveats in the documentation: https://pandas.pydata.org/pandas-docs/stable/user_guide/indexing.html#returning-a-view-versus-a-copy\n",
      "  \n"
     ]
    }
   ],
   "source": [
    "# Calculate how many years since each survey\n",
    "combined_unique_subset[\"years_ago\"] = 2021 - combined_unique_subset[\"year_int\"] + 1"
   ]
  },
  {
   "cell_type": "code",
   "execution_count": 17,
   "metadata": {},
   "outputs": [],
   "source": [
    "# Reset index\n",
    "combined_unique_subset = combined_unique_subset.reset_index()"
   ]
  },
  {
   "cell_type": "code",
   "execution_count": 18,
   "metadata": {},
   "outputs": [],
   "source": [
    "# Keep most recent record for each country\n",
    "recent_surveys = combined_unique_subset.loc[combined_unique_subset.groupby(\"CountryName\").years_ago.idxmin()]"
   ]
  },
  {
   "cell_type": "code",
   "execution_count": 19,
   "metadata": {},
   "outputs": [],
   "source": [
    "# Get alpha3 code for merge with country shapes\n",
    "recent_surveys[\"CODE\"] = alpha3code(recent_surveys[\"CountryName\"])"
   ]
  },
  {
   "cell_type": "code",
   "execution_count": 20,
   "metadata": {},
   "outputs": [
    {
     "data": {
      "text/plain": [
       "array(['AFG', 'ALB', 'AGO', 'ARM', 'AZE', 'BGD', 'BEN', 'None', 'BRA',\n",
       "       'BFA', 'BDI', 'KHM', 'CMR', 'CAF', 'TCD', 'COL', 'COM', 'COG',\n",
       "       'DOM', 'ECU', 'EGY', 'SLV', 'SWZ', 'ETH', 'GAB', 'GMB', 'GHA',\n",
       "       'GTM', 'GIN', 'GUY', 'HTI', 'HND', 'IND', 'IDN', 'JOR', 'KAZ',\n",
       "       'KEN', 'LSO', 'LBR', 'MDG', 'MWI', 'MDV', 'MLI', 'MEX', 'MAR',\n",
       "       'MOZ', 'MMR', 'NAM', 'NPL', 'NIC', 'NER', 'NGA', 'PAK', 'PNG',\n",
       "       'PRY', 'PER', 'PHL', 'RWA', 'STP', 'SEN', 'SLE', 'ZAF', 'LKA',\n",
       "       'SDN', 'TJK', 'THA', 'TLS', 'TGO', 'TTO', 'TUN', 'TUR', 'UGA',\n",
       "       'UKR', 'UZB', 'YEM', 'ZMB', 'ZWE'], dtype=object)"
      ]
     },
     "execution_count": 20,
     "metadata": {},
     "output_type": "execute_result"
    }
   ],
   "source": [
    "recent_surveys[\"CODE\"].unique()"
   ]
  },
  {
   "cell_type": "code",
   "execution_count": 21,
   "metadata": {
    "scrolled": true
   },
   "outputs": [
    {
     "data": {
      "text/html": [
       "<div>\n",
       "<style scoped>\n",
       "    .dataframe tbody tr th:only-of-type {\n",
       "        vertical-align: middle;\n",
       "    }\n",
       "\n",
       "    .dataframe tbody tr th {\n",
       "        vertical-align: top;\n",
       "    }\n",
       "\n",
       "    .dataframe thead th {\n",
       "        text-align: right;\n",
       "    }\n",
       "</style>\n",
       "<table border=\"1\" class=\"dataframe\">\n",
       "  <thead>\n",
       "    <tr style=\"text-align: right;\">\n",
       "      <th></th>\n",
       "      <th>index</th>\n",
       "      <th>FileFormat</th>\n",
       "      <th>FileSize</th>\n",
       "      <th>DatasetType</th>\n",
       "      <th>SurveyNum</th>\n",
       "      <th>SurveyId</th>\n",
       "      <th>FileType</th>\n",
       "      <th>FileDateLastModified</th>\n",
       "      <th>SurveyType</th>\n",
       "      <th>SurveyYearLabel</th>\n",
       "      <th>SurveyYear</th>\n",
       "      <th>DHS_CountryCode</th>\n",
       "      <th>FileName</th>\n",
       "      <th>CountryName</th>\n",
       "      <th>year_int</th>\n",
       "      <th>years_ago</th>\n",
       "      <th>CODE</th>\n",
       "    </tr>\n",
       "  </thead>\n",
       "  <tbody>\n",
       "    <tr>\n",
       "      <th>28</th>\n",
       "      <td>143</td>\n",
       "      <td>Hierarchical ASCII data (.dat)</td>\n",
       "      <td>13944987</td>\n",
       "      <td>Survey Datasets</td>\n",
       "      <td>319</td>\n",
       "      <td>BO2008DHS</td>\n",
       "      <td>Individual Recode</td>\n",
       "      <td>March, 01 2010 09:21:50</td>\n",
       "      <td>DHS</td>\n",
       "      <td>2008</td>\n",
       "      <td>2008</td>\n",
       "      <td>BO</td>\n",
       "      <td>BOIR51.ZIP</td>\n",
       "      <td>Bolivia</td>\n",
       "      <td>2008</td>\n",
       "      <td>14</td>\n",
       "      <td>None</td>\n",
       "    </tr>\n",
       "    <tr>\n",
       "      <th>65</th>\n",
       "      <td>37</td>\n",
       "      <td>Flat ASCII data (.dat)</td>\n",
       "      <td>996906</td>\n",
       "      <td>GPS Datasets</td>\n",
       "      <td>421</td>\n",
       "      <td>CD2013DHS</td>\n",
       "      <td>Geospatial Covariates</td>\n",
       "      <td>September, 06 2018 16:09:17</td>\n",
       "      <td>DHS</td>\n",
       "      <td>2013-14</td>\n",
       "      <td>2013</td>\n",
       "      <td>CD</td>\n",
       "      <td>CDGC62FL.ZIP</td>\n",
       "      <td>Congo Democratic Republic</td>\n",
       "      <td>2013</td>\n",
       "      <td>9</td>\n",
       "      <td>None</td>\n",
       "    </tr>\n",
       "    <tr>\n",
       "      <th>68</th>\n",
       "      <td>115</td>\n",
       "      <td>Hierarchical ASCII data (.dat)</td>\n",
       "      <td>105321</td>\n",
       "      <td>HIV Datasets</td>\n",
       "      <td>311</td>\n",
       "      <td>CI2012DHS</td>\n",
       "      <td>HIV Test Results Recode</td>\n",
       "      <td>June, 26 2013 13:25:52</td>\n",
       "      <td>DHS</td>\n",
       "      <td>2011-12</td>\n",
       "      <td>2012</td>\n",
       "      <td>CI</td>\n",
       "      <td>CIAR61.ZIP</td>\n",
       "      <td>Cote d'Ivoire</td>\n",
       "      <td>2012</td>\n",
       "      <td>10</td>\n",
       "      <td>None</td>\n",
       "    </tr>\n",
       "    <tr>\n",
       "      <th>157</th>\n",
       "      <td>31</td>\n",
       "      <td>Flat ASCII data (.dat)</td>\n",
       "      <td>801914</td>\n",
       "      <td>GPS Datasets</td>\n",
       "      <td>383</td>\n",
       "      <td>KY2012DHS</td>\n",
       "      <td>Geospatial Covariates</td>\n",
       "      <td>September, 06 2018 16:09:39</td>\n",
       "      <td>DHS</td>\n",
       "      <td>2012</td>\n",
       "      <td>2012</td>\n",
       "      <td>KY</td>\n",
       "      <td>KYGC62FL.ZIP</td>\n",
       "      <td>Kyrgyz Republic</td>\n",
       "      <td>2012</td>\n",
       "      <td>10</td>\n",
       "      <td>None</td>\n",
       "    </tr>\n",
       "    <tr>\n",
       "      <th>185</th>\n",
       "      <td>0</td>\n",
       "      <td>Flat ASCII data (.dat)</td>\n",
       "      <td>96434</td>\n",
       "      <td>GPS Datasets</td>\n",
       "      <td>258</td>\n",
       "      <td>MB2005DHS</td>\n",
       "      <td>Geographic Data</td>\n",
       "      <td>March, 05 2012 18:26:54</td>\n",
       "      <td>DHS</td>\n",
       "      <td>2005</td>\n",
       "      <td>2005</td>\n",
       "      <td>MB</td>\n",
       "      <td>MBGE52FL.zip</td>\n",
       "      <td>Moldova</td>\n",
       "      <td>2005</td>\n",
       "      <td>17</td>\n",
       "      <td>None</td>\n",
       "    </tr>\n",
       "    <tr>\n",
       "      <th>215</th>\n",
       "      <td>0</td>\n",
       "      <td>Stata dataset (.dta)</td>\n",
       "      <td>787027</td>\n",
       "      <td>Survey Datasets</td>\n",
       "      <td>8</td>\n",
       "      <td>OS1986SPE</td>\n",
       "      <td>Births Recode</td>\n",
       "      <td>June, 06 2007 11:29:36</td>\n",
       "      <td>SPE</td>\n",
       "      <td>1986</td>\n",
       "      <td>1986</td>\n",
       "      <td>OS</td>\n",
       "      <td>OSBR01dt.zip</td>\n",
       "      <td>Nigeria (Ondo State)</td>\n",
       "      <td>1986</td>\n",
       "      <td>36</td>\n",
       "      <td>None</td>\n",
       "    </tr>\n",
       "    <tr>\n",
       "      <th>278</th>\n",
       "      <td>464</td>\n",
       "      <td>Stata dataset (.dta)</td>\n",
       "      <td>6514245</td>\n",
       "      <td>Survey Datasets</td>\n",
       "      <td>485</td>\n",
       "      <td>TZ2015DHS</td>\n",
       "      <td>Births Recode</td>\n",
       "      <td>September, 28 2019 17:58:14</td>\n",
       "      <td>DHS</td>\n",
       "      <td>2015-16</td>\n",
       "      <td>2015</td>\n",
       "      <td>TZ</td>\n",
       "      <td>TZBR7BDT.ZIP</td>\n",
       "      <td>Tanzania</td>\n",
       "      <td>2015</td>\n",
       "      <td>7</td>\n",
       "      <td>None</td>\n",
       "    </tr>\n",
       "    <tr>\n",
       "      <th>303</th>\n",
       "      <td>31</td>\n",
       "      <td>Hierarchical ASCII data (.dat)</td>\n",
       "      <td>47323</td>\n",
       "      <td>Survey Datasets</td>\n",
       "      <td>209</td>\n",
       "      <td>VN2002DHS</td>\n",
       "      <td>Wealth Index</td>\n",
       "      <td>April, 06 2007 10:02:50</td>\n",
       "      <td>DHS</td>\n",
       "      <td>2002</td>\n",
       "      <td>2002</td>\n",
       "      <td>VN</td>\n",
       "      <td>VNWI41.ZIP</td>\n",
       "      <td>Vietnam</td>\n",
       "      <td>2002</td>\n",
       "      <td>20</td>\n",
       "      <td>None</td>\n",
       "    </tr>\n",
       "  </tbody>\n",
       "</table>\n",
       "</div>"
      ],
      "text/plain": [
       "     index                      FileFormat  FileSize      DatasetType  \\\n",
       "28     143  Hierarchical ASCII data (.dat)  13944987  Survey Datasets   \n",
       "65      37          Flat ASCII data (.dat)    996906     GPS Datasets   \n",
       "68     115  Hierarchical ASCII data (.dat)    105321     HIV Datasets   \n",
       "157     31          Flat ASCII data (.dat)    801914     GPS Datasets   \n",
       "185      0          Flat ASCII data (.dat)     96434     GPS Datasets   \n",
       "215      0            Stata dataset (.dta)    787027  Survey Datasets   \n",
       "278    464            Stata dataset (.dta)   6514245  Survey Datasets   \n",
       "303     31  Hierarchical ASCII data (.dat)     47323  Survey Datasets   \n",
       "\n",
       "     SurveyNum   SurveyId                 FileType  \\\n",
       "28         319  BO2008DHS        Individual Recode   \n",
       "65         421  CD2013DHS    Geospatial Covariates   \n",
       "68         311  CI2012DHS  HIV Test Results Recode   \n",
       "157        383  KY2012DHS    Geospatial Covariates   \n",
       "185        258  MB2005DHS          Geographic Data   \n",
       "215          8  OS1986SPE            Births Recode   \n",
       "278        485  TZ2015DHS            Births Recode   \n",
       "303        209  VN2002DHS             Wealth Index   \n",
       "\n",
       "            FileDateLastModified SurveyType SurveyYearLabel SurveyYear  \\\n",
       "28       March, 01 2010 09:21:50        DHS            2008       2008   \n",
       "65   September, 06 2018 16:09:17        DHS         2013-14       2013   \n",
       "68        June, 26 2013 13:25:52        DHS         2011-12       2012   \n",
       "157  September, 06 2018 16:09:39        DHS            2012       2012   \n",
       "185      March, 05 2012 18:26:54        DHS            2005       2005   \n",
       "215       June, 06 2007 11:29:36        SPE            1986       1986   \n",
       "278  September, 28 2019 17:58:14        DHS         2015-16       2015   \n",
       "303      April, 06 2007 10:02:50        DHS            2002       2002   \n",
       "\n",
       "    DHS_CountryCode      FileName                CountryName  year_int  \\\n",
       "28               BO    BOIR51.ZIP                    Bolivia      2008   \n",
       "65               CD  CDGC62FL.ZIP  Congo Democratic Republic      2013   \n",
       "68               CI    CIAR61.ZIP              Cote d'Ivoire      2012   \n",
       "157              KY  KYGC62FL.ZIP            Kyrgyz Republic      2012   \n",
       "185              MB  MBGE52FL.zip                    Moldova      2005   \n",
       "215              OS  OSBR01dt.zip       Nigeria (Ondo State)      1986   \n",
       "278              TZ  TZBR7BDT.ZIP                   Tanzania      2015   \n",
       "303              VN    VNWI41.ZIP                    Vietnam      2002   \n",
       "\n",
       "     years_ago  CODE  \n",
       "28          14  None  \n",
       "65           9  None  \n",
       "68          10  None  \n",
       "157         10  None  \n",
       "185         17  None  \n",
       "215         36  None  \n",
       "278          7  None  \n",
       "303         20  None  "
      ]
     },
     "execution_count": 21,
     "metadata": {},
     "output_type": "execute_result"
    }
   ],
   "source": [
    "# Check countries with no code\n",
    "recent_surveys[recent_surveys[\"CODE\"] == \"None\"]"
   ]
  },
  {
   "cell_type": "code",
   "execution_count": 22,
   "metadata": {},
   "outputs": [],
   "source": [
    "# Remove Nigeria (Ondo State) \n",
    "recent_surveys.drop(recent_surveys.index[recent_surveys[\"CountryName\"] == \"Nigeria (Ondo State)\"], inplace = True)"
   ]
  },
  {
   "cell_type": "code",
   "execution_count": 23,
   "metadata": {},
   "outputs": [],
   "source": [
    "# Create recode dictionary for alpha3 codes that didn't work\n",
    "recodes = {\"Bolivia\": \"BOL\", \n",
    "           \"Congo Democratic Republic\": \"COD\",\n",
    "           \"Cote d'Ivoire\": \"CIV\",\n",
    "           \"Kyrgyz Republic\": \"KGZ\",\n",
    "           \"Moldova\": \"MDA\", \n",
    "           \"Tanzania\": \"TZA\", \n",
    "           \"Vietnam\": \"VNM\"}\n",
    "\n",
    "recent_surveys[\"CODE\"] = recent_surveys.apply(lambda row: recodes[row[\"CountryName\"]] if row[\"CountryName\"] in recodes else row[\"CODE\"], axis=1)"
   ]
  },
  {
   "cell_type": "code",
   "execution_count": 24,
   "metadata": {},
   "outputs": [
    {
     "data": {
      "text/html": [
       "<div>\n",
       "<style scoped>\n",
       "    .dataframe tbody tr th:only-of-type {\n",
       "        vertical-align: middle;\n",
       "    }\n",
       "\n",
       "    .dataframe tbody tr th {\n",
       "        vertical-align: top;\n",
       "    }\n",
       "\n",
       "    .dataframe thead th {\n",
       "        text-align: right;\n",
       "    }\n",
       "</style>\n",
       "<table border=\"1\" class=\"dataframe\">\n",
       "  <thead>\n",
       "    <tr style=\"text-align: right;\">\n",
       "      <th></th>\n",
       "      <th>index</th>\n",
       "      <th>FileFormat</th>\n",
       "      <th>FileSize</th>\n",
       "      <th>DatasetType</th>\n",
       "      <th>SurveyNum</th>\n",
       "      <th>SurveyId</th>\n",
       "      <th>FileType</th>\n",
       "      <th>FileDateLastModified</th>\n",
       "      <th>SurveyType</th>\n",
       "      <th>SurveyYearLabel</th>\n",
       "      <th>SurveyYear</th>\n",
       "      <th>DHS_CountryCode</th>\n",
       "      <th>FileName</th>\n",
       "      <th>CountryName</th>\n",
       "      <th>year_int</th>\n",
       "      <th>years_ago</th>\n",
       "      <th>CODE</th>\n",
       "    </tr>\n",
       "  </thead>\n",
       "  <tbody>\n",
       "  </tbody>\n",
       "</table>\n",
       "</div>"
      ],
      "text/plain": [
       "Empty DataFrame\n",
       "Columns: [index, FileFormat, FileSize, DatasetType, SurveyNum, SurveyId, FileType, FileDateLastModified, SurveyType, SurveyYearLabel, SurveyYear, DHS_CountryCode, FileName, CountryName, year_int, years_ago, CODE]\n",
       "Index: []"
      ]
     },
     "execution_count": 24,
     "metadata": {},
     "output_type": "execute_result"
    }
   ],
   "source": [
    "# Check that all countries have a code\n",
    "recent_surveys[recent_surveys[\"CODE\"] == \"None\"]"
   ]
  },
  {
   "cell_type": "code",
   "execution_count": 25,
   "metadata": {},
   "outputs": [],
   "source": [
    "# Load world data to get polygons\n",
    "world = gpd.read_file(gpd.datasets.get_path('naturalearth_lowres'))\n",
    "\n",
    "# Rename the columns for merge\n",
    "world.columns=[\"pop_est\", \"continent\", \"name\", \"CODE\", \"gdp_md_est\", \"geometry\"]\n",
    "\n",
    "# Merge with survey data \n",
    "merged = pd.merge(world, recent_surveys, on=\"CODE\", how=\"outer\")"
   ]
  },
  {
   "cell_type": "code",
   "execution_count": 26,
   "metadata": {},
   "outputs": [],
   "source": [
    "# Replce missing with large value\n",
    "merged[\"years_ago_recode\"] = merged[\"years_ago\"].fillna(100)"
   ]
  },
  {
   "cell_type": "code",
   "execution_count": 27,
   "metadata": {},
   "outputs": [],
   "source": [
    "# Replace high income countries w/missing\n",
    "\n",
    "high_income = [\"Austria\", \"Australia\", \"Bahrain\", \"Barbados\", \"Belgium\", \"Brunei\",\n",
    "\"Darussalam\", \"Canada\", \"Chile\", \"Croatia\", \"Cyprus\", \"Czechia\", \"Denmark\", \"Estonia\",\n",
    "\"Eq. Guinea\", \"Estonia\", \"Finland\", \"France\", \"Germany\", \"Greece\", \"Hong Kong\", \n",
    "\"Iceland\", \"Ireland\", \"Israel\", \"Italy\", \"Japan\", \"Kuwait\", \"South Korea\", \"Latvia\", \"Lithuania\",\n",
    "\"Luxembourg\", \"Malta\", \"Netherlands\", \"New Zealand\", \"Norway\", \"Oman\", \"Poland\", \"Portugal\",\n",
    "\"Qatar\", \"Russia\", \"Saudi Arabia\", \"Singapore\", \"Slovakia\", \"Slovenia\", \"Spain\", \"Sweden\", \n",
    "\"Switzerland\", \"Taiwan\", \"Trinidad and Tobago\", \"United Arab Emirates\", \"United Kingdom\", \n",
    "\"United States of America\", \"Uruguay\", \"Greenland\", \"Antarctica\"]\n",
    "#https://www.un.org/en/development/desa/policy/wesp/wesp_current/2014wesp_country_classification.pdf\n",
    "\n",
    "merged[\"years_ago_recode\"] = np.where(merged[\"name\"].isin(high_income), np.nan, merged[\"years_ago_recode\"])"
   ]
  },
  {
   "cell_type": "code",
   "execution_count": 28,
   "metadata": {},
   "outputs": [
    {
     "data": {
      "text/plain": [
       "<Figure size 432x288 with 0 Axes>"
      ]
     },
     "metadata": {},
     "output_type": "display_data"
    },
    {
     "data": {
      "image/png": "[encoded data removed]",
      "text/plain": [
       "<Figure size 1800x1440 with 1 Axes>"
      ]
     },
     "metadata": {
      "needs_background": "light"
     },
     "output_type": "display_data"
    }
   ],
   "source": [
    "# Get map of recent surveys \n",
    "orig_map=plt.cm.get_cmap(\"RdYlBu\")\n",
    " \n",
    "# reversing the original colormap using reversed() function\n",
    "reversed_map = orig_map.reversed()\n",
    "\n",
    "# Plot years since last survey plot confirmed cases world map \n",
    "fig = plt.figure()\n",
    "ax = merged.plot(column=\"years_ago_recode\", \n",
    "            scheme=\"User_Defined\",\n",
    "            figsize=(25, 20),\n",
    "            missing_kwds={\"color\": \"lightgrey\", \"label\": \"High Income Countries\"},\n",
    "            legend=True, \n",
    "            legend_kwds={\"fmt\": \"{:.0f}\", \n",
    "                         \"fontsize\": 24,\n",
    "                         \"labels\": [\"Less than 5 Years Old\", \"More than 5 Years Old\"], \n",
    "                         \"markerscale\": 1.5,\n",
    "                         \"loc\": \"lower right\"},\n",
    "            \n",
    "            cmap=reversed_map,\n",
    "            classification_kwds=dict(bins=[5]))\n",
    "\n",
    "ax.set_title(\"Available Demographic and Health Surveys (as of 2021)\", fontdict={'fontsize': 34, 'fontweight': 'medium'})\n",
    "ax.set_axis_off()\n",
    "\n",
    "plt.savefig(\"survey_data_map.png\")"
   ]
  },
  {
   "cell_type": "code",
   "execution_count": 29,
   "metadata": {},
   "outputs": [],
   "source": [
    "# Get indicators for summary staistics\n",
    "merged[\"recent_5\"] = np.where(merged[\"years_ago_recode\"] <= 5, 1, 0)\n",
    "merged[\"recent_5\"] = np.where(merged[\"years_ago_recode\"].isna(), np.nan, merged[\"recent_5\"])\n",
    "\n",
    "merged[\"recent_10\"] = np.where(merged[\"years_ago_recode\"] <= 10, 1, 0)\n",
    "merged[\"recent_10\"] = np.where(merged[\"years_ago_recode\"].isna(), np.nan, merged[\"recent_10\"])"
   ]
  },
  {
   "cell_type": "code",
   "execution_count": 30,
   "metadata": {},
   "outputs": [
    {
     "data": {
      "text/plain": [
       "0.0    111\n",
       "NaN     48\n",
       "1.0     21\n",
       "Name: recent_5, dtype: int64"
      ]
     },
     "execution_count": 30,
     "metadata": {},
     "output_type": "execute_result"
    }
   ],
   "source": [
    "# Get counts for last 5 years\n",
    "merged[\"recent_5\"].value_counts(dropna=False)"
   ]
  },
  {
   "cell_type": "code",
   "execution_count": 31,
   "metadata": {},
   "outputs": [
    {
     "data": {
      "text/plain": [
       "0.0    77\n",
       "1.0    55\n",
       "NaN    48\n",
       "Name: recent_10, dtype: int64"
      ]
     },
     "execution_count": 31,
     "metadata": {},
     "output_type": "execute_result"
    }
   ],
   "source": [
    "# Get counts for last 10 years\n",
    "merged[\"recent_10\"].value_counts(dropna=False)"
   ]
  },
  {
   "cell_type": "code",
   "execution_count": null,
   "metadata": {},
   "outputs": [],
   "source": []
  }
 ],
 "metadata": {
  "instance_type": "ml.t3.medium",
  "kernelspec": {
   "display_name": "Python 3 (Data Science)",
   "language": "python",
   "name": "python3__SAGEMAKER_INTERNAL__arn:aws:sagemaker:us-east-1:081325390199:image/datascience-1.0"
  },
  "language_info": {
   "codemirror_mode": {
    "name": "ipython",
    "version": 3
   },
   "file_extension": ".py",
   "mimetype": "text/x-python",
   "name": "python",
   "nbconvert_exporter": "python",
   "pygments_lexer": "ipython3",
   "version": "3.7.10"
  }
 },
 "nbformat": 4,
 "nbformat_minor": 4
}
