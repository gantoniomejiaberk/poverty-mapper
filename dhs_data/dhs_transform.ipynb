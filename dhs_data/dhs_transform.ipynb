{
 "cells": [
  {
   "cell_type": "code",
   "execution_count": null,
   "metadata": {},
   "outputs": [],
   "source": [
    "# NOTES: \n",
    "    # Imputing \"other\" in water, toilet, floor w/ most common cluster value (as per DHS guidance)\n",
    "    # Exluding motorboat, watch, animal cart from possible utensils due to high number of NAN\n",
    "    # 82 hh report 10+ rooms; could be multi-generational hh, but # of hh members varies\n",
    "    # Pakistan GPS data is incomplete"
   ]
  },
  {
   "cell_type": "code",
   "execution_count": null,
   "metadata": {},
   "outputs": [],
   "source": [
    "import pandas as pd\n",
    "import numpy as np\n",
    "import timeit\n",
    "\n",
    "from dhs_transform import get_counts, cat_recode, range_recode, multi_recode, recode, spot_check, check_cat_recodes"
   ]
  },
  {
   "cell_type": "code",
   "execution_count": null,
   "metadata": {},
   "outputs": [],
   "source": [
    "# Read from zipped csv and check runtime\n",
    "start = timeit.default_timer()\n",
    "combined_dhs = pd.read_csv(\"s3://w210-poverty-mapper/dhs_data/transformed_data/combined_dhs.csv.zip\", low_memory=False)\n",
    "stop = timeit.default_timer()\n",
    "print('Time: ', round((stop - start)/60, 2))"
   ]
  },
  {
   "cell_type": "code",
   "execution_count": null,
   "metadata": {},
   "outputs": [],
   "source": [
    "# Define relevant column dictionary\n",
    "relevant_columns = { \"dhscc\": \"country\", \n",
    "                    \"hv001\": \"cluster\", \n",
    "                    \"LATNUM\": \"lat\", \n",
    "                    \"LONGNUM\": \"lon\",\n",
    "                    \"hv025\": \"urban\",\n",
    "                    \"hv009\": \"members\",\n",
    "                    \"hv201\": \"water\", \n",
    "                    \"hv205\": \"toilet\", \n",
    "                    \"hv213\": \"floor\", \n",
    "                    \"hv216\": \"rooms\", \n",
    "                    \"hv206\": \"electricity\", \n",
    "                    \"hv208\": \"tv\", \n",
    "                    \"hv209\": \"fridge\", \n",
    "                    \"hv221\": \"landline\", \n",
    "                    \"hv243a\": \"mobile\",\n",
    "                    \"hv212\": \"car\", \n",
    "                    \"hv210\": \"bike\", \n",
    "                    \"hv243e\": \"computer\",\n",
    "                    \"hv211\": \"motorcycle_scooter\", \n",
    "                    \"hv243d\": \"motorboat\", \n",
    "                    \"hv243b\": \"watch\",\n",
    "                    \"hv207\": \"radio\", \n",
    "                    \"hv243c\": \"animal_cart\"}\n",
    "\n",
    "# Keep relevant columns\n",
    "combined_dhs_subset = combined_dhs[relevant_columns.keys()]\n",
    "#combined_dhs_subset.head()\n",
    "\n",
    "# Rename relevant columns\n",
    "combined_dhs_subset = combined_dhs_subset.rename(\n",
    "    columns=relevant_columns)\n",
    "#combined_dhs_subset.head()"
   ]
  },
  {
   "cell_type": "code",
   "execution_count": null,
   "metadata": {},
   "outputs": [],
   "source": [
    "# Describe relevant columns\n",
    "combined_dhs_subset.describe()"
   ]
  },
  {
   "cell_type": "code",
   "execution_count": null,
   "metadata": {},
   "outputs": [],
   "source": [
    "# Check value counts\n",
    "count_cols = [col for col in combined_dhs_subset.columns if col not in [\"cluster\", \"lat\", \"lon\"]]\n",
    "get_counts(count_cols)"
   ]
  },
  {
   "cell_type": "code",
   "execution_count": null,
   "metadata": {},
   "outputs": [],
   "source": [
    "# Check cluster count per country\n",
    "combined_dhs_subset.groupby(\"country\")[\"cluster\"].nunique()"
   ]
  },
  {
   "cell_type": "code",
   "execution_count": null,
   "metadata": {},
   "outputs": [],
   "source": [
    "# Check \"other\" counts\n",
    "other_cols = [\"water\", \"toilet\", \"floor\"]\n",
    "\n",
    "print(\"Other value counts:\")\n",
    "for col in other_cols: \n",
    "    print(\"{}: {}\".format(col, combined_dhs_subset[combined_dhs_subset[col] == 96].shape[0]))"
   ]
  },
  {
   "cell_type": "code",
   "execution_count": null,
   "metadata": {},
   "outputs": [],
   "source": [
    "# Impute \"other\" w/most common cluster value\n",
    "for col in other_cols:\n",
    "    mode = combined_dhs_subset.groupby([\"country\", \"cluster\"])[col].transform(lambda x: x.mode()[0])\n",
    "    combined_dhs_subset[col + \"_impute\"] = np.where(combined_dhs_subset[col] == 96, mode, combined_dhs_subset[col])"
   ]
  },
  {
   "cell_type": "code",
   "execution_count": null,
   "metadata": {},
   "outputs": [],
   "source": [
    "# Count number of houses reporting 10+ rooms\n",
    "combined_dhs_subset[combined_dhs_subset[\"rooms\"] >= 10].shape[0]"
   ]
  },
  {
   "cell_type": "code",
   "execution_count": null,
   "metadata": {},
   "outputs": [],
   "source": [
    "# Check household members for houses reporting 10+ rooms\n",
    "combined_dhs_subset[combined_dhs_subset[\"rooms\"] >= 10].groupby(\"rooms\").agg({\"members\": [\"mean\", \"min\", \"max\"]})"
   ]
  },
  {
   "cell_type": "code",
   "execution_count": null,
   "metadata": {},
   "outputs": [],
   "source": [
    "# Define recode dictionaries\n",
    "# https://dhsprogram.com/pubs/pdf/DHSG4/Recode7_Map_31Aug2018_DHSG4.pdf\n",
    "# See Pakistan and Philippines .map files for additional categories\n",
    "\n",
    "# WATER SUPPLY\n",
    "# high quality is private piped water or bottled water;\n",
    "# middle quality is public tap or standpipe, tubewell or borehole, protected well or spring, or tanker truck;\n",
    "# low quality is unprotected well or spring, cart with tank/drum, or surface water.\n",
    "water_types = {\"dict_type\": \"cat\", \n",
    "               \"var\": \"water_impute\",\n",
    "               \"types\":{\"water_low\": [32, 40, 42, 43, 51, 62, 96], \n",
    "                             \"water_med\": [14, 20, 21, 30, 31, 41, 61, 63], \n",
    "                             \"water_high\": [10, 11, 12, 13, 71]}}\n",
    "\n",
    "# TOILET FACILITY\n",
    "# high quality is private flush toilet (or flush toilet if private unknown);\n",
    "# middle quality is public toilet, ventilated/improved pit latrine, pit latrine with slab, or composting toilet;\n",
    "# low quality is pit latrine without slab, open pit, bucket, hanging toilet or no toilet.\n",
    "toilet_types = {\"dict_type\": \"cat\", \n",
    "                \"var\": \"toilet_impute\", \n",
    "                \"types\": {\"toilet_low\": [20, 23, 30, 31, 42, 43, 96], \n",
    "                              \"toilet_med\": [21, 22, 41, 71], \n",
    "                              \"toilet_high\": [10, 11, 12, 13, 14, 15]}}\n",
    "\n",
    "# FLOOR QUALITY\n",
    "# high quality is finished floor with parquet, carpet, tiles, linoleum, ceramic etc.;\n",
    "# middle quality is cement, concrete, wood, bamboo etc.;\n",
    "# low quality is none, earth, dung etc.\n",
    "floor_types = {\"dict_type\": \"cat\", \n",
    "               \"var\": \"floor_impute\",\n",
    "               \"types\": {\"floor_low\": [11, 12, 96], \n",
    "                              \"floor_med\": [21, 22], \n",
    "                              \"floor_high\": [31, 32, 33, 34, 35, 36, 37, 38, 39]}}\n",
    "\n",
    "# ROOMS USED FOR SLEEPING\n",
    "# Zero or one; two; three or more\n",
    "rooms = {\"dict_type\": \"range\", \n",
    "         \"var\": \"rooms\", \n",
    "         \"types\": {\"rooms_zero_one\": [0, 1], \"rooms_two\": [2, 2], \"rooms_three_plus\": [3, np.inf]}}\n",
    "\n",
    "# PHONE\n",
    "phone = {\"dict_type\": \"multi_var\", \n",
    "         \"var\": [\"landline\", \"mobile\"], \n",
    "         \"types\": {\"phone\": [1]}}\n",
    "# Landline NAN (n=4); Mobile NAN (n=5)\n",
    "\n",
    "# EXPENSIVE UTENSIL\n",
    "# possession of expensive utensil (over 250 US Dollar)\n",
    "expensive_utensil = {\"dict_type\": \"multi_var\", \n",
    "         \"var\": [\"car\", \"computer\", \"motorcycle_scooter\"], \n",
    "         \"types\": {\"expensive_utensil\": [1]}}\n",
    "\n",
    "# CHEAP UTENSIL\n",
    "# possession of cheap utensil (roughly under 50 US Dollar)\n",
    "# include households with expensive utensil (see above), high quality floor or toilet facility, \n",
    "# TV, fridge, phone, bicycle, watch, radio, animal drawn cart\n",
    "cheap_utensil = {\"dict_type\": \"multi_var\", \n",
    "         \"var\": [\"expensive_utensil\", \"toilet_high\", \"floor_high\", \"tv\", \n",
    "                 \"fridge\", \"phone\", \"bike\", \"radio\"], \n",
    "         \"types\": {\"cheap_utensil\": [1]}}\n"
   ]
  },
  {
   "cell_type": "code",
   "execution_count": null,
   "metadata": {
    "scrolled": true
   },
   "outputs": [],
   "source": [
    "# Create indicators derived from single variable\n",
    "single_dict_list = [water_types, toilet_types, floor_types, rooms]\n",
    "recode(single_dict_list)"
   ]
  },
  {
   "cell_type": "code",
   "execution_count": null,
   "metadata": {},
   "outputs": [],
   "source": [
    "# Create indicators derived from multiple variables \n",
    "# (list order matters - these depend on each other and single variable recodes)\n",
    "multi_dict_list = [phone, expensive_utensil, cheap_utensil]\n",
    "recode(multi_dict_list)"
   ]
  },
  {
   "cell_type": "code",
   "execution_count": null,
   "metadata": {},
   "outputs": [],
   "source": [
    "# Spot check recodes\n",
    "#spot_check(water_types, 25)\n",
    "#spot_check(toilet_types, 25)\n",
    "#spot_check(floor_types, 25)\n",
    "#spot_check(rooms, 25)\n",
    "#spot_check(electricity, 1000)\n",
    "#spot_check(tv, 25) \n",
    "#spot_check(fridge, 25)\n",
    "#spot_check(car, 25) \n",
    "#spot_check(motorboat, 2000)\n",
    "#spot_check(bike, 2000)\n",
    "#spot_check(landline, 25)\n",
    "#spot_check(mobile, 25)\n",
    "#spot_check(computer, 25)\n",
    "#spot_check(motorcycle_scooter, 25)\n",
    "#spot_check(watch, 25) \n",
    "#spot_check(radio, 25)\n",
    "#spot_check(animal_cart, 25)\n",
    "#spot_check(phone, 25)\n",
    "#spot_check(expensive_utensil, 25)\n",
    "#spot_check(cheap_utensil, 25)"
   ]
  },
  {
   "cell_type": "code",
   "execution_count": null,
   "metadata": {},
   "outputs": [],
   "source": [
    "# Check for double or skipped counting\n",
    "cat_list = [\"water\", \"toilet\", \"floor\"]\n",
    "check_cat_recodes(cat_list)"
   ]
  },
  {
   "cell_type": "code",
   "execution_count": null,
   "metadata": {},
   "outputs": [],
   "source": [
    "# Set International Wealth Index (IWI) weights\n",
    "# https://globaldatalab.org/iwi/using/\n",
    "constant = 25.00447\n",
    "weight_dict = {\"tv\": 8.612657, \n",
    "               \"fridge\": 8.429076, \n",
    "               \"phone\": 7.127699, \n",
    "               \"car\": 4.651382, \n",
    "               \"bike\": 1.84686, \n",
    "               \"cheap_utensil\": 4.118394,\n",
    "               \"expensive_utensil\": 6.507283, \n",
    "               \"floor_low\": -7.558471, \n",
    "               \"floor_med\": 1.227531, \n",
    "               \"floor_high\": 6.107428, \n",
    "               \"toilet_low\": -7.439841,\n",
    "               \"toilet_med\": -1.090393,\n",
    "               \"toilet_high\": 8.140637,\n",
    "               \"rooms_zero_one\": -3.699681, \n",
    "               \"rooms_two\": 0.38405, \n",
    "               \"rooms_three_plus\": 3.445009,\n",
    "               \"electricity\": 8.056664,\n",
    "               \"water_low\": -6.306477,\n",
    "               \"water_med\": -2.302023,\n",
    "               \"water_high\": 7.952443}\n",
    "\n",
    "weight_columns = weight_dict.keys()\n",
    "weight_values = [weight_dict[col] for col in weight_columns]"
   ]
  },
  {
   "cell_type": "code",
   "execution_count": null,
   "metadata": {},
   "outputs": [],
   "source": [
    "# Check index input column counts\n",
    "get_counts(weight_columns)"
   ]
  },
  {
   "cell_type": "code",
   "execution_count": null,
   "metadata": {},
   "outputs": [],
   "source": [
    "# Count missing values by country\n",
    "missing_count_cols = [item for item in weight_columns]\n",
    "missing_count_cols.append(\"country\")\n",
    "combined_dhs_subset[missing_count_cols].groupby(\n",
    "    [\"country\"]).count().rsub(\n",
    "    combined_dhs_subset.groupby([\"country\"]).size(), axis=0)"
   ]
  },
  {
   "cell_type": "code",
   "execution_count": null,
   "metadata": {},
   "outputs": [],
   "source": [
    "# Calculate household International Wealth Index (IWI)\n",
    "combined_dhs_subset[\"wealth_index\"] = constant + combined_dhs_subset[weight_columns].dot(weight_values)\n",
    "#combined_dhs_subset.head()"
   ]
  },
  {
   "cell_type": "code",
   "execution_count": null,
   "metadata": {},
   "outputs": [],
   "source": [
    "# Keep final columns\n",
    "final_columns = [\"country\", \"cluster\", \"lat\", \"lon\", \"urban\", \"wealth_index\"] \n",
    "combined_dhs_subset_final = combined_dhs_subset[final_columns]\n",
    "#combined_dhs_subset.head()"
   ]
  },
  {
   "cell_type": "code",
   "execution_count": null,
   "metadata": {},
   "outputs": [],
   "source": [
    "# Count missing values by country\n",
    "combined_dhs_subset_final.groupby([\"country\"]).count().rsub(combined_dhs_subset_final.groupby([\"country\"]).size(), axis=0)"
   ]
  },
  {
   "cell_type": "code",
   "execution_count": null,
   "metadata": {},
   "outputs": [],
   "source": [
    "# Check missing count by country and cluster  \n",
    "combined_dhs_subset_final[combined_dhs_subset_final[\"wealth_index\"].isna()].groupby([\"country\", \"cluster\"])[\"cluster\"].count()"
   ]
  },
  {
   "cell_type": "code",
   "execution_count": null,
   "metadata": {},
   "outputs": [],
   "source": [
    "# Group by median cluster IWI\n",
    "dhs_wealth_index = combined_dhs_subset_final.groupby([\"country\", \"cluster\"]).median().reset_index()"
   ]
  },
  {
   "cell_type": "code",
   "execution_count": null,
   "metadata": {},
   "outputs": [],
   "source": [
    "# Check final dataset\n",
    "dhs_wealth_index.head()"
   ]
  },
  {
   "cell_type": "code",
   "execution_count": null,
   "metadata": {},
   "outputs": [],
   "source": [
    "# Check cluster counts\n",
    "dhs_wealth_index.groupby(\"country\")[\"cluster\"].nunique()"
   ]
  },
  {
   "cell_type": "code",
   "execution_count": null,
   "metadata": {},
   "outputs": [],
   "source": [
    "# Count missing values by country\n",
    "dhs_wealth_index.groupby([\"country\"]).count().rsub(dhs_wealth_index.groupby([\"country\"]).size(), axis=0)"
   ]
  },
  {
   "cell_type": "code",
   "execution_count": null,
   "metadata": {},
   "outputs": [],
   "source": [
    "# Write wealth index data as csv\n",
    "dhs_wealth_index.to_csv(\"s3://w210-poverty-mapper/dhs_data/transformed_data/dhs_wealth_index.csv\", index=False)"
   ]
  },
  {
   "cell_type": "code",
   "execution_count": null,
   "metadata": {},
   "outputs": [],
   "source": []
  }
 ],
 "metadata": {
  "instance_type": "ml.t3.medium",
  "kernelspec": {
   "display_name": "Python 3 (Data Science)",
   "language": "python",
   "name": "python3__SAGEMAKER_INTERNAL__arn:aws:sagemaker:us-east-1:081325390199:image/datascience-1.0"
  },
  "language_info": {
   "codemirror_mode": {
    "name": "ipython",
    "version": 3
   },
   "file_extension": ".py",
   "mimetype": "text/x-python",
   "name": "python",
   "nbconvert_exporter": "python",
   "pygments_lexer": "ipython3",
   "version": "3.7.10"
  }
 },
 "nbformat": 4,
 "nbformat_minor": 4
}
