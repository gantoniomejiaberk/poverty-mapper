{
 "cells": [
  {
   "cell_type": "code",
   "execution_count": null,
   "metadata": {},
   "outputs": [],
   "source": [
    "# Load libraries \n",
    "import pandas as pd\n",
    "import matplotlib.pyplot as plt\n",
    "import folium\n",
    "import folium.plugins\n",
    "import branca\n",
    "import branca.colormap as cm\n",
    "#import shapefile\n",
    "from shapely.geometry import shape, Point"
   ]
  },
  {
   "cell_type": "code",
   "execution_count": null,
   "metadata": {},
   "outputs": [],
   "source": [
    "# Read wealth index file \n",
    "dhs_wealth_index = pd.read_csv(\"s3://w210-poverty-mapper/dhs_data/transformed_data/dhs_wealth_index.csv\")"
   ]
  },
  {
   "cell_type": "code",
   "execution_count": null,
   "metadata": {},
   "outputs": [],
   "source": [
    "# Check number of rows and cols\n",
    "dhs_wealth_index.shape"
   ]
  },
  {
   "cell_type": "code",
   "execution_count": null,
   "metadata": {},
   "outputs": [],
   "source": [
    "dhs_wealth_index.describe()"
   ]
  },
  {
   "cell_type": "code",
   "execution_count": null,
   "metadata": {},
   "outputs": [],
   "source": [
    "# Count clusters by country\n",
    "dhs_wealth_index.groupby(\"country\")[\"cluster\"].nunique()"
   ]
  },
  {
   "cell_type": "code",
   "execution_count": null,
   "metadata": {},
   "outputs": [],
   "source": [
    "# Count clusters with lat = 0 & lon = 0\n",
    "dhs_wealth_index[(dhs_wealth_index[\"lat\"] == 0) & (dhs_wealth_index[\"lon\"] == 0) ].shape[0]"
   ]
  },
  {
   "cell_type": "code",
   "execution_count": null,
   "metadata": {},
   "outputs": [],
   "source": [
    "# Plot histograms of wealth index by country\n",
    "fig = plt.figure(figsize=(12,6))\n",
    "\n",
    "country_list = [c for c in dhs_wealth_index[\"country\"].unique()]\n",
    "#country_list\n",
    "\n",
    "for country, num in zip(country_list, range(1,7)):\n",
    "    ax = fig.add_subplot(2,3,num)\n",
    "    ax.hist(dhs_wealth_index[\"wealth_index\"][dhs_wealth_index[\"country\"] == country])\n",
    "    ax.set_title(country)\n",
    "    ax.set_ylim([0, 400])\n",
    "    ax.set_xlim([0, 100])\n",
    "\n",
    "plt.tight_layout()\n",
    "plt.show()"
   ]
  },
  {
   "cell_type": "code",
   "execution_count": null,
   "metadata": {},
   "outputs": [],
   "source": [
    "import pandas as pd\n",
    "# Load density data\n",
    "density = pd.read_csv(\"s3://w210-poverty-mapper/modeling/metadata/source_data/meta_data_full_updated_density_new_full_value_LZ.csv\")"
   ]
  },
  {
   "cell_type": "code",
   "execution_count": null,
   "metadata": {},
   "outputs": [],
   "source": [
    "density.head()"
   ]
  },
  {
   "cell_type": "code",
   "execution_count": null,
   "metadata": {},
   "outputs": [],
   "source": [
    "# Plot histograms of wealth index by country\n",
    "fig = plt.figure(figsize=(12,6))\n",
    "\n",
    "country_list = [c for c in density[\"countries\"].unique()]\n",
    "#country_list\n",
    "\n",
    "for country, num in zip(country_list, range(1,7)):\n",
    "    ax = fig.add_subplot(2,3,num)\n",
    "    ax.hist(density[\"Density\"][density[\"countries\"] == country])\n",
    "    ax.set_title(country)\n",
    "    ax.set_ylim([0, 1000000])\n",
    "    ax.set_xlim([0, 1000])\n",
    "\n",
    "plt.tight_layout()\n",
    "plt.show()"
   ]
  },
  {
   "cell_type": "code",
   "execution_count": null,
   "metadata": {},
   "outputs": [],
   "source": [
    "# Create base map\n",
    "colormap = cm.LinearColormap(colors=[\"red\", \"orange\", \"yellow\", \"lightgreen\", \"green\"], index=[0, 25, 50, 75, 100],vmin=0,vmax=100)\n",
    "\n",
    "map = folium.Map(location=[-6, 96], \n",
    "                 zoom_start=2.5, \n",
    "                 control_scale=True)\n",
    "\n",
    "folium.TileLayer(\"OpenStreetMap\").add_to(map)\n",
    "folium.TileLayer(\"Stamen Terrain\").add_to(map)\n",
    "folium.TileLayer(\"CartoDB positron\").add_to(map)\n",
    "folium.LayerControl(position=\"topleft\").add_to(map)"
   ]
  },
  {
   "cell_type": "code",
   "execution_count": null,
   "metadata": {
    "scrolled": true
   },
   "outputs": [],
   "source": [
    "# Add cluster GPS coordinates with pop-up\n",
    "for index, location_info in dhs_wealth_index.iterrows():\n",
    "    folium.Circle([location_info[\"lat\"],\n",
    "                   location_info[\"lon\"]], \n",
    "                  radius=2,\n",
    "                  color=colormap(location_info[\"wealth_index\"]),\n",
    "                  popup=location_info[[\"country\", \"cluster\", \"wealth_index\"]]).add_to(map)\n",
    "\n",
    "map.add_child(colormap)"
   ]
  },
  {
   "cell_type": "code",
   "execution_count": null,
   "metadata": {},
   "outputs": [],
   "source": []
  }
 ],
 "metadata": {
  "instance_type": "ml.t3.medium",
  "kernelspec": {
   "display_name": "Python 3 (Data Science)",
   "language": "python",
   "name": "python3__SAGEMAKER_INTERNAL__arn:aws:sagemaker:us-east-1:081325390199:image/datascience-1.0"
  },
  "language_info": {
   "codemirror_mode": {
    "name": "ipython",
    "version": 3
   },
   "file_extension": ".py",
   "mimetype": "text/x-python",
   "name": "python",
   "nbconvert_exporter": "python",
   "pygments_lexer": "ipython3",
   "version": "3.7.10"
  }
 },
 "nbformat": 4,
 "nbformat_minor": 4
}
