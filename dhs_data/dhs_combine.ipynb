{
 "cells": [
  {
   "cell_type": "code",
   "execution_count": null,
   "metadata": {},
   "outputs": [],
   "source": [
    "# Load libraries \n",
    "import os\n",
    "import pandas as pd\n",
    "import timeit\n",
    "import geopandas \n",
    "import boto3\n",
    "\n",
    "from dhs_combine import combine_surveys, combine_gps, merge_surveys_gps"
   ]
  },
  {
   "cell_type": "code",
   "execution_count": null,
   "metadata": {},
   "outputs": [],
   "source": [
    "# Get combined surveys and check runtime\n",
    "start = timeit.default_timer()\n",
    "combined_surveys = combine_surveys()\n",
    "stop = timeit.default_timer()\n",
    "print('Time: ', round((stop - start)/60, 2))"
   ]
  },
  {
   "cell_type": "code",
   "execution_count": null,
   "metadata": {},
   "outputs": [],
   "source": [
    "combined_surveys.shape"
   ]
  },
  {
   "cell_type": "code",
   "execution_count": null,
   "metadata": {},
   "outputs": [],
   "source": [
    "# Get combined gps and check runtime\n",
    "start = timeit.default_timer()\n",
    "combined_gps = combine_gps()\n",
    "stop = timeit.default_timer()\n",
    "print('Time: ', round((stop - start)/60, 2))"
   ]
  },
  {
   "cell_type": "code",
   "execution_count": null,
   "metadata": {},
   "outputs": [],
   "source": [
    "combined_gps.shape"
   ]
  },
  {
   "cell_type": "code",
   "execution_count": null,
   "metadata": {},
   "outputs": [],
   "source": [
    "start = timeit.default_timer()\n",
    "combined_gps.to_csv(\"combined_gps.csv\", index=False)\n",
    "stop = timeit.default_timer()\n",
    "print('Time: ', round((stop - start)/60, 2))"
   ]
  },
  {
   "cell_type": "code",
   "execution_count": null,
   "metadata": {},
   "outputs": [],
   "source": [
    "# Merge combined_surveys and combined_gps\n",
    "start = timeit.default_timer()\n",
    "combined_dhs = merge_surveys_gps(combined_surveys, combined_gps)\n",
    "stop = timeit.default_timer()\n",
    "print('Time: ', round((stop - start)/60, 2))"
   ]
  },
  {
   "cell_type": "code",
   "execution_count": null,
   "metadata": {},
   "outputs": [],
   "source": [
    "combined_dhs.shape"
   ]
  },
  {
   "cell_type": "code",
   "execution_count": null,
   "metadata": {},
   "outputs": [],
   "source": [
    "# Write combined data to s3\n",
    "combined_dhs.to_csv(\"s3://w210-poverty-mapper/dhs_data/transformed_data/combined_dhs.csv.zip\", index=False, compression=\"zip\")"
   ]
  }
 ],
 "metadata": {
  "instance_type": "ml.t3.medium",
  "kernelspec": {
   "display_name": "Python 3 (Data Science)",
   "language": "python",
   "name": "python3__SAGEMAKER_INTERNAL__arn:aws:sagemaker:us-east-1:081325390199:image/datascience-1.0"
  },
  "language_info": {
   "codemirror_mode": {
    "name": "ipython",
    "version": 3
   },
   "file_extension": ".py",
   "mimetype": "text/x-python",
   "name": "python",
   "nbconvert_exporter": "python",
   "pygments_lexer": "ipython3",
   "version": "3.7.10"
  }
 },
 "nbformat": 4,
 "nbformat_minor": 4
}
